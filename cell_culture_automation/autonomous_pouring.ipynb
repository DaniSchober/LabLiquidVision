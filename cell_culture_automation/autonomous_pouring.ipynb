{
 "cells": [
  {
   "cell_type": "code",
   "execution_count": 4,
   "metadata": {},
   "outputs": [
    {
     "ename": "ModuleNotFoundError",
     "evalue": "No module named 'pyrealsense2'",
     "output_type": "error",
     "traceback": [
      "\u001b[0;31m---------------------------------------------------------------------------\u001b[0m",
      "\u001b[0;31mModuleNotFoundError\u001b[0m                       Traceback (most recent call last)",
      "Cell \u001b[0;32mIn[4], line 4\u001b[0m\n\u001b[1;32m      1\u001b[0m \u001b[39mimport\u001b[39;00m \u001b[39mnumpy\u001b[39;00m \u001b[39mas\u001b[39;00m \u001b[39mnp\u001b[39;00m\n\u001b[1;32m      2\u001b[0m \u001b[39mimport\u001b[39;00m \u001b[39mpandas\u001b[39;00m \u001b[39mas\u001b[39;00m \u001b[39mpd\u001b[39;00m\n\u001b[0;32m----> 4\u001b[0m \u001b[39mfrom\u001b[39;00m \u001b[39mcapture_image\u001b[39;00m \u001b[39mimport\u001b[39;00m capture_image\n\u001b[1;32m      5\u001b[0m \u001b[39mimport\u001b[39;00m \u001b[39msys\u001b[39;00m\n\u001b[1;32m      6\u001b[0m \u001b[39mimport\u001b[39;00m \u001b[39mos\u001b[39;00m\n",
      "File \u001b[0;32m~/Documents/GitHub/thesis/cell_culture_automation/capture_image.py:1\u001b[0m\n\u001b[0;32m----> 1\u001b[0m \u001b[39mimport\u001b[39;00m \u001b[39mpyrealsense2\u001b[39;00m \u001b[39mas\u001b[39;00m \u001b[39mrs\u001b[39;00m\n\u001b[1;32m      2\u001b[0m \u001b[39mimport\u001b[39;00m \u001b[39mcv2\u001b[39;00m\n\u001b[1;32m      3\u001b[0m \u001b[39mfrom\u001b[39;00m \u001b[39mdatetime\u001b[39;00m \u001b[39mimport\u001b[39;00m datetime\n",
      "\u001b[0;31mModuleNotFoundError\u001b[0m: No module named 'pyrealsense2'"
     ]
    }
   ],
   "source": [
    "import numpy as np\n",
    "import pandas as pd\n",
    "\n",
    "from capture_image import capture_image\n",
    "import sys\n",
    "import os\n",
    "import warnings\n",
    "import numpy as np\n",
    "\n",
    "# add parent folder to sys.path\n",
    "sys.path.insert(0, os.path.abspath(\"..\"))\n",
    "\n",
    "# ignore DeprecationWarning messages\n",
    "warnings.filterwarnings(\"ignore\", category=DeprecationWarning)\n",
    "\n",
    "# ignore RuntimeWarning messages\n",
    "warnings.filterwarnings(\"ignore\", category=RuntimeWarning)\n",
    "\n",
    "from volume_estimation.src.models_1_no_vol.predict_full_pipeline import predict_no_vol\n",
    "from segmentation_and_depth.src.models.predict_model import predict as predict_seg_depth\n",
    "from volume_estimation.src.models_2_input_vol.predict_full_pipeline import predict_with_vol"
   ]
  },
  {
   "cell_type": "code",
   "execution_count": 2,
   "metadata": {},
   "outputs": [],
   "source": [
    "def find_best_parameters(input_start_vol, input_target_vol):\n",
    "    input_target_vol -= 20 # correction factor\n",
    "    summary_flask = pd.read_csv('../pouring_simulation/output/summary_medium_final.csv', skiprows=[0,1])\n",
    "    min_loss = 100000\n",
    "\n",
    "    for j in range(len(summary_flask)):\n",
    "        loss = abs(summary_flask.iloc[j,5] - input_start_vol) + abs(summary_flask.iloc[j,7] - input_target_vol) #+ summary_flask.iloc[j,8]*0.3\n",
    "        if loss < min_loss:\n",
    "            min_loss = loss\n",
    "            stop_angle = (summary_flask.iloc[j,3])\n",
    "            stop_time = (summary_flask.iloc[j,4])\n",
    "\n",
    "    return stop_angle, stop_time"
   ]
  },
  {
   "cell_type": "code",
   "execution_count": null,
   "metadata": {},
   "outputs": [],
   "source": [
    "path = capture_image()\n",
    "print(\"Path: \", path)\n",
    "input_start_vol = predict_with_vol(path, save_segmentation=True, save_depth=True, predict_volume=True)"
   ]
  },
  {
   "cell_type": "code",
   "execution_count": 3,
   "metadata": {},
   "outputs": [
    {
     "name": "stdout",
     "output_type": "stream",
     "text": [
      "Minimum loss stop angle:  72.0\n",
      "Minimum loss stop time:  0.2\n"
     ]
    }
   ],
   "source": [
    "stop_angle, stop_time = find_best_parameters(99, 22)\n",
    "\n",
    "print(\"Minimum loss stop angle: \", stop_angle)\n",
    "print(\"Minimum loss stop time: \", stop_time)"
   ]
  },
  {
   "cell_type": "code",
   "execution_count": null,
   "metadata": {},
   "outputs": [],
   "source": []
  }
 ],
 "metadata": {
  "kernelspec": {
   "display_name": "my_environment",
   "language": "python",
   "name": "python3"
  },
  "language_info": {
   "codemirror_mode": {
    "name": "ipython",
    "version": 3
   },
   "file_extension": ".py",
   "mimetype": "text/x-python",
   "name": "python",
   "nbconvert_exporter": "python",
   "pygments_lexer": "ipython3",
   "version": "3.10.4"
  },
  "orig_nbformat": 4
 },
 "nbformat": 4,
 "nbformat_minor": 2
}
