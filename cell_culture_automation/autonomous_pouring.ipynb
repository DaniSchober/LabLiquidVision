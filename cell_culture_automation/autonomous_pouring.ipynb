{
 "cells": [
  {
   "cell_type": "code",
   "execution_count": 5,
   "metadata": {},
   "outputs": [],
   "source": [
    "import numpy as np\n",
    "import pandas as pd\n",
    "\n",
    "from capture_image import capture_image\n",
    "import sys\n",
    "import os\n",
    "import warnings\n",
    "import numpy as np\n",
    "import rtde_control\n",
    "import rtde_receive\n",
    "from rtde_control import Path, PathEntry\n",
    "import rtde_io\n",
    "from robotiq_gripper_control import RobotiqGripper\n",
    "import time\n",
    "import numpy as np\n",
    "import rotation_matrix as rm\n",
    "import pandas as pd\n",
    "\n",
    "# add parent folder to sys.path\n",
    "sys.path.insert(0, os.path.abspath(\"..\"))\n",
    "\n",
    "# ignore DeprecationWarning messages\n",
    "warnings.filterwarnings(\"ignore\", category=DeprecationWarning)\n",
    "\n",
    "# ignore RuntimeWarning messages\n",
    "warnings.filterwarnings(\"ignore\", category=RuntimeWarning)\n",
    "\n",
    "from volume_estimation.src.models_1_no_vol.predict_full_pipeline import predict_no_vol\n",
    "from segmentation_and_depth.src.models.predict_model import predict as predict_seg_depth\n",
    "from volume_estimation.src.models_2_input_vol.predict_full_pipeline import predict_with_vol"
   ]
  },
  {
   "cell_type": "code",
   "execution_count": 6,
   "metadata": {},
   "outputs": [
    {
     "name": "stdout",
     "output_type": "stream",
     "text": [
      "Activating Gripper\n",
      "Gripper activated\n"
     ]
    },
    {
     "data": {
      "text/plain": [
       "True"
      ]
     },
     "execution_count": 6,
     "metadata": {},
     "output_type": "execute_result"
    }
   ],
   "source": [
    "def connect_robot(ip = \"192.168.2.1\"):\n",
    "    rtde_c = rtde_control.RTDEControlInterface(ip) #IP address found on robot\n",
    "    rtde_r = rtde_receive.RTDEReceiveInterface(ip)\n",
    "    rtde_io_set = rtde_io.RTDEIOInterface(ip)\n",
    "    return rtde_c, rtde_r, rtde_io_set\n",
    "\n",
    "rtde_c, rtde_r, rtde_io_set = connect_robot()\n",
    "\n",
    "print(\"Activating Gripper\")\n",
    "gripper = RobotiqGripper(rtde_c)\n",
    "gripper.activate()  # returns to previous position after activation\n",
    "gripper.set_force(10)  # from 0 to 100 %\n",
    "gripper.set_speed(10)  # from 0 to 100 %\n",
    "print(\"Gripper activated\")\n",
    "gripper.move(45)"
   ]
  },
  {
   "cell_type": "code",
   "execution_count": null,
   "metadata": {},
   "outputs": [],
   "source": [
    "pick_up_pos_1 = [-0.20933143110289607,\n",
    " 0.4007959363962377,\n",
    " 0.14113332170567885,\n",
    " -1.559202807626822,\n",
    " 0.03734946834843037,\n",
    " 0.004841554724431051]\n",
    "\n",
    "pick_up_pos_2 = [-0.23954717580833165,\n",
    " 0.400795552537626,\n",
    " 0.07130884774090128,\n",
    " -1.5591976930082265,\n",
    " 0.037387010510812266,\n",
    " 0.004880320202878557]\n",
    "\n",
    "pick_up_pos_4 = [-0.23473853377504333,\n",
    " 0.47152953670488773,\n",
    " 0.053494416798714306,\n",
    " -1.5710858755788153,\n",
    " 0.017660070482072698,\n",
    " 0.01776629011841677] # gripping_pos\n",
    "\n",
    "move_to_pouring_pos_1 = [-0.23473853377504333,\n",
    " 0.47152953670488773,\n",
    " 0.183494416798714306,\n",
    " -1.5710858755788153,\n",
    " 0.017660070482072698,\n",
    " 0.01776629011841677]\n",
    "\n",
    "move_to_pouring_pos_2 = [-0.22901634283841804,\n",
    " 0.41998903523904,\n",
    " 0.2949162372788959,\n",
    " -1.5751694238784661,\n",
    " -0.21652305912711,\n",
    " 0.25229985538985844]\n",
    "\n",
    "move_to_pouring_pos_3 = [-0.3979018097425171,\n",
    " 0.1980390973153733,\n",
    " 0.28823304066468763,\n",
    " -1.3004855590335682,\n",
    " -1.1848976095494719,\n",
    " 1.213794766836109]\n",
    "\n",
    "start_pos_horizontal = [-0.36498883237255164,\n",
    " 0.24715099595577825+0.003,\n",
    " 0.17519255890890678,\n",
    " -1.221741554832158,\n",
    " -1.213214812915213,\n",
    " 1.2457124592502689]\n",
    "\n",
    "start_pos_bottle_rotated = [-0.36498143802471317,\n",
    " 0.2501417037919356,\n",
    " 0.17515693872394192,\n",
    " -1.4078543077400933,\n",
    " -1.0821978511944732,\n",
    " 1.4284556202410212]\n",
    "\n",
    "picture_pos = "
   ]
  },
  {
   "cell_type": "code",
   "execution_count": null,
   "metadata": {},
   "outputs": [],
   "source": [
    "pos = rtde_r.getActualTCPPose()\n",
    "pos"
   ]
  },
  {
   "cell_type": "code",
   "execution_count": 2,
   "metadata": {},
   "outputs": [],
   "source": [
    "def find_best_parameters(input_start_vol, input_target_vol):\n",
    "    input_target_vol -= 20 # correction factor\n",
    "    summary_flask = pd.read_csv('../pouring_simulation/output/summary_medium_final.csv', skiprows=[0,1])\n",
    "    min_loss = 100000\n",
    "\n",
    "    for j in range(len(summary_flask)):\n",
    "        loss = abs(summary_flask.iloc[j,5] - input_start_vol) + abs(summary_flask.iloc[j,7] - input_target_vol) #+ summary_flask.iloc[j,8]*0.3\n",
    "        if loss < min_loss:\n",
    "            min_loss = loss\n",
    "            stop_angle = (summary_flask.iloc[j,3])\n",
    "            stop_time = (summary_flask.iloc[j,4])\n",
    "\n",
    "    return stop_angle, stop_time"
   ]
  },
  {
   "cell_type": "code",
   "execution_count": null,
   "metadata": {},
   "outputs": [],
   "source": [
    "path = capture_image()\n",
    "print(\"Path: \", path)\n",
    "input_start_vol = predict_with_vol(path, save_segmentation=True, save_depth=True, predict_volume=True)"
   ]
  },
  {
   "cell_type": "code",
   "execution_count": 3,
   "metadata": {},
   "outputs": [
    {
     "name": "stdout",
     "output_type": "stream",
     "text": [
      "Minimum loss stop angle:  72.0\n",
      "Minimum loss stop time:  0.2\n"
     ]
    }
   ],
   "source": [
    "stop_angle, stop_time = find_best_parameters(99, 22)\n",
    "\n",
    "print(\"Minimum loss stop angle: \", stop_angle)\n",
    "print(\"Minimum loss stop time: \", stop_time)"
   ]
  },
  {
   "cell_type": "code",
   "execution_count": null,
   "metadata": {},
   "outputs": [],
   "source": []
  }
 ],
 "metadata": {
  "kernelspec": {
   "display_name": "my_environment",
   "language": "python",
   "name": "python3"
  },
  "language_info": {
   "codemirror_mode": {
    "name": "ipython",
    "version": 3
   },
   "file_extension": ".py",
   "mimetype": "text/x-python",
   "name": "python",
   "nbconvert_exporter": "python",
   "pygments_lexer": "ipython3",
   "version": "3.9.13"
  },
  "orig_nbformat": 4
 },
 "nbformat": 4,
 "nbformat_minor": 2
}
