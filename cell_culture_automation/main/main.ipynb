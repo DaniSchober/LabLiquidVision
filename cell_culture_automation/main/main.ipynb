{
 "cells": [
  {
   "cell_type": "code",
   "execution_count": 1,
   "metadata": {},
   "outputs": [],
   "source": [
    "import utils\n",
    "import positions\n",
    "import time\n",
    "\n",
    "# from robotiq_gripper_control import RobotiqGripper"
   ]
  },
  {
   "cell_type": "code",
   "execution_count": 2,
   "metadata": {},
   "outputs": [],
   "source": [
    "rtde_c, rtde_r, rtde_io_set = utils.connect_robot()"
   ]
  },
  {
   "cell_type": "code",
   "execution_count": 3,
   "metadata": {},
   "outputs": [
    {
     "data": {
      "text/plain": [
       "[-0.19161405312765759,\n",
       " 0.13472399156690068,\n",
       " 0.365305811889139,\n",
       " -2.216389383069919,\n",
       " -2.214478541184546,\n",
       " -0.011795250688296986]"
      ]
     },
     "execution_count": 3,
     "metadata": {},
     "output_type": "execute_result"
    }
   ],
   "source": [
    "positions.home_pos"
   ]
  },
  {
   "cell_type": "code",
   "execution_count": 21,
   "metadata": {},
   "outputs": [],
   "source": [
    "start_pos = rtde_r.getActualTCPPose()"
   ]
  },
  {
   "cell_type": "code",
   "execution_count": 22,
   "metadata": {},
   "outputs": [
    {
     "data": {
      "text/plain": [
       "[-0.30311940137740506,\n",
       " 0.3908583241414633,\n",
       " 0.3851608366177145,\n",
       " -1.5871448350952952,\n",
       " 0.8932357838276489,\n",
       " 1.6401659552086558]"
      ]
     },
     "execution_count": 22,
     "metadata": {},
     "output_type": "execute_result"
    }
   ],
   "source": [
    "start_pos"
   ]
  },
  {
   "cell_type": "code",
   "execution_count": 11,
   "metadata": {},
   "outputs": [],
   "source": [
    "start_pos[2] += 0.05"
   ]
  },
  {
   "cell_type": "code",
   "execution_count": 12,
   "metadata": {},
   "outputs": [
    {
     "data": {
      "text/plain": [
       "[-0.3665877821620457,\n",
       " 0.39590625267935464,\n",
       " 0.2650568562719924,\n",
       " -1.5917444711161286,\n",
       " 0.8899132359985559,\n",
       " 1.6727939477865954]"
      ]
     },
     "execution_count": 12,
     "metadata": {},
     "output_type": "execute_result"
    }
   ],
   "source": [
    "start_pos"
   ]
  },
  {
   "cell_type": "code",
   "execution_count": 13,
   "metadata": {},
   "outputs": [
    {
     "data": {
      "text/plain": [
       "True"
      ]
     },
     "execution_count": 13,
     "metadata": {},
     "output_type": "execute_result"
    }
   ],
   "source": [
    "rtde_c.moveL(start_pos, 0.1, 0.1)"
   ]
  },
  {
   "cell_type": "code",
   "execution_count": 3,
   "metadata": {},
   "outputs": [],
   "source": [
    "start_joints = rtde_r.getActualQ()"
   ]
  },
  {
   "cell_type": "code",
   "execution_count": 4,
   "metadata": {},
   "outputs": [
    {
     "data": {
      "text/plain": [
       "[-3.385045353566305,\n",
       " -1.5619286571494122,\n",
       " -2.3790624141693115,\n",
       " 3.974957152003906,\n",
       " -0.8234012762652796,\n",
       " -1.5511797110186976]"
      ]
     },
     "execution_count": 4,
     "metadata": {},
     "output_type": "execute_result"
    }
   ],
   "source": [
    "start_joints"
   ]
  },
  {
   "cell_type": "code",
   "execution_count": null,
   "metadata": {},
   "outputs": [],
   "source": [
    "j_grip = [\n",
    "    -3.8500893751727503,\n",
    "    -2.0874439678587855,\n",
    "    -2.383007526397705,\n",
    "    4.474667235011719,\n",
    "    -2.2497990767108362,\n",
    "    -2.8258071581469935,\n",
    "]"
   ]
  },
  {
   "cell_type": "code",
   "execution_count": 5,
   "metadata": {},
   "outputs": [
    {
     "name": "stdout",
     "output_type": "stream",
     "text": [
      "To find:  _50_600\n",
      "Scene path:  ../../pouring_simulation/output/CellFlask_diff\\TCP_50_600.txt\n",
      "(3582, 3)\n",
      "1747\n"
     ]
    }
   ],
   "source": [
    "utils.pour_flask(\n",
    "    start_pos,\n",
    "    stop_angle=50,\n",
    "    stop_time=600,\n",
    "    rtde_c=rtde_c,\n",
    "    vel_L=0.007,\n",
    "    acc_L=1.5,\n",
    "    blending=0.001,\n",
    ")"
   ]
  },
  {
   "cell_type": "code",
   "execution_count": 3,
   "metadata": {},
   "outputs": [],
   "source": [
    "j_pour_start_1 = [\n",
    "    -3.839207474385397,\n",
    "    -1.92149080852651,\n",
    "    -1.8986400365829468,\n",
    "    3.838458700770996,\n",
    "    -0.6864236036883753,\n",
    "    -1.5424216429339808,\n",
    "]\n",
    "j_pour_start_2 = [\n",
    "    -3.8471742312060755,\n",
    "    -1.6010729275145472,\n",
    "    -2.3102447986602783,\n",
    "    3.929755850429199,\n",
    "    -0.6936152617083948,\n",
    "    -1.5421207586871546,\n",
    "]\n",
    "\n",
    "j_pour_start_3 = [\n",
    "    -3.8761239687549036,\n",
    "    -1.1444046658328553,\n",
    "    -2.6404452323913574,\n",
    "    3.8016840654560546,\n",
    "    -0.7237589995013636,\n",
    "    -1.5396531263934534,\n",
    "]\n",
    "\n",
    "j_neutral = [\n",
    "    -3.3765175978290003,\n",
    "    -1.536851519053318,\n",
    "    -2.374596118927002,\n",
    "    3.9551288324543457,\n",
    "    -0.8151677290545862,\n",
    "    -1.5541327635394495,\n",
    "]"
   ]
  },
  {
   "cell_type": "code",
   "execution_count": 4,
   "metadata": {},
   "outputs": [
    {
     "data": {
      "text/plain": [
       "True"
      ]
     },
     "execution_count": 4,
     "metadata": {},
     "output_type": "execute_result"
    }
   ],
   "source": [
    "rtde_c.moveJ(j_neutral, 0.1, 0.1)"
   ]
  },
  {
   "cell_type": "code",
   "execution_count": 5,
   "metadata": {},
   "outputs": [
    {
     "name": "stdout",
     "output_type": "stream",
     "text": [
      "To find:  _14_200\n",
      "Scene path:  ../../pouring_simulation/output/CellFlask_diff\\TCP_14_200.txt\n",
      "(1047, 3)\n",
      "491\n"
     ]
    }
   ],
   "source": [
    "rtde_c.moveJ(j_pour_start_1, 0.1, 0.1)\n",
    "start_pos = rtde_r.getActualTCPPose()\n",
    "utils.pour_flask(\n",
    "    start_pos,\n",
    "    stop_angle=14,\n",
    "    stop_time=200,\n",
    "    rtde_c=rtde_c,\n",
    "    vel_L=0.007,\n",
    "    acc_L=1.5,\n",
    "    blending=0.001,\n",
    ")"
   ]
  },
  {
   "cell_type": "code",
   "execution_count": 6,
   "metadata": {},
   "outputs": [
    {
     "name": "stdout",
     "output_type": "stream",
     "text": [
      "To find:  _18_200\n",
      "Scene path:  ../../pouring_simulation/output/CellFlask_diff\\TCP_18_200.txt\n",
      "(1328, 3)\n",
      "631\n"
     ]
    }
   ],
   "source": [
    "rtde_c.moveJ(j_pour_start_2, 0.1, 0.1)\n",
    "start_pos = rtde_r.getActualTCPPose()\n",
    "utils.pour_flask(\n",
    "    start_pos,\n",
    "    stop_angle=18,\n",
    "    stop_time=200,\n",
    "    rtde_c=rtde_c,\n",
    "    vel_L=0.007,\n",
    "    acc_L=1.5,\n",
    "    blending=0.001,\n",
    ")"
   ]
  },
  {
   "cell_type": "code",
   "execution_count": 7,
   "metadata": {},
   "outputs": [
    {
     "name": "stdout",
     "output_type": "stream",
     "text": [
      "To find:  _50_200\n",
      "Scene path:  ../../pouring_simulation/output/CellFlask_diff\\TCP_50_200.txt\n",
      "(3558, 3)\n",
      "1747\n"
     ]
    }
   ],
   "source": [
    "rtde_c.moveJ(j_pour_start_3, 0.1, 0.1)\n",
    "start_pos = rtde_r.getActualTCPPose()\n",
    "utils.pour_flask(\n",
    "    start_pos,\n",
    "    stop_angle=50,\n",
    "    stop_time=200,\n",
    "    rtde_c=rtde_c,\n",
    "    vel_L=0.015,\n",
    "    acc_L=1.5,\n",
    "    blending=0.001,\n",
    ")"
   ]
  },
  {
   "cell_type": "code",
   "execution_count": 20,
   "metadata": {},
   "outputs": [
    {
     "data": {
      "text/plain": [
       "True"
      ]
     },
     "execution_count": 20,
     "metadata": {},
     "output_type": "execute_result"
    }
   ],
   "source": [
    "rtde_c.moveJ(j_neutral, 0.1, 0.1)"
   ]
  },
  {
   "cell_type": "code",
   "execution_count": null,
   "metadata": {},
   "outputs": [],
   "source": []
  }
 ],
 "metadata": {
  "kernelspec": {
   "display_name": "thesis",
   "language": "python",
   "name": "python3"
  },
  "language_info": {
   "codemirror_mode": {
    "name": "ipython",
    "version": 3
   },
   "file_extension": ".py",
   "mimetype": "text/x-python",
   "name": "python",
   "nbconvert_exporter": "python",
   "pygments_lexer": "ipython3",
   "version": "3.9.16"
  },
  "orig_nbformat": 4
 },
 "nbformat": 4,
 "nbformat_minor": 2
}
