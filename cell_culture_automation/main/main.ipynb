{
 "cells": [
  {
   "cell_type": "code",
   "execution_count": 3,
   "metadata": {},
   "outputs": [],
   "source": [
    "import utils\n",
    "import positions\n"
   ]
  },
  {
   "cell_type": "code",
   "execution_count": 2,
   "metadata": {},
   "outputs": [
    {
     "ename": "NameError",
     "evalue": "name 'rtde_control' is not defined",
     "output_type": "error",
     "traceback": [
      "\u001b[1;31m---------------------------------------------------------------------------\u001b[0m",
      "\u001b[1;31mNameError\u001b[0m                                 Traceback (most recent call last)",
      "Cell \u001b[1;32mIn[2], line 1\u001b[0m\n\u001b[1;32m----> 1\u001b[0m utils\u001b[39m.\u001b[39;49mconnect_robot()\n",
      "File \u001b[1;32mc:\\Users\\apo_n\\Documents\\GitHub\\thesis\\cell_culture_automation\\main\\utils.py:7\u001b[0m, in \u001b[0;36mconnect_robot\u001b[1;34m(ip)\u001b[0m\n\u001b[0;32m      6\u001b[0m \u001b[39mdef\u001b[39;00m \u001b[39mconnect_robot\u001b[39m(ip \u001b[39m=\u001b[39m \u001b[39m\"\u001b[39m\u001b[39m192.168.2.1\u001b[39m\u001b[39m\"\u001b[39m):\n\u001b[1;32m----> 7\u001b[0m     rtde_c \u001b[39m=\u001b[39m rtde_control\u001b[39m.\u001b[39mRTDEControlInterface(ip) \u001b[39m#IP address found on robot\u001b[39;00m\n\u001b[0;32m      8\u001b[0m     rtde_r \u001b[39m=\u001b[39m rtde_receive\u001b[39m.\u001b[39mRTDEReceiveInterface(ip)\n\u001b[0;32m      9\u001b[0m     rtde_io_set \u001b[39m=\u001b[39m rtde_io\u001b[39m.\u001b[39mRTDEIOInterface(ip)\n",
      "\u001b[1;31mNameError\u001b[0m: name 'rtde_control' is not defined"
     ]
    }
   ],
   "source": [
    "utils.connect_robot()"
   ]
  },
  {
   "cell_type": "code",
   "execution_count": 4,
   "metadata": {},
   "outputs": [
    {
     "data": {
      "text/plain": [
       "[-0.19161405312765759,\n",
       " 0.13472399156690068,\n",
       " 0.365305811889139,\n",
       " -2.216389383069919,\n",
       " -2.214478541184546,\n",
       " -0.011795250688296986]"
      ]
     },
     "execution_count": 4,
     "metadata": {},
     "output_type": "execute_result"
    }
   ],
   "source": [
    "positions.home_pos"
   ]
  },
  {
   "cell_type": "code",
   "execution_count": null,
   "metadata": {},
   "outputs": [],
   "source": []
  }
 ],
 "metadata": {
  "kernelspec": {
   "display_name": "thesis",
   "language": "python",
   "name": "python3"
  },
  "language_info": {
   "codemirror_mode": {
    "name": "ipython",
    "version": 3
   },
   "file_extension": ".py",
   "mimetype": "text/x-python",
   "name": "python",
   "nbconvert_exporter": "python",
   "pygments_lexer": "ipython3",
   "version": "3.9.16"
  },
  "orig_nbformat": 4
 },
 "nbformat": 4,
 "nbformat_minor": 2
}
