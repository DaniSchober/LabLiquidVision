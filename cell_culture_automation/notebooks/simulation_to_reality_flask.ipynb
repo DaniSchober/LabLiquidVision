{
 "cells": [
  {
   "cell_type": "code",
   "execution_count": null,
   "metadata": {},
   "outputs": [],
   "source": [
    "import rtde_control\n",
    "import rtde_receive\n",
    "from rtde_control import Path, PathEntry\n",
    "import rtde_io\n",
    "from robotiq_gripper_control import RobotiqGripper\n",
    "import rotation_matrix as rm\n",
    "import time\n",
    "import numpy as np\n",
    "import rotation_matrix as rm\n",
    "import numpy as np\n",
    "import pandas as pd"
   ]
  },
  {
   "cell_type": "code",
   "execution_count": null,
   "metadata": {},
   "outputs": [],
   "source": [
    "def connect_robot(ip=\"192.168.2.1\"):\n",
    "    rtde_c = rtde_control.RTDEControlInterface(ip)  # IP address found on robot\n",
    "    rtde_r = rtde_receive.RTDEReceiveInterface(ip)\n",
    "    rtde_io_set = rtde_io.RTDEIOInterface(ip)\n",
    "    return rtde_c, rtde_r, rtde_io_set\n",
    "\n",
    "\n",
    "rtde_c, rtde_r, rtde_io_set = connect_robot()"
   ]
  },
  {
   "cell_type": "code",
   "execution_count": null,
   "metadata": {},
   "outputs": [],
   "source": [
    "print(\"Activating Gripper\")\n",
    "gripper = RobotiqGripper(rtde_c)\n",
    "gripper.activate()  # returns to previous position after activation\n",
    "gripper.set_force(10)  # from 0 to 100 %\n",
    "gripper.set_speed(10)  # from 0 to 100 %\n",
    "print(\"Gripper activated\")\n",
    "gripper.open()"
   ]
  },
  {
   "cell_type": "code",
   "execution_count": null,
   "metadata": {},
   "outputs": [],
   "source": [
    "# open csv file\n",
    "test_flasks = pd.read_csv(\"../pouring_simulation/output/summary_flask_test_50.csv\")"
   ]
  },
  {
   "cell_type": "code",
   "execution_count": null,
   "metadata": {},
   "outputs": [],
   "source": [
    "# print first 5 rows\n",
    "test_flasks.head()"
   ]
  },
  {
   "attachments": {},
   "cell_type": "markdown",
   "metadata": {},
   "source": [
    "## Manually move robot to start position and read the position"
   ]
  },
  {
   "cell_type": "code",
   "execution_count": null,
   "metadata": {},
   "outputs": [],
   "source": [
    "start_pos = rtde_r.getActualTCPPose()"
   ]
  },
  {
   "cell_type": "code",
   "execution_count": null,
   "metadata": {},
   "outputs": [],
   "source": [
    "print(start_pos)"
   ]
  },
  {
   "cell_type": "code",
   "execution_count": null,
   "metadata": {},
   "outputs": [],
   "source": [
    "start_pos = [\n",
    "    -0.0555077809037947,\n",
    "    0.5267063264795802,\n",
    "    0.1640237148198558,\n",
    "    -1.5588760353504112,\n",
    "    0.03869269986900248,\n",
    "    -0.023812772591892194,\n",
    "]"
   ]
  },
  {
   "cell_type": "code",
   "execution_count": null,
   "metadata": {},
   "outputs": [],
   "source": [
    "# start_pos = [-0.14070488205315163, 0.5349988662699389, 0.22005337355210908, -1.2018970116816083, 1.2090769088786155, 1.2133552150498628]"
   ]
  },
  {
   "attachments": {},
   "cell_type": "markdown",
   "metadata": {},
   "source": [
    "# Start here:"
   ]
  },
  {
   "attachments": {},
   "cell_type": "markdown",
   "metadata": {},
   "source": [
    "## Input sample number:"
   ]
  },
  {
   "cell_type": "code",
   "execution_count": null,
   "metadata": {},
   "outputs": [],
   "source": [
    "sample_number = 41"
   ]
  },
  {
   "attachments": {},
   "cell_type": "markdown",
   "metadata": {},
   "source": [
    "### Loading TCP file for movement"
   ]
  },
  {
   "cell_type": "code",
   "execution_count": null,
   "metadata": {},
   "outputs": [],
   "source": [
    "scene_path = test_flasks.iloc[sample_number][\"path\"]\n",
    "# delete first five characters of the path\n",
    "scene_path = scene_path[5:]\n",
    "scene_path = \"../pouring_simulation/\" + scene_path + \"/TCP.txt\"\n",
    "# data_points = np.loadtxt(scene_path, delimiter=',', skiprows=1) # skiprows 1 and 1614\n",
    "\n",
    "# Count the total number of rows in the file\n",
    "with open(scene_path, \"r\") as file:\n",
    "    num_rows = sum(1 for _ in file)\n",
    "# load datapoints and skip first and last 5\n",
    "data_points = np.loadtxt(scene_path, delimiter=\",\", skiprows=1, max_rows=num_rows - 2)\n",
    "\n",
    "# convert from inches to meters\n",
    "data_points[:, 0] = data_points[:, 0] * 0.0254\n",
    "data_points[:, 1] = data_points[:, 1] * 0.0254\n",
    "\n",
    "# create list of positions\n",
    "positions = []\n",
    "for i in range(data_points.shape[0]):\n",
    "    positions.append(\n",
    "        [-data_points[i, 1], -data_points[i, 0], 0.0, 0.0, 0.0, data_points[i, 2]]\n",
    "    )  # will move around x, y of tool and rotate around z of tool --> to be updated for different setups\n",
    "\n",
    "positions_converted = []\n",
    "for i in range(data_points.shape[0]):\n",
    "    # if none of the data entries is 0\n",
    "    if not (positions[i][0] == 0 or positions[i][1] == 0 or positions[i][5] == 0):\n",
    "        positions_converted.append(\n",
    "            rm.PoseTrans(start_pos, positions[i])\n",
    "        )  # transform from tool coordinate system to base coordinate system"
   ]
  },
  {
   "attachments": {},
   "cell_type": "markdown",
   "metadata": {},
   "source": [
    "### Calculate speed\n"
   ]
  },
  {
   "cell_type": "code",
   "execution_count": null,
   "metadata": {},
   "outputs": [],
   "source": [
    "# get first 5 x and z positions\n",
    "positions = positions_converted[15:30]\n",
    "\n",
    "# only get x, y, z positions\n",
    "positions = [x[0:3] for x in positions]\n",
    "\n",
    "\n",
    "# positions = [x[0:3:2] for x in positions]\n",
    "\n",
    "# calculate distances between positions in meters\n",
    "distances = []\n",
    "for i in range(len(positions) - 1):\n",
    "    distances.append(np.linalg.norm(np.subtract(positions[i + 1], positions[i])))\n",
    "\n",
    "print(distances)\n",
    "\n",
    "speed = []\n",
    "\n",
    "# calculate speed for a frequency of 60 Hz in m/s\n",
    "for i in range(len(distances)):\n",
    "    speed.append(distances[i] * 89)\n",
    "    # speed.append(distances[i]*60)\n",
    "\n",
    "print(speed)\n",
    "\n",
    "# calculate average speed\n",
    "avg_speed = np.mean(speed)\n",
    "print(\"Speed in m/s: \", avg_speed)"
   ]
  },
  {
   "attachments": {},
   "cell_type": "markdown",
   "metadata": {},
   "source": [
    "### Calculate pause time and find pause point"
   ]
  },
  {
   "cell_type": "code",
   "execution_count": null,
   "metadata": {},
   "outputs": [],
   "source": [
    "# get position of the first duplicate converted_position that is not position 0\n",
    "for i in range(len(positions_converted)):\n",
    "    if positions_converted[i] == positions_converted[0]:\n",
    "        continue\n",
    "    elif (\n",
    "        positions_converted[i]\n",
    "        == positions_converted[i - 1]\n",
    "        == positions_converted[i - 2]\n",
    "        == positions_converted[i - 3]\n",
    "        == positions_converted[i - 4]\n",
    "    ):\n",
    "        print(i)\n",
    "        break\n",
    "\n",
    "# count the values that are the same as i\n",
    "count = 0\n",
    "for j in range(i, len(positions_converted)):\n",
    "    if positions_converted[j] == positions_converted[i]:\n",
    "        count += 1\n",
    "    else:\n",
    "        break\n",
    "print(count)\n",
    "\n",
    "# split positions_converted into two lists\n",
    "positions_converted1 = positions_converted[0:i]\n",
    "positions_converted2 = positions_converted[i:]"
   ]
  },
  {
   "attachments": {},
   "cell_type": "markdown",
   "metadata": {},
   "source": [
    "### Show pouring settings from simulation"
   ]
  },
  {
   "cell_type": "code",
   "execution_count": null,
   "metadata": {},
   "outputs": [],
   "source": [
    "print(\"Start Volume: \", test_flasks.iloc[sample_number][\"volume_start\"], \"mL\")\n",
    "print(\n",
    "    \"Predicted Poured Volume: \", test_flasks.iloc[sample_number][\"volume_poured\"], \"mL\"\n",
    ")\n",
    "print(\n",
    "    \"Predicted Remaining Volume: \",\n",
    "    float(test_flasks.iloc[sample_number][\"volume_start\"])\n",
    "    - float(test_flasks.iloc[sample_number][\"volume_poured\"]),\n",
    "    \"mL\",\n",
    ")\n",
    "print(\n",
    "    \"Predicted Received Volume: \",\n",
    "    test_flasks.iloc[sample_number][\"volume_received\"],\n",
    "    \"mL\",\n",
    ")\n",
    "print(\n",
    "    \"Predicted Spilled Volume: \",\n",
    "    test_flasks.iloc[sample_number][\"spilled_volume\"],\n",
    "    \"mL\",\n",
    ")\n",
    "print(\"\\n\")\n",
    "print(\"Stop Angle: \", test_flasks.iloc[sample_number][\"stop_angle\"], \"degrees\")\n",
    "print(\"Stop Time: \", test_flasks.iloc[sample_number][\"pause_time\"], \"seconds\")"
   ]
  },
  {
   "attachments": {},
   "cell_type": "markdown",
   "metadata": {},
   "source": [
    "### Fill Flask"
   ]
  },
  {
   "cell_type": "code",
   "execution_count": null,
   "metadata": {},
   "outputs": [],
   "source": [
    "rtde_c.moveL(start_pos, 0.5, 0.5)\n",
    "gripper.open()"
   ]
  },
  {
   "attachments": {},
   "cell_type": "markdown",
   "metadata": {},
   "source": [
    "### Place Flask in gripper"
   ]
  },
  {
   "cell_type": "code",
   "execution_count": null,
   "metadata": {},
   "outputs": [],
   "source": [
    "gripper.close()"
   ]
  },
  {
   "attachments": {},
   "cell_type": "markdown",
   "metadata": {},
   "source": [
    "### Do pouring"
   ]
  },
  {
   "cell_type": "code",
   "execution_count": null,
   "metadata": {},
   "outputs": [],
   "source": [
    "velocity = avg_speed  # 0.5\n",
    "acceleration = 1.5\n",
    "blend_1 = 0.0\n",
    "blend_i = 0.001\n",
    "blend_3 = 0.0\n",
    "# path_pose1 = [start_pos_flask2[0], start_pos_flask2[1], start_pos_flask2[2], start_pos_flask2[3], start_pos_flask2[4], start_pos_flask2[5], velocity, acceleration, blend_1]\n",
    "path = []\n",
    "# path.append(path_pose1)\n",
    "for i in range(len(positions_converted1) - 1):\n",
    "    path.append(\n",
    "        [\n",
    "            positions_converted1[i][0],\n",
    "            positions_converted1[i][1],\n",
    "            positions_converted1[i][2],\n",
    "            positions_converted1[i][3],\n",
    "            positions_converted1[i][4],\n",
    "            positions_converted1[i][5],\n",
    "            velocity,\n",
    "            acceleration,\n",
    "            blend_i,\n",
    "        ]\n",
    "    )\n",
    "\n",
    "path.append(\n",
    "    [\n",
    "        positions_converted1[-1][0],\n",
    "        positions_converted1[-1][1],\n",
    "        positions_converted1[-1][2],\n",
    "        positions_converted1[-1][3],\n",
    "        positions_converted1[-1][4],\n",
    "        positions_converted1[-1][5],\n",
    "        velocity,\n",
    "        acceleration,\n",
    "        0,\n",
    "    ]\n",
    ")\n",
    "rtde_c.moveL(path)\n",
    "\n",
    "time.sleep(count / 89)\n",
    "# time.sleep(count/60)\n",
    "\n",
    "path_2 = []\n",
    "for i in range(len(positions_converted2) - 1):\n",
    "    path_2.append(\n",
    "        [\n",
    "            positions_converted2[i][0],\n",
    "            positions_converted2[i][1],\n",
    "            positions_converted2[i][2],\n",
    "            positions_converted2[i][3],\n",
    "            positions_converted2[i][4],\n",
    "            positions_converted2[i][5],\n",
    "            velocity,\n",
    "            acceleration,\n",
    "            blend_i,\n",
    "        ]\n",
    "    )\n",
    "\n",
    "path_2.append(\n",
    "    [\n",
    "        positions_converted2[-1][0],\n",
    "        positions_converted2[-1][1],\n",
    "        positions_converted2[-1][2],\n",
    "        positions_converted2[-1][3],\n",
    "        positions_converted2[-1][4],\n",
    "        positions_converted2[-1][5],\n",
    "        velocity,\n",
    "        acceleration,\n",
    "        blend_3,\n",
    "    ]\n",
    ")\n",
    "\n",
    "rtde_c.moveL(path_2)\n",
    "\n",
    "rtde_c.stopScript()"
   ]
  },
  {
   "cell_type": "code",
   "execution_count": null,
   "metadata": {},
   "outputs": [],
   "source": [
    "gripper.open()"
   ]
  },
  {
   "cell_type": "code",
   "execution_count": null,
   "metadata": {},
   "outputs": [],
   "source": [
    "rtde_c.moveL(start_pos, 0.5, 0.5)"
   ]
  },
  {
   "attachments": {},
   "cell_type": "markdown",
   "metadata": {},
   "source": [
    "### Measure results, write to excel file and restart"
   ]
  },
  {
   "cell_type": "code",
   "execution_count": null,
   "metadata": {},
   "outputs": [],
   "source": [
    "import os\n",
    "import numpy as np"
   ]
  },
  {
   "cell_type": "code",
   "execution_count": null,
   "metadata": {},
   "outputs": [],
   "source": [
    "def pour_flask(\n",
    "    start_pos, stop_angle, stop_time, rtde_c, vel_L=0.007, acc_L=1.5, blending=0.015\n",
    "):\n",
    "    # find TCP path\n",
    "    stop_angle = int(stop_angle)\n",
    "    stop_time = int(stop_time)\n",
    "\n",
    "    to_find = \"_\" + str(stop_angle) + \"_\" + str(stop_time)\n",
    "\n",
    "    print(\"To find: \", to_find)\n",
    "\n",
    "    # iterate through all folders in folder_path\n",
    "    folder_path = r\"../pouring_simulation/output/CellFlask_diff\"\n",
    "\n",
    "    # iterate through all folders in folder_path\n",
    "    for filename in os.listdir(folder_path):\n",
    "        # if folder contains to_find\n",
    "        if to_find in filename:\n",
    "            scene_path = os.path.join(folder_path, filename)\n",
    "            # Count the total number of rows in the file\n",
    "            with open(scene_path, \"r\") as file:\n",
    "                num_rows = sum(1 for _ in file)\n",
    "            # load datapoints and skip first and last 5\n",
    "            data_points = np.loadtxt(\n",
    "                scene_path, delimiter=\",\", skiprows=1, max_rows=num_rows - 2\n",
    "            )\n",
    "            print(\"Scene path: \", scene_path)\n",
    "            print(data_points.shape)\n",
    "            break\n",
    "\n",
    "    # convert from inches to meters\n",
    "    data_points[:, 0] = data_points[:, 0] * 0.0254\n",
    "    data_points[:, 1] = data_points[:, 1] * 0.0254\n",
    "\n",
    "    # create list of positions\n",
    "    positions = []\n",
    "    for i in range(data_points.shape[0]):\n",
    "        positions.append(\n",
    "            [-data_points[i, 1], -data_points[i, 0], 0.0, 0.0, 0.0, data_points[i, 2]]\n",
    "        )  # will move around x, y of tool and rotate around z of tool --> to be updated for different setups\n",
    "\n",
    "    positions_converted = []\n",
    "    for i in range(data_points.shape[0]):\n",
    "        # if none of the data entries is 0\n",
    "        if not (positions[i][0] == 0 or positions[i][1] == 0 or positions[i][5] == 0):\n",
    "            positions_converted.append(\n",
    "                rm.PoseTrans(start_pos, positions[i])\n",
    "            )  # transform from tool coordinate system to base coordinate system\n",
    "\n",
    "    # get position of the first duplicate converted_position that is not position 0\n",
    "    for i in range(len(positions_converted)):\n",
    "        if positions_converted[i] == positions_converted[0]:\n",
    "            continue\n",
    "        elif (\n",
    "            positions_converted[i]\n",
    "            == positions_converted[i - 1]\n",
    "            == positions_converted[i - 2]\n",
    "            == positions_converted[i - 3]\n",
    "            == positions_converted[i - 4]\n",
    "        ):\n",
    "            print(i)\n",
    "            break\n",
    "\n",
    "    # count the values that are the same as i\n",
    "    count = 0\n",
    "    for j in range(i, len(positions_converted)):\n",
    "        if positions_converted[j] == positions_converted[i]:\n",
    "            count += 1\n",
    "        else:\n",
    "            break\n",
    "\n",
    "    # split positions_converted into two lists\n",
    "    positions_converted1 = positions_converted[0:i]\n",
    "    positions_converted2 = positions_converted[i:]\n",
    "\n",
    "    rtde_c.moveL(start_pos, 0.5, 0.5)\n",
    "\n",
    "    blend_i = blending\n",
    "    blend_3 = 0.0\n",
    "    path = []\n",
    "    for i in range(len(positions_converted1) - 1):\n",
    "        path.append(\n",
    "            [\n",
    "                positions_converted1[i][0],\n",
    "                positions_converted1[i][1],\n",
    "                positions_converted1[i][2],\n",
    "                positions_converted1[i][3],\n",
    "                positions_converted1[i][4],\n",
    "                positions_converted1[i][5],\n",
    "                vel_L,\n",
    "                acc_L,\n",
    "                blend_i,\n",
    "            ]\n",
    "        )\n",
    "\n",
    "    path.append(\n",
    "        [\n",
    "            positions_converted1[-1][0],\n",
    "            positions_converted1[-1][1],\n",
    "            positions_converted1[-1][2],\n",
    "            positions_converted1[-1][3],\n",
    "            positions_converted1[-1][4],\n",
    "            positions_converted1[-1][5],\n",
    "            vel_L,\n",
    "            acc_L,\n",
    "            0,\n",
    "        ]\n",
    "    )\n",
    "    rtde_c.moveL(path)\n",
    "\n",
    "    time.sleep(count / 89)\n",
    "\n",
    "    path_2 = []\n",
    "    for i in range(len(positions_converted2) - 1):\n",
    "        path_2.append(\n",
    "            [\n",
    "                positions_converted2[i][0],\n",
    "                positions_converted2[i][1],\n",
    "                positions_converted2[i][2],\n",
    "                positions_converted2[i][3],\n",
    "                positions_converted2[i][4],\n",
    "                positions_converted2[i][5],\n",
    "                vel_L,\n",
    "                acc_L,\n",
    "                blend_i,\n",
    "            ]\n",
    "        )\n",
    "\n",
    "    path_2.append(\n",
    "        [\n",
    "            positions_converted2[-1][0],\n",
    "            positions_converted2[-1][1],\n",
    "            positions_converted2[-1][2],\n",
    "            positions_converted2[-1][3],\n",
    "            positions_converted2[-1][4],\n",
    "            positions_converted2[-1][5],\n",
    "            vel_L,\n",
    "            acc_L,\n",
    "            blend_3,\n",
    "        ]\n",
    "    )\n",
    "\n",
    "    rtde_c.moveL(path_2)\n",
    "\n",
    "    rtde_c.stopScript()"
   ]
  },
  {
   "cell_type": "code",
   "execution_count": null,
   "metadata": {},
   "outputs": [],
   "source": [
    "pour_flask(0, 2, 600)"
   ]
  },
  {
   "cell_type": "code",
   "execution_count": null,
   "metadata": {},
   "outputs": [],
   "source": []
  }
 ],
 "metadata": {
  "kernelspec": {
   "display_name": "cellculture",
   "language": "python",
   "name": "python3"
  },
  "language_info": {
   "codemirror_mode": {
    "name": "ipython",
    "version": 3
   },
   "file_extension": ".py",
   "mimetype": "text/x-python",
   "name": "python",
   "nbconvert_exporter": "python",
   "pygments_lexer": "ipython3",
   "version": "3.9.16"
  },
  "orig_nbformat": 4,
  "vscode": {
   "interpreter": {
    "hash": "445ed6cf482fbb061cdb0a2a7334000b4c125502b5b00eed934b742d6e6fd3af"
   }
  }
 },
 "nbformat": 4,
 "nbformat_minor": 2
}
