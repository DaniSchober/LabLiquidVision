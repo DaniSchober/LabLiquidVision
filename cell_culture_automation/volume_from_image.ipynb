{
 "cells": [
  {
   "cell_type": "code",
   "execution_count": 2,
   "metadata": {},
   "outputs": [],
   "source": [
    "from capture_image import capture_image\n",
    "import sys\n",
    "import os\n",
    "import warnings\n",
    "import cv2\n",
    "import numpy as np\n",
    "\n",
    "# add parent folder to sys.path\n",
    "sys.path.insert(0, os.path.abspath(\"..\"))\n",
    "\n",
    "# ignore DeprecationWarning messages\n",
    "warnings.filterwarnings(\"ignore\", category=DeprecationWarning)\n",
    "\n",
    "# ignore RuntimeWarning messages\n",
    "warnings.filterwarnings(\"ignore\", category=RuntimeWarning)\n",
    "\n",
    "from volume_estimation.src.models_no_input_vol.predict_full_pipeline import predict\n",
    "from segmentation_and_depth.src.models.predict_model import predict as predict_seg_depth"
   ]
  },
  {
   "cell_type": "code",
   "execution_count": 3,
   "metadata": {},
   "outputs": [
    {
     "name": "stdout",
     "output_type": "stream",
     "text": [
      "Image saved\n",
      "Path:  captured_images/20230607_164059/image.png\n"
     ]
    }
   ],
   "source": [
    "path = capture_image()\n",
    "print(\"Path: \", path)\n",
    "predict(path, save_segmentation=True, save_depth=True, predict_volume=False)"
   ]
  },
  {
   "cell_type": "code",
   "execution_count": 7,
   "metadata": {},
   "outputs": [
    {
     "name": "stdout",
     "output_type": "stream",
     "text": [
      "Segmentation map shape:  (1, 480, 640)\n"
     ]
    }
   ],
   "source": [
    "# load saved segmentation map as npy file\n",
    "segmentation_map_npy = np.load(path[:-4] + \"_VesselOpeningMask.npy\")\n",
    "print(\"Segmentation map shape: \", segmentation_map_npy.shape)"
   ]
  },
  {
   "cell_type": "code",
   "execution_count": 8,
   "metadata": {},
   "outputs": [
    {
     "name": "stdout",
     "output_type": "stream",
     "text": [
      "Value count of segmentation map:  {0: 305333, 1: 1867}\n"
     ]
    }
   ],
   "source": [
    "# value count of segmentation map\n",
    "unique, counts = np.unique(segmentation_map_npy, return_counts=True)\n",
    "print(\"Value count of segmentation map: \", dict(zip(unique, counts)))\n"
   ]
  },
  {
   "cell_type": "code",
   "execution_count": 4,
   "metadata": {},
   "outputs": [
    {
     "ename": "FileNotFoundError",
     "evalue": "[Errno 2] No such file or directory: 'output/model.txt'",
     "output_type": "error",
     "traceback": [
      "\u001b[1;31m---------------------------------------------------------------------------\u001b[0m",
      "\u001b[1;31mFileNotFoundError\u001b[0m                         Traceback (most recent call last)",
      "Cell \u001b[1;32mIn[4], line 2\u001b[0m\n\u001b[0;32m      1\u001b[0m model_path \u001b[39m=\u001b[39m \u001b[39m\"\u001b[39m\u001b[39m../segmentation_and_depth/models/segmentation_depth_model.torch\u001b[39m\u001b[39m\"\u001b[39m\n\u001b[1;32m----> 2\u001b[0m predict_seg_depth(model_path, path)\n",
      "File \u001b[1;32mc:\\Users\\apo_n\\Documents\\GitHub\\thesis\\segmentation_and_depth\\src\\models\\predict_model.py:69\u001b[0m, in \u001b[0;36mpredict\u001b[1;34m(model_path, image_path)\u001b[0m\n\u001b[0;32m     64\u001b[0m model\u001b[39m.\u001b[39meval()\n\u001b[0;32m     66\u001b[0m \u001b[39m# print model architecture\u001b[39;00m\n\u001b[0;32m     67\u001b[0m \u001b[39m#print(model)\u001b[39;00m\n\u001b[0;32m     68\u001b[0m \u001b[39m# save model architecture to file\u001b[39;00m\n\u001b[1;32m---> 69\u001b[0m \u001b[39mwith\u001b[39;00m \u001b[39mopen\u001b[39;49m(\u001b[39m\"\u001b[39;49m\u001b[39moutput/model.txt\u001b[39;49m\u001b[39m\"\u001b[39;49m, \u001b[39m\"\u001b[39;49m\u001b[39mw\u001b[39;49m\u001b[39m\"\u001b[39;49m) \u001b[39mas\u001b[39;00m f:\n\u001b[0;32m     70\u001b[0m     \u001b[39mprint\u001b[39m(model, file\u001b[39m=\u001b[39mf)\n\u001b[0;32m     72\u001b[0m \u001b[39m# Load image\u001b[39;00m\n",
      "\u001b[1;31mFileNotFoundError\u001b[0m: [Errno 2] No such file or directory: 'output/model.txt'"
     ]
    }
   ],
   "source": [
    "model_path = \"../segmentation_and_depth/models/segmentation_depth_model.torch\"\n",
    "predict_seg_depth(model_path, path)"
   ]
  },
  {
   "cell_type": "code",
   "execution_count": null,
   "metadata": {},
   "outputs": [],
   "source": []
  }
 ],
 "metadata": {
  "kernelspec": {
   "display_name": "thesis",
   "language": "python",
   "name": "python3"
  },
  "language_info": {
   "codemirror_mode": {
    "name": "ipython",
    "version": 3
   },
   "file_extension": ".py",
   "mimetype": "text/x-python",
   "name": "python",
   "nbconvert_exporter": "python",
   "pygments_lexer": "ipython3",
   "version": "3.9.16"
  },
  "orig_nbformat": 4
 },
 "nbformat": 4,
 "nbformat_minor": 2
}
