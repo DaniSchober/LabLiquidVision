{
 "cells": [
  {
   "cell_type": "code",
   "execution_count": null,
   "metadata": {},
   "outputs": [],
   "source": []
  },
  {
   "cell_type": "markdown",
   "metadata": {},
   "source": [
    "## UR5e control with python"
   ]
  },
  {
   "cell_type": "markdown",
   "metadata": {},
   "source": [
    "Installation guide: https://sdurobotics.gitlab.io/ur_rtde/installation/installation.html\n",
    "\n",
    "pip install --user ur_rtde\n",
    "\n",
    "sudo apt-get install libboost-all-dev\n",
    "\n",
    "git submodule update --init --recursive\n",
    "\n",
    "https://github.com/UniversalRobots/Universal_Robots_ROS_Driver/blob/master/ur_robot_driver/doc/install_urcap_e_series.md\n"
   ]
  },
  {
   "cell_type": "markdown",
   "metadata": {},
   "source": [
    "Initialization"
   ]
  },
  {
   "cell_type": "code",
   "execution_count": 20,
   "metadata": {},
   "outputs": [],
   "source": [
    "import rtde_control\n",
    "import rtde_receive\n",
    "import time\n",
    "from rtde_control import Path, PathEntry"
   ]
  },
  {
   "cell_type": "code",
   "execution_count": 31,
   "metadata": {},
   "outputs": [],
   "source": [
    "rtde_c = rtde_control.RTDEControlInterface(\"192.168.2.1\")  # IP address found on robot\n",
    "rtde_r = rtde_receive.RTDEReceiveInterface(\"192.168.2.1\")"
   ]
  },
  {
   "cell_type": "markdown",
   "metadata": {},
   "source": [
    "Init Poses "
   ]
  },
  {
   "cell_type": "code",
   "execution_count": 13,
   "metadata": {},
   "outputs": [],
   "source": [
    "middle_pos = [\n",
    "    -0.5892404615419603,\n",
    "    0.030096186269537212,\n",
    "    0.0204709361794337,\n",
    "    -2.2120065495659795,\n",
    "    -2.205496603905911,\n",
    "    -0.023032448184135128,\n",
    "]\n",
    "\n",
    "middle_joints = [\n",
    "    3.3211379051208496,\n",
    "    -2.336783548394674,\n",
    "    -1.9027351140975952,\n",
    "    -0.47548242033038335,\n",
    "    1.5530344247817993,\n",
    "    0.19170111417770386,\n",
    "]\n",
    "\n",
    "home_pos = [\n",
    "    -0.19161405312765759,\n",
    "    0.13472399156690068,\n",
    "    0.365305811889139,\n",
    "    -2.216389383069919,\n",
    "    -2.214478541184546,\n",
    "    -0.011795250688296986,\n",
    "]\n",
    "\n",
    "home_joints = [\n",
    "    3.141732692718506,\n",
    "    -0.7853349608233948,\n",
    "    -2.3561296463012695,\n",
    "    -1.5707891744430817,\n",
    "    1.570825219154358,\n",
    "    6.953880983928684e-06,\n",
    "]\n",
    "\n",
    "test_pick_pos = [\n",
    "    -0.7974861406917716,\n",
    "    0.13477626960710312,\n",
    "    -0.24014838365129754,\n",
    "    -2.216511611739429,\n",
    "    -2.2144969248838295,\n",
    "    -0.011791118425820252,\n",
    "]\n",
    "\n",
    "above_conveyor_pos = [\n",
    "    -0.10178399097655502,\n",
    "    0.42530727780286376,\n",
    "    0.36529650939521296,\n",
    "    -2.2164100615996616,\n",
    "    -2.2145170665255822,\n",
    "    -0.011858118701172806,\n",
    "]\n",
    "\n",
    "place_tube_pos = [\n",
    "    -0.10182622635392878,\n",
    "    0.42531419687684324,\n",
    "    0.2327819096662583,\n",
    "    -2.216210720751703,\n",
    "    -2.214618424988339,\n",
    "    -0.01182593627625963,\n",
    "]"
   ]
  },
  {
   "cell_type": "markdown",
   "metadata": {},
   "source": [
    "Get current pose (coordinates)"
   ]
  },
  {
   "cell_type": "code",
   "execution_count": 14,
   "metadata": {},
   "outputs": [
    {
     "data": {
      "text/plain": [
       "[-0.1916296911212659,\n",
       " 0.13505077364298387,\n",
       " 0.39980321581677863,\n",
       " -2.216400369508157,\n",
       " -2.2146255574355225,\n",
       " -0.011787709943431837]"
      ]
     },
     "execution_count": 14,
     "metadata": {},
     "output_type": "execute_result"
    }
   ],
   "source": [
    "pose = rtde_r.getActualTCPPose()\n",
    "pose"
   ]
  },
  {
   "cell_type": "markdown",
   "metadata": {},
   "source": [
    "Get current joint positions"
   ]
  },
  {
   "cell_type": "code",
   "execution_count": 15,
   "metadata": {},
   "outputs": [
    {
     "data": {
      "text/plain": [
       "[3.1421308517456055,\n",
       " -0.8009743851474305,\n",
       " -2.187337875366211,\n",
       " -1.7240215740599574,\n",
       " 1.5705572366714478,\n",
       " -0.0011161009417932632]"
      ]
     },
     "execution_count": 15,
     "metadata": {},
     "output_type": "execute_result"
    }
   ],
   "source": [
    "init_q = rtde_r.getActualQ()\n",
    "init_q"
   ]
  },
  {
   "cell_type": "markdown",
   "metadata": {},
   "source": [
    "Move to specified position"
   ]
  },
  {
   "cell_type": "code",
   "execution_count": 6,
   "metadata": {},
   "outputs": [],
   "source": [
    "pose[0] -= 0.2\n",
    "pose[2] -= 0.4"
   ]
  },
  {
   "cell_type": "code",
   "execution_count": 7,
   "metadata": {},
   "outputs": [
    {
     "data": {
      "text/plain": [
       "False"
      ]
     },
     "execution_count": 7,
     "metadata": {},
     "output_type": "execute_result"
    }
   ],
   "source": [
    "rtde_c.moveL(\n",
    "    pose, 0.1, 0.1\n",
    ")  # First argument is the pose 6d vector followed by speed and acceleration"
   ]
  },
  {
   "cell_type": "markdown",
   "metadata": {},
   "source": [
    "Move to specified joint positions"
   ]
  },
  {
   "cell_type": "code",
   "execution_count": 8,
   "metadata": {},
   "outputs": [
    {
     "name": "stderr",
     "output_type": "stream",
     "text": [
      "RTDEControlInterface: RTDE control script is not running!\n"
     ]
    },
    {
     "data": {
      "text/plain": [
       "False"
      ]
     },
     "execution_count": 8,
     "metadata": {},
     "output_type": "execute_result"
    }
   ],
   "source": [
    "rtde_c.moveJ(home_joints, 0.2, 0.2)"
   ]
  },
  {
   "cell_type": "markdown",
   "metadata": {},
   "source": [
    "### Test program"
   ]
  },
  {
   "cell_type": "code",
   "execution_count": 15,
   "metadata": {},
   "outputs": [
    {
     "data": {
      "text/plain": [
       "True"
      ]
     },
     "execution_count": 15,
     "metadata": {},
     "output_type": "execute_result"
    }
   ],
   "source": [
    "# Move to init\n",
    "rtde_c.moveJ(home_joints, 0.5, 0.5, True)\n",
    "time.sleep(3)\n",
    "\n",
    "# Move to middle pos\n",
    "rtde_c.moveJ(middle_joints, 0.5, 0.5, True)"
   ]
  },
  {
   "cell_type": "code",
   "execution_count": 16,
   "metadata": {},
   "outputs": [],
   "source": [
    "path1 = Path()\n",
    "path2 = Path()\n",
    "vel_L = 0.2\n",
    "acc_L = 0.2\n",
    "vel_J = 1.4\n",
    "acc_J = 1.4\n",
    "blend = 0.099\n",
    "path1.addEntry(\n",
    "    PathEntry(\n",
    "        PathEntry.MoveJ,\n",
    "        PathEntry.PositionTcpPose,\n",
    "        [\n",
    "            home_pos[0],\n",
    "            home_pos[1],\n",
    "            home_pos[2],\n",
    "            home_pos[3],\n",
    "            home_pos[4],\n",
    "            home_pos[5],\n",
    "            vel_J,\n",
    "            acc_J,\n",
    "            0.0,\n",
    "        ],\n",
    "    )\n",
    ")\n",
    "path1.addEntry(\n",
    "    PathEntry(\n",
    "        PathEntry.MoveJ,\n",
    "        PathEntry.PositionTcpPose,\n",
    "        [\n",
    "            middle_pos[0],\n",
    "            middle_pos[1],\n",
    "            middle_pos[2],\n",
    "            middle_pos[3],\n",
    "            middle_pos[4],\n",
    "            middle_pos[5],\n",
    "            vel_J,\n",
    "            acc_J,\n",
    "            blend,\n",
    "        ],\n",
    "    )\n",
    ")\n",
    "path1.addEntry(\n",
    "    PathEntry(\n",
    "        PathEntry.MoveJ,\n",
    "        PathEntry.PositionTcpPose,\n",
    "        [\n",
    "            test_pick_pos[0] + 0.3,\n",
    "            test_pick_pos[1],\n",
    "            test_pick_pos[2],\n",
    "            test_pick_pos[3],\n",
    "            test_pick_pos[4],\n",
    "            test_pick_pos[5],\n",
    "            vel_L,\n",
    "            acc_L,\n",
    "            0.0,\n",
    "        ],\n",
    "    )\n",
    ")\n",
    "\n",
    "path2.addEntry(\n",
    "    PathEntry(\n",
    "        PathEntry.MoveJ,\n",
    "        PathEntry.PositionTcpPose,\n",
    "        [\n",
    "            test_pick_pos[0] + 0.3,\n",
    "            test_pick_pos[1],\n",
    "            test_pick_pos[2] + 0.2,\n",
    "            test_pick_pos[3],\n",
    "            test_pick_pos[4],\n",
    "            test_pick_pos[5],\n",
    "            vel_J,\n",
    "            vel_J,\n",
    "            blend,\n",
    "        ],\n",
    "    )\n",
    ")\n",
    "path2.addEntry(\n",
    "    PathEntry(\n",
    "        PathEntry.MoveJ,\n",
    "        PathEntry.PositionTcpPose,\n",
    "        [\n",
    "            home_pos[0],\n",
    "            home_pos[1],\n",
    "            home_pos[2],\n",
    "            home_pos[3],\n",
    "            home_pos[4],\n",
    "            home_pos[5],\n",
    "            vel_J,\n",
    "            acc_J,\n",
    "            blend,\n",
    "        ],\n",
    "    )\n",
    ")\n",
    "path2.addEntry(\n",
    "    PathEntry(\n",
    "        PathEntry.MoveJ,\n",
    "        PathEntry.PositionTcpPose,\n",
    "        [\n",
    "            above_conveyor_pos[0],\n",
    "            above_conveyor_pos[1],\n",
    "            above_conveyor_pos[2],\n",
    "            above_conveyor_pos[3],\n",
    "            above_conveyor_pos[4],\n",
    "            above_conveyor_pos[5],\n",
    "            vel_J,\n",
    "            acc_J,\n",
    "            blend,\n",
    "        ],\n",
    "    )\n",
    ")\n",
    "path2.addEntry(\n",
    "    PathEntry(\n",
    "        PathEntry.MoveJ,\n",
    "        PathEntry.PositionTcpPose,\n",
    "        [\n",
    "            place_tube_pos[0],\n",
    "            place_tube_pos[1],\n",
    "            place_tube_pos[2],\n",
    "            place_tube_pos[3],\n",
    "            place_tube_pos[4],\n",
    "            place_tube_pos[5],\n",
    "            vel_J,\n",
    "            vel_J,\n",
    "            0.0,\n",
    "        ],\n",
    "    )\n",
    ")\n",
    "path2.addEntry(\n",
    "    PathEntry(\n",
    "        PathEntry.MoveJ,\n",
    "        PathEntry.PositionTcpPose,\n",
    "        [\n",
    "            above_conveyor_pos[0],\n",
    "            above_conveyor_pos[1],\n",
    "            above_conveyor_pos[2],\n",
    "            above_conveyor_pos[3],\n",
    "            above_conveyor_pos[4],\n",
    "            above_conveyor_pos[5],\n",
    "            vel_J,\n",
    "            vel_J,\n",
    "            blend,\n",
    "        ],\n",
    "    )\n",
    ")\n",
    "path2.addEntry(\n",
    "    PathEntry(\n",
    "        PathEntry.MoveJ,\n",
    "        PathEntry.PositionTcpPose,\n",
    "        [\n",
    "            home_pos[0],\n",
    "            home_pos[1],\n",
    "            home_pos[2],\n",
    "            home_pos[3],\n",
    "            home_pos[4],\n",
    "            home_pos[5],\n",
    "            vel_J,\n",
    "            acc_J,\n",
    "            0.0,\n",
    "        ],\n",
    "    )\n",
    ")"
   ]
  },
  {
   "cell_type": "code",
   "execution_count": 17,
   "metadata": {},
   "outputs": [],
   "source": [
    "rtde_c.movePath(path1, False)\n",
    "time.sleep(3)\n",
    "rtde_c.movePath(path2, False)"
   ]
  },
  {
   "cell_type": "markdown",
   "metadata": {},
   "source": [
    "Digital Output Control"
   ]
  },
  {
   "cell_type": "code",
   "execution_count": 17,
   "metadata": {},
   "outputs": [],
   "source": [
    "import rtde_io\n",
    "\n",
    "rtde_io = rtde_io.RTDEIOInterface(\"192.168.2.1\")"
   ]
  },
  {
   "cell_type": "code",
   "execution_count": 32,
   "metadata": {},
   "outputs": [
    {
     "data": {
      "text/plain": [
       "True"
      ]
     },
     "execution_count": 32,
     "metadata": {},
     "output_type": "execute_result"
    }
   ],
   "source": [
    "rtde_io.setStandardDigitalOut(0, True)"
   ]
  },
  {
   "cell_type": "code",
   "execution_count": 22,
   "metadata": {},
   "outputs": [],
   "source": [
    "home_pos = [\n",
    "    -0.19163239551678288,\n",
    "    0.13504921721798657,\n",
    "    0.3352908442361863,\n",
    "    -2.216415003649968,\n",
    "    -2.214597896269351,\n",
    "    -0.011771235355496306,\n",
    "]\n",
    "\n",
    "\n",
    "middle_pos = [\n",
    "    -0.5892404615419603,\n",
    "    0.030096186269537212,\n",
    "    0.0204709361794337,\n",
    "    -2.2120065495659795,\n",
    "    -2.205496603905911,\n",
    "    -0.023032448184135128,\n",
    "]\n",
    "\n",
    "above_conveyor_pos = [\n",
    "    -0.10178399097655502,\n",
    "    0.42530727780286376,\n",
    "    0.36529650939521296,\n",
    "    -2.2164100615996616,\n",
    "    -2.2145170665255822,\n",
    "    -0.011858118701172806,\n",
    "]\n",
    "\n",
    "place_tube_pos = [\n",
    "    -0.09530795655436443,\n",
    "    0.4193777515105637,\n",
    "    0.3130236559091107,\n",
    "    -2.2187837262553156,\n",
    "    -2.209625346523522,\n",
    "    0.0005215327962423823,\n",
    "]"
   ]
  },
  {
   "cell_type": "code",
   "execution_count": 23,
   "metadata": {},
   "outputs": [
    {
     "data": {
      "text/plain": [
       "False"
      ]
     },
     "execution_count": 23,
     "metadata": {},
     "output_type": "execute_result"
    }
   ],
   "source": [
    "rtde_c.moveL(home_pos, 0.2, 0.2)"
   ]
  },
  {
   "cell_type": "code",
   "execution_count": 44,
   "metadata": {},
   "outputs": [
    {
     "ename": "KeyboardInterrupt",
     "evalue": "",
     "output_type": "error",
     "traceback": [
      "\u001b[0;31m---------------------------------------------------------------------------\u001b[0m",
      "\u001b[0;31mKeyboardInterrupt\u001b[0m                         Traceback (most recent call last)",
      "\u001b[1;32m/home/actin/Documents/GitHub/Bin-Picking-Tubes/RTDE_Robot_Control.ipynb Cell 27\u001b[0m in \u001b[0;36m<cell line: 10>\u001b[0;34m()\u001b[0m\n\u001b[1;32m      <a href='vscode-notebook-cell:/home/actin/Documents/GitHub/Bin-Picking-Tubes/RTDE_Robot_Control.ipynb#X35sZmlsZQ%3D%3D?line=6'>7</a>\u001b[0m path\u001b[39m.\u001b[39maddEntry(PathEntry(PathEntry\u001b[39m.\u001b[39mMoveJ, PathEntry\u001b[39m.\u001b[39mPositionTcpPose, [home_pos[\u001b[39m0\u001b[39m], home_pos[\u001b[39m1\u001b[39m], home_pos[\u001b[39m2\u001b[39m], home_pos[\u001b[39m3\u001b[39m], home_pos[\u001b[39m4\u001b[39m], home_pos[\u001b[39m5\u001b[39m],  vel_J, acc_J, blend]))\n\u001b[1;32m      <a href='vscode-notebook-cell:/home/actin/Documents/GitHub/Bin-Picking-Tubes/RTDE_Robot_Control.ipynb#X35sZmlsZQ%3D%3D?line=7'>8</a>\u001b[0m path\u001b[39m.\u001b[39maddEntry(PathEntry(PathEntry\u001b[39m.\u001b[39mMoveJ, PathEntry\u001b[39m.\u001b[39mPositionTcpPose, [place_tube_pos[\u001b[39m0\u001b[39m], place_tube_pos[\u001b[39m1\u001b[39m], place_tube_pos[\u001b[39m2\u001b[39m], place_tube_pos[\u001b[39m3\u001b[39m], place_tube_pos[\u001b[39m4\u001b[39m], place_tube_pos[\u001b[39m5\u001b[39m],  vel_J, acc_J, blend]))\n\u001b[0;32m---> <a href='vscode-notebook-cell:/home/actin/Documents/GitHub/Bin-Picking-Tubes/RTDE_Robot_Control.ipynb#X35sZmlsZQ%3D%3D?line=9'>10</a>\u001b[0m rtde_c\u001b[39m.\u001b[39;49mmovePath(path, \u001b[39mFalse\u001b[39;49;00m)\n",
      "\u001b[0;31mKeyboardInterrupt\u001b[0m: "
     ]
    }
   ],
   "source": [
    "path = Path()\n",
    "blend = 0.0\n",
    "vel_J = 0.2\n",
    "acc_J = 0.2\n",
    "path.addEntry(\n",
    "    PathEntry(\n",
    "        PathEntry.MoveJ,\n",
    "        PathEntry.PositionTcpPose,\n",
    "        [\n",
    "            home_pos[0],\n",
    "            home_pos[1],\n",
    "            home_pos[2],\n",
    "            home_pos[3],\n",
    "            home_pos[4],\n",
    "            home_pos[5],\n",
    "            vel_J,\n",
    "            acc_J,\n",
    "            blend,\n",
    "        ],\n",
    "    )\n",
    ")\n",
    "path.addEntry(\n",
    "    PathEntry(\n",
    "        PathEntry.MoveJ,\n",
    "        PathEntry.PositionTcpPose,\n",
    "        [\n",
    "            middle_pos[0],\n",
    "            middle_pos[1],\n",
    "            middle_pos[2],\n",
    "            middle_pos[3],\n",
    "            middle_pos[4],\n",
    "            middle_pos[5],\n",
    "            vel_J,\n",
    "            acc_J,\n",
    "            blend,\n",
    "        ],\n",
    "    )\n",
    ")\n",
    "path.addEntry(\n",
    "    PathEntry(\n",
    "        PathEntry.MoveJ,\n",
    "        PathEntry.PositionTcpPose,\n",
    "        [\n",
    "            home_pos[0],\n",
    "            home_pos[1],\n",
    "            home_pos[2],\n",
    "            home_pos[3],\n",
    "            home_pos[4],\n",
    "            home_pos[5],\n",
    "            vel_J,\n",
    "            acc_J,\n",
    "            blend,\n",
    "        ],\n",
    "    )\n",
    ")\n",
    "path.addEntry(\n",
    "    PathEntry(\n",
    "        PathEntry.MoveJ,\n",
    "        PathEntry.PositionTcpPose,\n",
    "        [\n",
    "            place_tube_pos[0],\n",
    "            place_tube_pos[1],\n",
    "            place_tube_pos[2],\n",
    "            place_tube_pos[3],\n",
    "            place_tube_pos[4],\n",
    "            place_tube_pos[5],\n",
    "            vel_J,\n",
    "            acc_J,\n",
    "            blend,\n",
    "        ],\n",
    "    )\n",
    ")\n",
    "\n",
    "rtde_c.movePath(path, False)"
   ]
  },
  {
   "cell_type": "code",
   "execution_count": 35,
   "metadata": {},
   "outputs": [
    {
     "data": {
      "text/plain": [
       "True"
      ]
     },
     "execution_count": 35,
     "metadata": {},
     "output_type": "execute_result"
    }
   ],
   "source": [
    "rtde_c.moveL(middle_pos, 0.2, 0.2)"
   ]
  },
  {
   "cell_type": "code",
   "execution_count": 1,
   "metadata": {},
   "outputs": [
    {
     "name": "stdout",
     "output_type": "stream",
     "text": [
      "Activating Gripper\n"
     ]
    },
    {
     "ename": "NameError",
     "evalue": "name 'rtde_c' is not defined",
     "output_type": "error",
     "traceback": [
      "\u001b[0;31m---------------------------------------------------------------------------\u001b[0m",
      "\u001b[0;31mNameError\u001b[0m                                 Traceback (most recent call last)",
      "\u001b[1;32m/home/actin/Documents/GitHub/CellCultureAutomation/RTDE_Robot_Control.ipynb Cell 29\u001b[0m in \u001b[0;36m<cell line: 3>\u001b[0;34m()\u001b[0m\n\u001b[1;32m      <a href='vscode-notebook-cell:/home/actin/Documents/GitHub/CellCultureAutomation/RTDE_Robot_Control.ipynb#X40sZmlsZQ%3D%3D?line=0'>1</a>\u001b[0m \u001b[39mfrom\u001b[39;00m \u001b[39mrobotiq_gripper_control\u001b[39;00m \u001b[39mimport\u001b[39;00m RobotiqGripper\n\u001b[1;32m      <a href='vscode-notebook-cell:/home/actin/Documents/GitHub/CellCultureAutomation/RTDE_Robot_Control.ipynb#X40sZmlsZQ%3D%3D?line=1'>2</a>\u001b[0m \u001b[39mprint\u001b[39m(\u001b[39m\"\u001b[39m\u001b[39mActivating Gripper\u001b[39m\u001b[39m\"\u001b[39m)\n\u001b[0;32m----> <a href='vscode-notebook-cell:/home/actin/Documents/GitHub/CellCultureAutomation/RTDE_Robot_Control.ipynb#X40sZmlsZQ%3D%3D?line=2'>3</a>\u001b[0m gripper \u001b[39m=\u001b[39m RobotiqGripper(rtde_c)\n\u001b[1;32m      <a href='vscode-notebook-cell:/home/actin/Documents/GitHub/CellCultureAutomation/RTDE_Robot_Control.ipynb#X40sZmlsZQ%3D%3D?line=3'>4</a>\u001b[0m gripper\u001b[39m.\u001b[39mactivate()  \u001b[39m# returns to previous position after activation\u001b[39;00m\n\u001b[1;32m      <a href='vscode-notebook-cell:/home/actin/Documents/GitHub/CellCultureAutomation/RTDE_Robot_Control.ipynb#X40sZmlsZQ%3D%3D?line=4'>5</a>\u001b[0m gripper\u001b[39m.\u001b[39mset_force(\u001b[39m0\u001b[39m)  \u001b[39m# from 0 to 100 %\u001b[39;00m\n",
      "\u001b[0;31mNameError\u001b[0m: name 'rtde_c' is not defined"
     ]
    }
   ],
   "source": [
    "from robotiq_gripper_control import RobotiqGripper\n",
    "\n",
    "print(\"Activating Gripper\")\n",
    "gripper = RobotiqGripper(rtde_c)\n",
    "gripper.activate()  # returns to previous position after activation\n",
    "gripper.set_force(0)  # from 0 to 100 %\n",
    "gripper.set_speed(100)  # from 0 to 100 %\n",
    "print(\"Gripper activated\")"
   ]
  },
  {
   "cell_type": "code",
   "execution_count": 68,
   "metadata": {},
   "outputs": [
    {
     "data": {
      "text/plain": [
       "True"
      ]
     },
     "execution_count": 68,
     "metadata": {},
     "output_type": "execute_result"
    },
    {
     "name": "stderr",
     "output_type": "stream",
     "text": [
      "Exception: Operation canceled\n",
      "RTDEControlInterface: Could not receive data from robot...\n",
      "Operation canceled\n",
      "RTDEControlInterface: Robot is disconnected, reconnecting...\n"
     ]
    },
    {
     "name": "stdout",
     "output_type": "stream",
     "text": [
      "Reconnecting...\n",
      "Dashboard client deadline expired\n"
     ]
    },
    {
     "name": "stderr",
     "output_type": "stream",
     "text": [
      "RTDEControlInterface: Could not reconnect to robot...\n",
      "Timeout connecting to UR dashboard server.\n"
     ]
    }
   ],
   "source": [
    "path = Path()\n",
    "gripper.close()\n",
    "blend = 0.03\n",
    "vel_J = 1.5\n",
    "acc_J = 1.5\n",
    "path = Path()\n",
    "path.addEntry(\n",
    "    PathEntry(\n",
    "        PathEntry.MoveJ,\n",
    "        PathEntry.PositionTcpPose,\n",
    "        [\n",
    "            home_pos[0],\n",
    "            home_pos[1],\n",
    "            home_pos[2],\n",
    "            home_pos[3],\n",
    "            home_pos[4],\n",
    "            home_pos[5],\n",
    "            vel_J,\n",
    "            acc_J,\n",
    "            blend,\n",
    "        ],\n",
    "    )\n",
    ")\n",
    "path.addEntry(\n",
    "    PathEntry(\n",
    "        PathEntry.MoveJ,\n",
    "        PathEntry.PositionTcpPose,\n",
    "        [\n",
    "            above_conveyor_pos[0],\n",
    "            above_conveyor_pos[1],\n",
    "            above_conveyor_pos[2],\n",
    "            above_conveyor_pos[3],\n",
    "            above_conveyor_pos[4],\n",
    "            above_conveyor_pos[5],\n",
    "            vel_J,\n",
    "            acc_J,\n",
    "            blend,\n",
    "        ],\n",
    "    )\n",
    ")\n",
    "path.addEntry(\n",
    "    PathEntry(\n",
    "        PathEntry.MoveJ,\n",
    "        PathEntry.PositionTcpPose,\n",
    "        [\n",
    "            place_tube_pos[0],\n",
    "            place_tube_pos[1],\n",
    "            place_tube_pos[2],\n",
    "            place_tube_pos[3],\n",
    "            place_tube_pos[4],\n",
    "            place_tube_pos[5],\n",
    "            vel_J,\n",
    "            acc_J,\n",
    "            0.0,\n",
    "        ],\n",
    "    )\n",
    ")\n",
    "rtde_c.movePath(path, False)\n",
    "gripper.open()\n",
    "path2 = Path()\n",
    "path2.addEntry(\n",
    "    PathEntry(\n",
    "        PathEntry.MoveJ,\n",
    "        PathEntry.PositionTcpPose,\n",
    "        [\n",
    "            above_conveyor_pos[0],\n",
    "            above_conveyor_pos[1],\n",
    "            above_conveyor_pos[2],\n",
    "            above_conveyor_pos[3],\n",
    "            above_conveyor_pos[4],\n",
    "            above_conveyor_pos[5],\n",
    "            vel_J,\n",
    "            acc_J,\n",
    "            blend,\n",
    "        ],\n",
    "    )\n",
    ")\n",
    "path2.addEntry(\n",
    "    PathEntry(\n",
    "        PathEntry.MoveJ,\n",
    "        PathEntry.PositionTcpPose,\n",
    "        [\n",
    "            home_pos[0],\n",
    "            home_pos[1],\n",
    "            home_pos[2],\n",
    "            home_pos[3],\n",
    "            home_pos[4],\n",
    "            home_pos[5],\n",
    "            vel_J,\n",
    "            acc_J,\n",
    "            0.0,\n",
    "        ],\n",
    "    )\n",
    ")\n",
    "rtde_c.movePath(path2, False)\n",
    "gripper.close()"
   ]
  },
  {
   "cell_type": "code",
   "execution_count": 66,
   "metadata": {},
   "outputs": [
    {
     "data": {
      "text/plain": [
       "True"
      ]
     },
     "execution_count": 66,
     "metadata": {},
     "output_type": "execute_result"
    }
   ],
   "source": [
    "gripper.open()"
   ]
  },
  {
   "cell_type": "code",
   "execution_count": 67,
   "metadata": {},
   "outputs": [
    {
     "data": {
      "text/plain": [
       "True"
      ]
     },
     "execution_count": 67,
     "metadata": {},
     "output_type": "execute_result"
    }
   ],
   "source": [
    "gripper.close()"
   ]
  },
  {
   "cell_type": "code",
   "execution_count": 16,
   "metadata": {},
   "outputs": [],
   "source": [
    "import robotiq_gripper\n",
    "\n",
    "ip = \"192.168.2.1\"\n",
    "gripper = robotiq_gripper.RobotiqGripper()\n",
    "gripper.connect(ip, 63352)"
   ]
  },
  {
   "cell_type": "code",
   "execution_count": 17,
   "metadata": {},
   "outputs": [
    {
     "ename": "RuntimeError",
     "evalue": "Calibration failed because of an object: ObjectStatus.STOPPED_INNER_OBJECT",
     "output_type": "error",
     "traceback": [
      "\u001b[0;31m---------------------------------------------------------------------------\u001b[0m",
      "\u001b[0;31mRuntimeError\u001b[0m                              Traceback (most recent call last)",
      "\u001b[1;32m/home/actin/Documents/GitHub/Bin-Picking-Tubes/RTDE_Robot_Control.ipynb Cell 34\u001b[0m in \u001b[0;36m<cell line: 1>\u001b[0;34m()\u001b[0m\n\u001b[0;32m----> <a href='vscode-notebook-cell:/home/actin/Documents/GitHub/Bin-Picking-Tubes/RTDE_Robot_Control.ipynb#X53sZmlsZQ%3D%3D?line=0'>1</a>\u001b[0m gripper\u001b[39m.\u001b[39;49mauto_calibrate()\n",
      "File \u001b[0;32m~/Documents/GitHub/Bin-Picking-Tubes/robotiq_gripper.py:231\u001b[0m, in \u001b[0;36mRobotiqGripper.auto_calibrate\u001b[0;34m(self, log)\u001b[0m\n\u001b[1;32m    229\u001b[0m (position, status) \u001b[39m=\u001b[39m \u001b[39mself\u001b[39m\u001b[39m.\u001b[39mmove_and_wait_for_pos(\u001b[39mself\u001b[39m\u001b[39m.\u001b[39mget_closed_position(), \u001b[39m64\u001b[39m, \u001b[39m1\u001b[39m)\n\u001b[1;32m    230\u001b[0m \u001b[39mif\u001b[39;00m RobotiqGripper\u001b[39m.\u001b[39mObjectStatus(status) \u001b[39m!=\u001b[39m RobotiqGripper\u001b[39m.\u001b[39mObjectStatus\u001b[39m.\u001b[39mAT_DEST:\n\u001b[0;32m--> 231\u001b[0m     \u001b[39mraise\u001b[39;00m \u001b[39mRuntimeError\u001b[39;00m(\u001b[39mf\u001b[39m\u001b[39m\"\u001b[39m\u001b[39mCalibration failed because of an object: \u001b[39m\u001b[39m{\u001b[39;00m\u001b[39mstr\u001b[39m(status)\u001b[39m}\u001b[39;00m\u001b[39m\"\u001b[39m)\n\u001b[1;32m    232\u001b[0m \u001b[39massert\u001b[39;00m position \u001b[39m<\u001b[39m\u001b[39m=\u001b[39m \u001b[39mself\u001b[39m\u001b[39m.\u001b[39m_max_position\n\u001b[1;32m    233\u001b[0m \u001b[39mself\u001b[39m\u001b[39m.\u001b[39m_max_position \u001b[39m=\u001b[39m position\n",
      "\u001b[0;31mRuntimeError\u001b[0m: Calibration failed because of an object: ObjectStatus.STOPPED_INNER_OBJECT"
     ]
    }
   ],
   "source": []
  },
  {
   "cell_type": "code",
   "execution_count": 10,
   "metadata": {},
   "outputs": [
    {
     "data": {
      "text/plain": [
       "(True, 120)"
      ]
     },
     "execution_count": 10,
     "metadata": {},
     "output_type": "execute_result"
    }
   ],
   "source": [
    "gripper.move(120, speed=100, force=0)  # close gripper before gripping"
   ]
  },
  {
   "cell_type": "code",
   "execution_count": 24,
   "metadata": {},
   "outputs": [
    {
     "data": {
      "text/plain": [
       "(True, 140)"
      ]
     },
     "execution_count": 24,
     "metadata": {},
     "output_type": "execute_result"
    }
   ],
   "source": [
    "gripper.move(140, speed=25, force=0)  # gripping"
   ]
  },
  {
   "cell_type": "code",
   "execution_count": 12,
   "metadata": {},
   "outputs": [
    {
     "data": {
      "text/plain": [
       "False"
      ]
     },
     "execution_count": 12,
     "metadata": {},
     "output_type": "execute_result"
    }
   ],
   "source": [
    "gripper.is_closed()"
   ]
  },
  {
   "cell_type": "code",
   "execution_count": 18,
   "metadata": {},
   "outputs": [
    {
     "data": {
      "text/plain": [
       "246"
      ]
     },
     "execution_count": 18,
     "metadata": {},
     "output_type": "execute_result"
    }
   ],
   "source": [
    "gripper.get_current_position()"
   ]
  },
  {
   "cell_type": "code",
   "execution_count": 19,
   "metadata": {},
   "outputs": [
    {
     "data": {
      "text/plain": [
       "(True, 0)"
      ]
     },
     "execution_count": 19,
     "metadata": {},
     "output_type": "execute_result"
    }
   ],
   "source": [
    "gripper.move(0, speed=100, force=0)"
   ]
  },
  {
   "cell_type": "code",
   "execution_count": null,
   "metadata": {},
   "outputs": [],
   "source": []
  }
 ],
 "metadata": {
  "kernelspec": {
   "display_name": "Python 3.8.10 64-bit",
   "language": "python",
   "name": "python3"
  },
  "language_info": {
   "codemirror_mode": {
    "name": "ipython",
    "version": 3
   },
   "file_extension": ".py",
   "mimetype": "text/x-python",
   "name": "python",
   "nbconvert_exporter": "python",
   "pygments_lexer": "ipython3",
   "version": "3.8.10"
  },
  "orig_nbformat": 4,
  "vscode": {
   "interpreter": {
    "hash": "916dbcbb3f70747c44a77c7bcd40155683ae19c65e1c03b4aa3499c5328201f1"
   }
  }
 },
 "nbformat": 4,
 "nbformat_minor": 2
}
