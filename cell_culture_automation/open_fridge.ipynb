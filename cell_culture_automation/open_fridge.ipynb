{
 "cells": [
  {
   "cell_type": "code",
   "execution_count": 1,
   "metadata": {},
   "outputs": [],
   "source": [
    "import rtde_control\n",
    "import rtde_receive\n",
    "from rtde_control import Path, PathEntry\n",
    "import rtde_io\n",
    "from robotiq_gripper_control import RobotiqGripper\n",
    "import time\n",
    "\n",
    "def connect_robot(ip = \"192.168.2.1\"):\n",
    "    rtde_c = rtde_control.RTDEControlInterface(ip) #IP address found on robot\n",
    "    rtde_r = rtde_receive.RTDEReceiveInterface(ip)\n",
    "    rtde_io_set = rtde_io.RTDEIOInterface(ip)\n",
    "    return rtde_c, rtde_r, rtde_io_set"
   ]
  },
  {
   "cell_type": "code",
   "execution_count": 2,
   "metadata": {},
   "outputs": [],
   "source": [
    "rtde_c, rtde_r, rtde_io_set = connect_robot()"
   ]
  },
  {
   "cell_type": "code",
   "execution_count": 3,
   "metadata": {},
   "outputs": [
    {
     "name": "stdout",
     "output_type": "stream",
     "text": [
      "Activating Gripper\n",
      "Gripper activated\n"
     ]
    }
   ],
   "source": [
    "print(\"Activating Gripper\")\n",
    "gripper = RobotiqGripper(rtde_c)\n",
    "gripper.activate()  # returns to previous position after activation\n",
    "gripper.set_force(0)  # from 0 to 100 %\n",
    "gripper.set_speed(10)  # from 0 to 100 %\n",
    "print(\"Gripper activated\")"
   ]
  },
  {
   "cell_type": "code",
   "execution_count": 4,
   "metadata": {},
   "outputs": [],
   "source": [
    "home_pos = [-0.19171785391383447,\n",
    " 0.13627313847997366,\n",
    " 0.22530939672205824,\n",
    " -2.216400117559973,\n",
    " -2.214550992098179,\n",
    " -0.011655385945140848]\n",
    "\n",
    "home_joints = [3.1417369842529297,\n",
    " -0.7853723925403138,\n",
    " -2.3560631275177,\n",
    " -1.570796628991598,\n",
    " 1.5707793235778809,\n",
    " 0.0006903879693709314]\n",
    "\n",
    "front_of_fridge_pos = [0.037354822944905865,\n",
    " -0.24825749111275222,\n",
    " 0.34282709543281914,\n",
    " -2.217090871414762,\n",
    " -2.213490060914083,\n",
    " -0.010909179467102022]\n",
    "\n",
    "front_of_fridge_joints = [5.416409015655518,\n",
    " -0.893830732708313,\n",
    " -2.02213454246521,\n",
    " -1.8062273464598597,\n",
    " 1.5878287553787231,\n",
    " 2.2731659412384033]\n",
    "\n",
    "above_handle_pos = [0.05491959460896896,\n",
    " -0.44956027792188785,\n",
    " 0.35979355980006394,\n",
    " -2.217094792343091,\n",
    " -2.213527068894671,\n",
    " -0.010824180931132433]\n",
    "\n",
    "at_handle_pos = [0.054926389830941114,\n",
    " -0.44954841668865764,\n",
    " 0.33774434220332905,\n",
    " -2.2170938259659763,\n",
    " -2.2134289608966466,\n",
    " -0.010934041656813602]\n",
    "\n",
    "moved_1_pos = [0.05868260222119856,\n",
    " -0.41463254367603564,\n",
    " 0.33772153872149807,\n",
    " -2.217036686989687,\n",
    " -2.2134423540129555,\n",
    " -0.010928586526560514]\n",
    "\n",
    "moved_2_pos = [0.06646833731799005,\n",
    " -0.3767128442918177,\n",
    " 0.33771732524109105,\n",
    " -2.217089517028343,\n",
    " -2.213427684232617,\n",
    " -0.010948630951739776]\n",
    "\n",
    "moved_3_pos = [0.09201423685648819,\n",
    " -0.31525926096285134,\n",
    " 0.3377265503272256,\n",
    " -2.2169958888035124,\n",
    " -2.213520083099935,\n",
    " -0.010939648018368468]\n",
    "\n",
    "moved_4_pos = [0.09198307038325235,\n",
    " -0.3152594877464675,\n",
    " 0.36687523077628803,\n",
    " -2.217087902477325,\n",
    " -2.2134538862819295,\n",
    " -0.010948785079790038]\n",
    "\n",
    "moved_5_pos = [0.09202455568630771,\n",
    " -0.15824452312238377,\n",
    " 0.3668923164224088,\n",
    " -2.2170654572348663,\n",
    " -2.2134476257559528,\n",
    " -0.011024986666787905]"
   ]
  },
  {
   "cell_type": "code",
   "execution_count": 5,
   "metadata": {},
   "outputs": [],
   "source": [
    "def open_fridge():\n",
    "    velocity = 0.03\n",
    "    acceleration = 0.02\n",
    "    blend_1 = 0.0\n",
    "    blend_2 = 0.01\n",
    "    blend_3 = 0.0\n",
    "    path_pose1 = [at_handle_pos[0], at_handle_pos[1], at_handle_pos[2], at_handle_pos[3], at_handle_pos[4], at_handle_pos[5], velocity, acceleration, blend_1]\n",
    "    path_pose2 = [moved_1_pos[0], moved_1_pos[1], moved_1_pos[2], moved_1_pos[3], moved_1_pos[4], moved_1_pos[5], velocity, acceleration, blend_2]\n",
    "    path_pose3 = [moved_2_pos[0], moved_2_pos[1], moved_2_pos[2], moved_2_pos[3], moved_2_pos[4], moved_2_pos[5], velocity, acceleration, blend_2]\n",
    "    path_pose4 = [moved_3_pos[0], moved_3_pos[1], moved_3_pos[2], moved_3_pos[3], moved_3_pos[4], moved_3_pos[5], velocity, acceleration, blend_2]\n",
    "    path_pose5 = [moved_4_pos[0], moved_4_pos[1], moved_4_pos[2], moved_4_pos[3], moved_4_pos[4], moved_4_pos[5], velocity, acceleration, blend_2]\n",
    "    path_pose6 = [moved_5_pos[0], moved_5_pos[1], moved_5_pos[2], moved_5_pos[3], moved_5_pos[4], moved_5_pos[5], velocity, acceleration, blend_3]\n",
    "\n",
    "    path = [path_pose1, path_pose2, path_pose3, path_pose4, path_pose5, path_pose6]\n",
    "    rtde_c.moveJ(home_joints, 0.1, 0.1)\n",
    "    rtde_c.moveJ(front_of_fridge_joints, 0.4, 0.4)\n",
    "    rtde_c.moveL(above_handle_pos, 0.05, 0.05)\n",
    "    rtde_c.moveL(path)\n",
    "    rtde_c.moveJ(home_joints, 0.4, 0.4)"
   ]
  },
  {
   "cell_type": "code",
   "execution_count": 6,
   "metadata": {},
   "outputs": [
    {
     "ename": "",
     "evalue": "",
     "output_type": "error",
     "traceback": [
      "\u001b[1;31mThe Kernel crashed while executing code in the the current cell or a previous cell. Please review the code in the cell(s) to identify a possible cause of the failure. Click <a href='https://aka.ms/vscodeJupyterKernelCrash'>here</a> for more info. View Jupyter <a href='command:jupyter.viewOutput'>log</a> for further details."
     ]
    }
   ],
   "source": [
    "open_fridge()"
   ]
  },
  {
   "cell_type": "code",
   "execution_count": 24,
   "metadata": {},
   "outputs": [],
   "source": [
    "current_pos = rtde_r.getActualTCPPose()\n"
   ]
  },
  {
   "cell_type": "code",
   "execution_count": 25,
   "metadata": {},
   "outputs": [
    {
     "data": {
      "text/plain": [
       "[0.09202455568630771,\n",
       " -0.15824452312238377,\n",
       " 0.3668923164224088,\n",
       " -2.2170654572348663,\n",
       " -2.2134476257559528,\n",
       " -0.011024986666787905]"
      ]
     },
     "execution_count": 25,
     "metadata": {},
     "output_type": "execute_result"
    }
   ],
   "source": [
    "current_pos"
   ]
  },
  {
   "cell_type": "code",
   "execution_count": 10,
   "metadata": {},
   "outputs": [
    {
     "data": {
      "text/plain": [
       "[5.416409015655518,\n",
       " -0.893830732708313,\n",
       " -2.02213454246521,\n",
       " -1.8062273464598597,\n",
       " 1.5878287553787231,\n",
       " 2.2731659412384033]"
      ]
     },
     "execution_count": 10,
     "metadata": {},
     "output_type": "execute_result"
    }
   ],
   "source": [
    "init_q = rtde_r.getActualQ()\n",
    "init_q"
   ]
  },
  {
   "cell_type": "code",
   "execution_count": null,
   "metadata": {},
   "outputs": [],
   "source": []
  }
 ],
 "metadata": {
  "kernelspec": {
   "display_name": "cellculture",
   "language": "python",
   "name": "python3"
  },
  "language_info": {
   "codemirror_mode": {
    "name": "ipython",
    "version": 3
   },
   "file_extension": ".py",
   "mimetype": "text/x-python",
   "name": "python",
   "nbconvert_exporter": "python",
   "pygments_lexer": "ipython3",
   "version": "3.10.9"
  },
  "orig_nbformat": 4,
  "vscode": {
   "interpreter": {
    "hash": "445ed6cf482fbb061cdb0a2a7334000b4c125502b5b00eed934b742d6e6fd3af"
   }
  }
 },
 "nbformat": 4,
 "nbformat_minor": 2
}
