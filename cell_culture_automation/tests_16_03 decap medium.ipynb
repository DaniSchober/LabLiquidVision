{
 "cells": [
  {
   "cell_type": "code",
   "execution_count": 1,
   "metadata": {},
   "outputs": [],
   "source": [
    "import rtde_control\n",
    "import rtde_receive\n",
    "from rtde_control import Path, PathEntry\n",
    "import rtde_io\n",
    "from robotiq_gripper_control import RobotiqGripper\n",
    "import time\n",
    "import minimalmodbus\n",
    "\n",
    "\n",
    "def connect_robot(ip=\"192.168.2.1\"):\n",
    "    rtde_c = rtde_control.RTDEControlInterface(ip)  # IP address found on robot\n",
    "    rtde_r = rtde_receive.RTDEReceiveInterface(ip)\n",
    "    rtde_io_set = rtde_io.RTDEIOInterface(ip)\n",
    "    return rtde_c, rtde_r, rtde_io_set\n",
    "\n",
    "\n",
    "def initialize_decapper():\n",
    "    instrument = minimalmodbus.Instrument(\n",
    "        \"/dev/ttyUSB0\", 1\n",
    "    )  # port name, slave address (in decimal)\n",
    "    instrument.serial.baudrate = 115200  # Baud\n",
    "    minimalmodbus.MODE_RTU = \"rtu\"\n",
    "    instrument.write_register(256, 1)  # initialize gripper\n",
    "    time.sleep(3)\n",
    "    instrument.write_register(259, 1000)  # open/close gripper: 1=closed, 1000=open\n",
    "    return instrument"
   ]
  },
  {
   "cell_type": "code",
   "execution_count": 2,
   "metadata": {},
   "outputs": [],
   "source": [
    "rtde_c, rtde_r, rtde_io_set = connect_robot()\n",
    "instrument = initialize_decapper()"
   ]
  },
  {
   "cell_type": "code",
   "execution_count": 3,
   "metadata": {},
   "outputs": [
    {
     "name": "stdout",
     "output_type": "stream",
     "text": [
      "Activating Gripper\n",
      "Gripper activated\n"
     ]
    }
   ],
   "source": [
    "print(\"Activating Gripper\")\n",
    "gripper = RobotiqGripper(rtde_c)\n",
    "gripper.activate()  # returns to previous position after activation\n",
    "gripper.set_force(0)  # from 0 to 100 %\n",
    "gripper.set_speed(10)  # from 0 to 100 %\n",
    "print(\"Gripper activated\")"
   ]
  },
  {
   "cell_type": "code",
   "execution_count": 4,
   "metadata": {},
   "outputs": [],
   "source": [
    "home_pos = [\n",
    "    -0.19171785391383447,\n",
    "    0.13627313847997366,\n",
    "    0.22530939672205824,\n",
    "    -2.216400117559973,\n",
    "    -2.214550992098179,\n",
    "    -0.011655385945140848,\n",
    "]\n",
    "\n",
    "home_joints = [\n",
    "    3.1417369842529297,\n",
    "    -0.7853723925403138,\n",
    "    -2.3560631275177,\n",
    "    -1.570796628991598,\n",
    "    1.5707793235778809,\n",
    "    0.0006903879693709314,\n",
    "]\n",
    "\n",
    "turned_to_medium_joints = [\n",
    "    1.2,\n",
    "    -0.7853546303561707,\n",
    "    -2.3560631275177,\n",
    "    -1.5708304844298304,\n",
    "    1.5707474946975708,\n",
    "    -0.09389096895326787,\n",
    "]\n",
    "\n",
    "front_of_medium_joints = [\n",
    "    1.9955487251281738,\n",
    "    -1.7771555385985316,\n",
    "    -2.4277005195617676,\n",
    "    -2.0229040584959925,\n",
    "    0.4453906714916229,\n",
    "    -0.03315765062441045,\n",
    "]\n",
    "\n",
    "gripping_medium_pos = [\n",
    "    0.32302227235079833,\n",
    "    0.31220251479806876,\n",
    "    0.04961699910373372,\n",
    "    1.242464345380708,\n",
    "    1.205263846451164,\n",
    "    1.2070471275394923,\n",
    "]\n",
    "\n",
    "front_of_decapper_pos = [\n",
    "    -0.3331419874539266,\n",
    "    0.45369367425701873,\n",
    "    0.11327199744738782,\n",
    "    -0.5143837921752208,\n",
    "    -1.9351717108776767,\n",
    "    -1.9165440370569073,\n",
    "]\n",
    "\n",
    "below_decapper_pos = [\n",
    "    -0.3316146877373861,\n",
    "    0.5808466223324783,\n",
    "    0.11332700814063355,\n",
    "    -0.5354754656825224,\n",
    "    -1.9199056078070442,\n",
    "    -1.9018092257048145,\n",
    "]\n",
    "\n",
    "decapping_pos = [\n",
    "    -0.3316520531694605,\n",
    "    0.5816230354402923,\n",
    "    0.13217691438575127,\n",
    "    -0.5354853756905684,\n",
    "    -1.9197885063172049,\n",
    "    -1.9017210690212516,\n",
    "]"
   ]
  },
  {
   "cell_type": "code",
   "execution_count": 5,
   "metadata": {},
   "outputs": [],
   "source": [
    "def get_bottle():\n",
    "    rtde_c.moveJ(home_joints, 0.5, 0.5)\n",
    "    gripper.open()\n",
    "    gripper.set_force(30)\n",
    "    rtde_c.moveJ(turned_to_medium_joints, 0.5, 0.5)\n",
    "    rtde_c.moveJ(front_of_medium_joints, 0.2, 0.2)\n",
    "    rtde_c.moveL(gripping_medium_pos, 0.2, 0.2)\n",
    "    gripper.close()\n",
    "    current_pos = rtde_r.getActualTCPPose()\n",
    "    current_pos[2] += 0.2\n",
    "    rtde_c.moveL(current_pos, 0.2, 0.2)\n",
    "    current_pos = rtde_r.getActualTCPPose()\n",
    "    current_pos[0] -= 0.43\n",
    "    rtde_c.moveL(current_pos, 0.2, 0.2)\n",
    "    current_joints = rtde_r.getActualQ()\n",
    "    current_joints[4] -= 0.5\n",
    "    rtde_c.moveJ(current_joints, 0.2, 0.2)\n",
    "    current_pos = rtde_r.getActualTCPPose()\n",
    "    current_pos[1] -= 0.1\n",
    "    rtde_c.moveL(current_pos, 0.2, 0.2)\n",
    "    current_joints = rtde_r.getActualQ()\n",
    "    current_joints[4] -= 1.08\n",
    "    rtde_c.moveJ(current_joints, 0.2, 0.2)\n",
    "\n",
    "\n",
    "def decap_bottle():\n",
    "    instrument.write_register(259, 1000)  # open gripper\n",
    "    rtde_c.moveL(front_of_decapper_pos, 0.2, 0.2)\n",
    "    rtde_c.moveL(below_decapper_pos, 0.2, 0.2)\n",
    "    rtde_c.moveL(decapping_pos, 0.1, 0.1)\n",
    "    time.sleep(2)\n",
    "    instrument.write_register(259, 220)  # grip bottle\n",
    "    time.sleep(1)\n",
    "    instrument.write_register(261, 720)\n",
    "    time.sleep(1)\n",
    "    current_pos = rtde_r.getActualTCPPose()\n",
    "    current_pos[2] -= 0.025\n",
    "    rtde_c.moveL(current_pos, 0.2, 0.2)\n",
    "    rtde_c.moveL(front_of_decapper_pos, 0.2, 0.2)\n",
    "    gripper.open()\n",
    "    rtde_c.moveJ(home_joints, 0.5, 0.5)"
   ]
  },
  {
   "cell_type": "code",
   "execution_count": 15,
   "metadata": {},
   "outputs": [],
   "source": [
    "get_bottle()"
   ]
  },
  {
   "cell_type": "code",
   "execution_count": 16,
   "metadata": {},
   "outputs": [],
   "source": [
    "decap_bottle()"
   ]
  },
  {
   "cell_type": "code",
   "execution_count": 17,
   "metadata": {},
   "outputs": [],
   "source": [
    "instrument.write_register(259, 1000)  # open gripper"
   ]
  },
  {
   "cell_type": "code",
   "execution_count": null,
   "metadata": {},
   "outputs": [],
   "source": []
  }
 ],
 "metadata": {
  "kernelspec": {
   "display_name": "cellculture",
   "language": "python",
   "name": "python3"
  },
  "language_info": {
   "codemirror_mode": {
    "name": "ipython",
    "version": 3
   },
   "file_extension": ".py",
   "mimetype": "text/x-python",
   "name": "python",
   "nbconvert_exporter": "python",
   "pygments_lexer": "ipython3",
   "version": "3.10.9"
  },
  "orig_nbformat": 4,
  "vscode": {
   "interpreter": {
    "hash": "445ed6cf482fbb061cdb0a2a7334000b4c125502b5b00eed934b742d6e6fd3af"
   }
  }
 },
 "nbformat": 4,
 "nbformat_minor": 2
}
