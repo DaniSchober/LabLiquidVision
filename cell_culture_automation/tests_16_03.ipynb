{
 "cells": [
  {
   "cell_type": "code",
   "execution_count": 1,
   "metadata": {},
   "outputs": [],
   "source": [
    "import rtde_control\n",
    "import rtde_receive\n",
    "from rtde_control import Path, PathEntry\n",
    "import rtde_io\n",
    "from robotiq_gripper_control import RobotiqGripper\n",
    "import time"
   ]
  },
  {
   "cell_type": "code",
   "execution_count": 2,
   "metadata": {},
   "outputs": [],
   "source": [
    "def connect_robot(ip=\"192.168.2.1\"):\n",
    "    rtde_c = rtde_control.RTDEControlInterface(ip)  # IP address found on robot\n",
    "    rtde_r = rtde_receive.RTDEReceiveInterface(ip)\n",
    "    rtde_io_set = rtde_io.RTDEIOInterface(ip)\n",
    "    return rtde_c, rtde_r, rtde_io_set"
   ]
  },
  {
   "cell_type": "code",
   "execution_count": 3,
   "metadata": {},
   "outputs": [],
   "source": [
    "rtde_c, rtde_r, rtde_io_set = connect_robot()"
   ]
  },
  {
   "cell_type": "code",
   "execution_count": 4,
   "metadata": {},
   "outputs": [
    {
     "name": "stdout",
     "output_type": "stream",
     "text": [
      "Activating Gripper\n",
      "Gripper activated\n"
     ]
    }
   ],
   "source": [
    "print(\"Activating Gripper\")\n",
    "gripper = RobotiqGripper(rtde_c)\n",
    "gripper.activate()  # returns to previous position after activation\n",
    "gripper.set_force(0)  # from 0 to 100 %\n",
    "gripper.set_speed(10)  # from 0 to 100 %\n",
    "print(\"Gripper activated\")"
   ]
  },
  {
   "cell_type": "code",
   "execution_count": 4,
   "metadata": {},
   "outputs": [
    {
     "data": {
      "text/plain": [
       "'[-0.6127829934109292,\\n 0.1980693709730146,\\n 0.08214578624578214,\\n 0.04068626286652578,\\n -1.5708801802829553,\\n 0.019678722552025865]'"
      ]
     },
     "execution_count": 4,
     "metadata": {},
     "output_type": "execute_result"
    }
   ],
   "source": [
    "home_pos = [\n",
    "    -0.19171785391383447,\n",
    "    0.13627313847997366,\n",
    "    0.22530939672205824,\n",
    "    -2.216400117559973,\n",
    "    -2.214550992098179,\n",
    "    -0.011655385945140848,\n",
    "]\n",
    "\n",
    "home_joints = [\n",
    "    3.1417369842529297,\n",
    "    -0.7853723925403138,\n",
    "    -2.3560631275177,\n",
    "    -1.570796628991598,\n",
    "    1.5707793235778809,\n",
    "    0.0006903879693709314,\n",
    "]\n",
    "\n",
    "front_of_incubator_pos = [\n",
    "    -0.18132849937991355,\n",
    "    -0.3679708228594073,\n",
    "    0.720661961195772,\n",
    "    1.2204624721671815,\n",
    "    -1.2040970374232316,\n",
    "    1.2241694975948347,\n",
    "]  ## new\n",
    "\n",
    "\"\"\"\n",
    "# [-0.18136984240491064,\n",
    " -0.6125610883301832,\n",
    " 0.7202627227836621,\n",
    " 1.2282527407846417,\n",
    " -1.1905616126988476,\n",
    " 1.2112582035771693]\n",
    "\n",
    " [-0.18133330065999204,\n",
    " -0.6125613242475751,\n",
    " 0.7286851853874959,\n",
    " 1.228408341089947,\n",
    " -1.1907007695770362,\n",
    " 1.21136723913492]\n",
    " \"\"\"\n",
    "\n",
    "front_of_incubator_joints = [\n",
    "    4.383610725402832,\n",
    "    -1.281290666466095,\n",
    "    -1.1723852157592773,\n",
    "    -3.8264199695982875,\n",
    "    4.360137939453125,\n",
    "    1.583448886871338,\n",
    "]\n",
    "\n",
    "over_changer_joints = [\n",
    "    3.339607000350952,\n",
    "    -2.292309423486227,\n",
    "    -1.422972559928894,\n",
    "    -2.5316902599730433,\n",
    "    0.2237834930419922,\n",
    "    4.67471981048584,\n",
    "]\n",
    "\n",
    "over_changer_pos = [\n",
    "    -0.6245981296220946,\n",
    "    0.25022570529422855,\n",
    "    0.17051066042334836,\n",
    "    -1.1941623511254233,\n",
    "    1.2179730067587529,\n",
    "    1.1945186973192252,\n",
    "]\n",
    "\n",
    "grip_changer_pos_1 = [\n",
    "    -0.6245909538157457,\n",
    "    0.15019930329970343,\n",
    "    0.15855855829617369,\n",
    "    -1.1941419600862402,\n",
    "    1.2180070063542214,\n",
    "    1.1946325938941815,\n",
    "]\n",
    "\n",
    "grip_changer_pos_2 = [\n",
    "    -0.4502769662532311,\n",
    "    0.3186703033075754,\n",
    "    0.158938840389224,\n",
    "    -2.208420103257883,\n",
    "    0.01358139607373129,\n",
    "    2.215571343116052,\n",
    "]\n",
    "\n",
    "grip_changer_pos_3 = [\n",
    "    -0.5737113140491134,\n",
    "    0.31870229740778727,\n",
    "    0.15896776979406496,\n",
    "    -2.208358553771937,\n",
    "    0.013671655388727626,\n",
    "    2.215592076004586,\n",
    "]\n",
    "\n",
    "front_of_new_flasks_pos = [\n",
    "    0.2950583758025984,\n",
    "    0.3867662704396315,\n",
    "    0.045458652971989186,\n",
    "    -1.2186923157725582,\n",
    "    -1.1848882312252083,\n",
    "    -1.218559178432022,\n",
    "]\n",
    "\n",
    "turned_to_flask_pos = [\n",
    "    0.12732424856627178,\n",
    "    0.19778719494662886,\n",
    "    0.22530185297353472,\n",
    "    -3.139800345487405,\n",
    "    -0.07107586690583619,\n",
    "    -0.01769962787541179,\n",
    "]\n",
    "\n",
    "turned_to_flask_joints = [\n",
    "    0.891446590423584,\n",
    "    -2.110570570031637,\n",
    "    -2.4078848361968994,\n",
    "    -1.7478038273253382,\n",
    "    4.060787200927734,\n",
    "    1.5948678255081177,\n",
    "]\n",
    "\n",
    "incubator_closing_joints = [\n",
    "    2.482529401779175,\n",
    "    -1.2133799952319642,\n",
    "    -1.1805007457733154,\n",
    "    -3.884266277352804,\n",
    "    4.1642889976501465,\n",
    "    1.5839492082595825,\n",
    "]\n",
    "\n",
    "front_of_miscroscope_pos = [\n",
    "    -0.41388050689659883,\n",
    "    0.1750650772622419,\n",
    "    0.08218153855092553,\n",
    "    0.0406564345763103,\n",
    "    -1.570776637193879,\n",
    "    0.019654881719202173,\n",
    "]\n",
    "\n",
    "microscope_pos_1 = [\n",
    "    -0.6023525432650326,\n",
    "    0.1980722952723789,\n",
    "    0.08215312741288205,\n",
    "    0.04068837916844658,\n",
    "    -1.5708440058334778,\n",
    "    0.019607396781294046,\n",
    "]\n",
    "\n",
    "\"\"\"[-0.6127829934109292,\n",
    " 0.1980693709730146,\n",
    " 0.08214578624578214,\n",
    " 0.04068626286652578,\n",
    " -1.5708801802829553,\n",
    " 0.019678722552025865]\"\"\""
   ]
  },
  {
   "cell_type": "code",
   "execution_count": 5,
   "metadata": {},
   "outputs": [],
   "source": [
    "def pick_up_flask(position):  # lowest: position 5, highest: position 0\n",
    "    gripper.open()\n",
    "    # rtde_c.moveL(home_pos, 0.1, 0.1)\n",
    "    rtde_c.moveJ(home_joints, 1.5, 0.8)\n",
    "    rtde_c.moveJ(\n",
    "        front_of_incubator_joints, 0.4, 0.2\n",
    "    )  ##highest position, better than moveL\n",
    "\n",
    "    # move down for different positions\n",
    "    pick_up_pos = front_of_incubator_pos.copy()\n",
    "    pick_up_pos[2] -= position * 0.09\n",
    "    rtde_c.moveL(pick_up_pos, 0.1, 0.1)\n",
    "\n",
    "    pick_up_pos[1] -= 0.244593\n",
    "    rtde_c.moveL(pick_up_pos, 0.05, 0.1)\n",
    "    gripper.set_force(10)  # from 0 to 100 %\n",
    "    gripper.close()"
   ]
  },
  {
   "cell_type": "code",
   "execution_count": 8,
   "metadata": {},
   "outputs": [],
   "source": [
    "pick_up_flask(0)"
   ]
  },
  {
   "cell_type": "code",
   "execution_count": 9,
   "metadata": {},
   "outputs": [],
   "source": [
    "def remove_from_incubator():\n",
    "    current_pos = rtde_r.getActualTCPPose()\n",
    "    current_pos[2] += 0.0084224\n",
    "    rtde_c.moveL(current_pos, 0.05, 0.1)\n",
    "    current_pos[1] += 0.32\n",
    "    rtde_c.moveL(current_pos, 0.3, 0.2)"
   ]
  },
  {
   "cell_type": "code",
   "execution_count": 10,
   "metadata": {},
   "outputs": [],
   "source": [
    "remove_from_incubator()"
   ]
  },
  {
   "cell_type": "code",
   "execution_count": 5,
   "metadata": {},
   "outputs": [],
   "source": [
    "def bring_to_incubator_closing_pos():\n",
    "    rtde_c.moveJ(incubator_closing_joints, 1.5, 0.8)\n",
    "    # wait 5 seconds for the incubator to close\n",
    "    time.sleep(5)"
   ]
  },
  {
   "cell_type": "code",
   "execution_count": 6,
   "metadata": {},
   "outputs": [],
   "source": [
    "bring_to_incubator_closing_pos()"
   ]
  },
  {
   "cell_type": "code",
   "execution_count": 7,
   "metadata": {},
   "outputs": [],
   "source": [
    "def bring_to_microscope():\n",
    "    rtde_c.moveL(front_of_miscroscope_pos, 0.2, 0.2)\n",
    "    rtde_c.moveL(microscope_pos_1, 0.1, 0.1)\n",
    "    # wait 2 seconds for the microscope to analyze\n",
    "    time.sleep(2)\n",
    "    current_pos = rtde_r.getActualTCPPose()\n",
    "    current_pos[0] -= 0.01\n",
    "    rtde_c.moveL(current_pos, 0.05, 0.1)\n",
    "    # wait 2 seconds for the microscope to analyze\n",
    "    time.sleep(2)\n",
    "    current_pos[0] += 0.02\n",
    "    rtde_c.moveL(current_pos, 0.05, 0.1)\n",
    "    # wait 2 seconds for the microscope to analyze\n",
    "    time.sleep(2)\n",
    "    rtde_c.moveL(front_of_miscroscope_pos, 0.1, 0.1)"
   ]
  },
  {
   "cell_type": "code",
   "execution_count": 8,
   "metadata": {},
   "outputs": [],
   "source": [
    "bring_to_microscope()"
   ]
  },
  {
   "cell_type": "code",
   "execution_count": 80,
   "metadata": {},
   "outputs": [],
   "source": [
    "def change_grip():\n",
    "    rtde_c.moveL(home_pos, 0.5, 0.3)\n",
    "    rtde_c.moveJ(home_joints, 3.0, 1.5)\n",
    "    rtde_c.moveL(grip_changer_pos_2, 0.5, 0.3)\n",
    "    rtde_c.moveL(grip_changer_pos_3, 0.1, 0.3)\n",
    "    gripper.move(36)\n",
    "    grip_new_1 = grip_changer_pos_3.copy()\n",
    "    grip_new_1[2] += 0.02\n",
    "    rtde_c.moveL(grip_new_1, 0.05, 0.1)\n",
    "    grip_new_2 = grip_changer_pos_2.copy()\n",
    "    grip_new_2[2] += 0.02\n",
    "    rtde_c.moveL(grip_new_2, 0.2, 0.2)"
   ]
  },
  {
   "cell_type": "code",
   "execution_count": 83,
   "metadata": {},
   "outputs": [],
   "source": [
    "pick_up_flask(3)\n",
    "remove_from_incubator()\n",
    "bring_to_changer()\n",
    "change_grip()"
   ]
  },
  {
   "cell_type": "code",
   "execution_count": 62,
   "metadata": {},
   "outputs": [],
   "source": [
    "remove_from_incubator()"
   ]
  },
  {
   "cell_type": "code",
   "execution_count": 63,
   "metadata": {},
   "outputs": [],
   "source": [
    "bring_to_changer()"
   ]
  },
  {
   "cell_type": "code",
   "execution_count": 72,
   "metadata": {},
   "outputs": [],
   "source": [
    "change_grip()"
   ]
  },
  {
   "cell_type": "code",
   "execution_count": 7,
   "metadata": {},
   "outputs": [
    {
     "data": {
      "text/plain": [
       "False"
      ]
     },
     "execution_count": 7,
     "metadata": {},
     "output_type": "execute_result"
    }
   ],
   "source": [
    "gripper.open()\n",
    "rtde_c.moveL(home_pos, 0.1, 0.3)"
   ]
  },
  {
   "cell_type": "code",
   "execution_count": 9,
   "metadata": {},
   "outputs": [
    {
     "data": {
      "text/plain": [
       "True"
      ]
     },
     "execution_count": 9,
     "metadata": {},
     "output_type": "execute_result"
    }
   ],
   "source": [
    "rtde_c.moveJ(home_joints, 0.2, 0.2)"
   ]
  },
  {
   "cell_type": "code",
   "execution_count": 8,
   "metadata": {},
   "outputs": [
    {
     "data": {
      "text/plain": [
       "True"
      ]
     },
     "execution_count": 8,
     "metadata": {},
     "output_type": "execute_result"
    }
   ],
   "source": [
    "rtde_c.moveL(turned_to_flask_pos, 0.1, 0.3)"
   ]
  },
  {
   "cell_type": "code",
   "execution_count": 6,
   "metadata": {},
   "outputs": [
    {
     "data": {
      "text/plain": [
       "True"
      ]
     },
     "execution_count": 6,
     "metadata": {},
     "output_type": "execute_result"
    }
   ],
   "source": [
    "rtde_c.moveL(front_of_new_flasks_pos, 0.1, 0.3)"
   ]
  },
  {
   "cell_type": "code",
   "execution_count": 22,
   "metadata": {},
   "outputs": [
    {
     "data": {
      "text/plain": [
       "[-0.6127829934109292,\n",
       " 0.1980693709730146,\n",
       " 0.08214578624578214,\n",
       " 0.04068626286652578,\n",
       " -1.5708801802829553,\n",
       " 0.019678722552025865]"
      ]
     },
     "execution_count": 22,
     "metadata": {},
     "output_type": "execute_result"
    }
   ],
   "source": [
    "current_pos = rtde_r.getActualTCPPose()\n",
    "\n",
    "current_pos"
   ]
  },
  {
   "cell_type": "code",
   "execution_count": 18,
   "metadata": {},
   "outputs": [],
   "source": [
    "init_q = rtde_r.getActualQ()"
   ]
  },
  {
   "cell_type": "code",
   "execution_count": 15,
   "metadata": {},
   "outputs": [
    {
     "data": {
      "text/plain": [
       "[2.482529401779175,\n",
       " -1.2133799952319642,\n",
       " -1.1805007457733154,\n",
       " -3.884266277352804,\n",
       " 4.1642889976501465,\n",
       " 1.5839492082595825]"
      ]
     },
     "execution_count": 15,
     "metadata": {},
     "output_type": "execute_result"
    }
   ],
   "source": [
    "init_q"
   ]
  },
  {
   "cell_type": "code",
   "execution_count": 16,
   "metadata": {},
   "outputs": [
    {
     "data": {
      "text/plain": [
       "False"
      ]
     },
     "execution_count": 16,
     "metadata": {},
     "output_type": "execute_result"
    }
   ],
   "source": [
    "rtde_c.moveJ(init_q, 0.1, 0.2)"
   ]
  },
  {
   "cell_type": "code",
   "execution_count": 9,
   "metadata": {},
   "outputs": [
    {
     "ename": "NameError",
     "evalue": "name 'gripper' is not defined",
     "output_type": "error",
     "traceback": [
      "\u001b[0;31m---------------------------------------------------------------------------\u001b[0m",
      "\u001b[0;31mNameError\u001b[0m                                 Traceback (most recent call last)",
      "Cell \u001b[0;32mIn[9], line 1\u001b[0m\n\u001b[0;32m----> 1\u001b[0m gripper\u001b[39m.\u001b[39mopen()\n",
      "\u001b[0;31mNameError\u001b[0m: name 'gripper' is not defined"
     ]
    },
    {
     "ename": "",
     "evalue": "",
     "output_type": "error",
     "traceback": [
      "\u001b[1;31mThe Kernel crashed while executing code in the the current cell or a previous cell. Please review the code in the cell(s) to identify a possible cause of the failure. Click <a href='https://aka.ms/vscodeJupyterKernelCrash'>here</a> for more info. View Jupyter <a href='command:jupyter.viewOutput'>log</a> for further details."
     ]
    }
   ],
   "source": [
    "gripper.open()"
   ]
  },
  {
   "cell_type": "code",
   "execution_count": null,
   "metadata": {},
   "outputs": [],
   "source": []
  }
 ],
 "metadata": {
  "kernelspec": {
   "display_name": "cellculture",
   "language": "python",
   "name": "python3"
  },
  "language_info": {
   "codemirror_mode": {
    "name": "ipython",
    "version": 3
   },
   "file_extension": ".py",
   "mimetype": "text/x-python",
   "name": "python",
   "nbconvert_exporter": "python",
   "pygments_lexer": "ipython3",
   "version": "3.10.9"
  },
  "orig_nbformat": 4,
  "vscode": {
   "interpreter": {
    "hash": "445ed6cf482fbb061cdb0a2a7334000b4c125502b5b00eed934b742d6e6fd3af"
   }
  }
 },
 "nbformat": 4,
 "nbformat_minor": 2
}
