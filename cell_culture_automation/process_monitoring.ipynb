{
 "cells": [
  {
   "cell_type": "code",
   "execution_count": 1,
   "metadata": {},
   "outputs": [],
   "source": [
    "import rtde_control\n",
    "import rtde_receive\n",
    "from rtde_control import Path, PathEntry\n",
    "import rtde_io\n",
    "from robotiq_gripper_control import RobotiqGripper\n",
    "import time\n",
    "\n",
    "\n",
    "def connect_robot(ip=\"192.168.2.1\"):\n",
    "    rtde_c = rtde_control.RTDEControlInterface(ip)  # IP address found on robot\n",
    "    rtde_r = rtde_receive.RTDEReceiveInterface(ip)\n",
    "    rtde_io_set = rtde_io.RTDEIOInterface(ip)\n",
    "    return rtde_c, rtde_r, rtde_io_set"
   ]
  },
  {
   "cell_type": "code",
   "execution_count": 2,
   "metadata": {},
   "outputs": [],
   "source": [
    "from capture_image import capture_image\n",
    "import sys\n",
    "import os\n",
    "import warnings\n",
    "import numpy as np\n",
    "\n",
    "# add parent folder to sys.path\n",
    "sys.path.insert(0, os.path.abspath(\"..\"))\n",
    "\n",
    "# ignore DeprecationWarning messages\n",
    "warnings.filterwarnings(\"ignore\", category=DeprecationWarning)\n",
    "\n",
    "# ignore RuntimeWarning messages\n",
    "warnings.filterwarnings(\"ignore\", category=RuntimeWarning)\n",
    "\n",
    "from volume_estimation.src.models_1_no_vol.predict_full_pipeline import predict_no_vol\n",
    "from segmentation_and_depth.src.models.predict_model import predict as predict_seg_depth\n",
    "from volume_estimation.src.models_2_input_vol.predict_full_pipeline import (\n",
    "    predict_with_vol,\n",
    ")"
   ]
  },
  {
   "cell_type": "code",
   "execution_count": 3,
   "metadata": {},
   "outputs": [
    {
     "name": "stdout",
     "output_type": "stream",
     "text": [
      "Activating Gripper\n",
      "Gripper activated\n"
     ]
    }
   ],
   "source": [
    "rtde_c, rtde_r, rtde_io_set = connect_robot()\n",
    "print(\"Activating Gripper\")\n",
    "gripper = RobotiqGripper(rtde_c)\n",
    "gripper.activate()  # returns to previous position after activation\n",
    "gripper.set_force(0)  # from 0 to 100 %\n",
    "gripper.set_speed(10)  # from 0 to 100 %\n",
    "print(\"Gripper activated\")"
   ]
  },
  {
   "cell_type": "code",
   "execution_count": 4,
   "metadata": {},
   "outputs": [],
   "source": [
    "j_start = [-3.141514603291647,\n",
    " -0.39998288572344975,\n",
    " -1.7599776983261108,\n",
    " 2.149993820781372,\n",
    " -1.5708015600787562,\n",
    " -1.5499151388751429]\n",
    "\n",
    "j_up = [-1.2547920385943812,\n",
    " -1.1487035018256684,\n",
    " -0.9265894889831543,\n",
    " 3.4698049265095214,\n",
    " -2.3617973963366907,\n",
    " -2.868312184010641]\n",
    "\n",
    "j_bottles_pic = [-0.3581450621234339,\n",
    " -1.9314056835570277,\n",
    " -1.2249127626419067,\n",
    " 1.648374004954956,\n",
    " -1.5516436735736292,\n",
    " -1.853001896535055]\n",
    "\n",
    "j_miscroscope = [-3.523916546498434,\n",
    " -1.4186616402915497,\n",
    " -2.1420812606811523,\n",
    " 3.26844231664624,\n",
    " -1.840297047291891,\n",
    " -3.248759094868795]\n",
    "\n",
    "j_flasks_1 = [-3.149257485066549,\n",
    " -1.2185992461493989,\n",
    " -2.3591017723083496,\n",
    " 2.720782919520996,\n",
    " -1.07640248933901,\n",
    " -2.7709713617907923]\n",
    "\n",
    "j_bottle_holder = [-3.169065777455465,\n",
    " -1.727936407128805,\n",
    " -2.395404815673828,\n",
    " 2.8663622575947265,\n",
    " -0.6110208670245569,\n",
    " -1.927342716847555]\n",
    "\n",
    "j_flask_holders_trash = [-3.504859511052267,\n",
    " -1.2505887907794495,\n",
    " -2.19888973236084,\n",
    " 2.0256845194050292,\n",
    " -0.8002708593951624,\n",
    " -1.601645294819967]\n",
    "\n",
    "j_flask_storage_1 = [-4.287753526364462,\n",
    " -1.8319250545897425,\n",
    " -1.2737982273101807,\n",
    " 3.1778737741657714,\n",
    " 0.3764202296733856,\n",
    " -3.236988369618551]\n",
    "\n",
    "j_flask_storage_2 = [-4.287816349660055,\n",
    " -1.8942696056761683,\n",
    " -1.6332104206085205,\n",
    " 3.597304506892822,\n",
    " 0.3639531135559082,\n",
    " -3.235102717076437]\n",
    "\n",
    "j_flask_storage_3 = [-4.288263742123739,\n",
    " -2.134270807305807,\n",
    " -1.8128883838653564,\n",
    " 4.010412855739258,\n",
    " 0.36713337898254395,\n",
    " -3.228081766759054]\n"
   ]
  },
  {
   "cell_type": "code",
   "execution_count": 19,
   "metadata": {},
   "outputs": [],
   "source": [
    "def check_microscope():\n",
    "    flask_present = False\n",
    "    path = capture_image()\n",
    "    print(\"Path: \", path)\n",
    "    predict_no_vol(path, save_segmentation=True, save_depth=False, predict_volume=False, no_GPU=True)\n",
    "    segmentation_map_npy = np.load(path[:-4] + \"_VesselMask.npy\")\n",
    "    # value count of segmentation map\n",
    "    unique, counts = np.unique(segmentation_map_npy, return_counts=True)\n",
    "    print(\"Value count of segmentation map: \", dict(zip(unique, counts)))\n",
    "\n",
    "    # if counts only contains 0, then vessel is closed:\n",
    "    if len(counts) == 1:\n",
    "        print(\"No flask present.\")\n",
    "        return flask_present\n",
    "    if counts[1] > 10000:\n",
    "        print(\"Flask present. Please remove flask from microscope holder.\")\n",
    "        flask_present = True\n",
    "        return flask_present\n",
    "    else:\n",
    "        print(\"No flask present.\")\n",
    "        return flask_present\n",
    "    \n",
    "def check_flasks_1():\n",
    "    flask_present = False\n",
    "    path = capture_image()\n",
    "    print(\"Path: \", path)\n",
    "    predict_no_vol(path, save_segmentation=True, save_depth=False, predict_volume=False, no_GPU=True)\n",
    "    segmentation_map_npy = np.load(path[:-4] + \"_VesselMask.npy\")\n",
    "    # value count of segmentation map\n",
    "    unique, counts = np.unique(segmentation_map_npy, return_counts=True)\n",
    "    print(\"Value count of segmentation map: \", dict(zip(unique, counts)))\n",
    "\n",
    "    # if counts only contains 0, then vessel is closed:\n",
    "    if len(counts) == 1:\n",
    "        print(\"No flask present.\")\n",
    "        return flask_present\n",
    "    if counts[1] > 5000:\n",
    "        print(\"Flask present. Please remove flask from flask holder.\")\n",
    "        flask_present = True\n",
    "        return flask_present\n",
    "    else:\n",
    "        print(\"No flask present.\")\n",
    "        return flask_present\n",
    "    \n",
    "def check_bottle_holder():\n",
    "    flask_present = False\n",
    "    path = capture_image()\n",
    "    print(\"Path: \", path)\n",
    "    predict_no_vol(path, save_segmentation=True, save_depth=False, predict_volume=False, no_GPU=True)\n",
    "    segmentation_map_npy = np.load(path[:-4] + \"_VesselMask.npy\")\n",
    "    # value count of segmentation map\n",
    "    unique, counts = np.unique(segmentation_map_npy, return_counts=True)\n",
    "    print(\"Value count of segmentation map: \", dict(zip(unique, counts)))\n",
    "\n",
    "    # if counts only contains 0, then vessel is closed:\n",
    "    if len(counts) == 1:\n",
    "        print(\"No bottle present.\")\n",
    "        return flask_present\n",
    "    if counts[1] > 5000:\n",
    "        print(\"Bottle present. Please remove bottle from bottle holder.\")\n",
    "        flask_present = True\n",
    "        return flask_present\n",
    "    else:\n",
    "        print(\"No bottle present.\")\n",
    "        return flask_present\n",
    "    \n",
    "def check_flask_holder_and_trash():\n",
    "    flask_present = False\n",
    "    trash_present = True\n",
    "    path = capture_image()\n",
    "    print(\"Path: \", path)\n",
    "    predict_no_vol(path, save_segmentation=True, save_depth=False, predict_volume=False, no_GPU=True)\n",
    "    segmentation_map_npy = np.load(path[:-4] + \"_VesselMask.npy\")\n",
    "    # value count of segmentation map\n",
    "    unique, counts = np.unique(segmentation_map_npy, return_counts=True)\n",
    "    print(\"Value count of segmentation map: \", dict(zip(unique, counts)))\n",
    "\n",
    "    if counts[1] < 5000:\n",
    "        print(\"No trash present. Please add trash bottle.\")\n",
    "        trash_present = False\n",
    "        return flask_present, trash_present\n",
    "    if counts[1] < 28000:\n",
    "        print(\"Everything okay.\")\n",
    "        return flask_present, trash_present\n",
    "    else:\n",
    "        print(\"Flask present. Please remove flask from flask holder.\")\n",
    "        flask_present = True\n",
    "        return flask_present, trash_present\n",
    "    \n",
    "        \n",
    "def check_flask_storage():\n",
    "    flask_1_present = False\n",
    "    flask_2_present = False\n",
    "    path = capture_image()\n",
    "    print(\"Path: \", path)\n",
    "    predict_no_vol(path, save_segmentation=True, save_depth=False, predict_volume=False, no_GPU=True)\n",
    "    segmentation_map_npy = np.load(path[:-4] + \"_VesselMask.npy\")\n",
    "    # value count of segmentation map\n",
    "    unique, counts = np.unique(segmentation_map_npy, return_counts=True)\n",
    "    print(\"Value count of segmentation map: \", dict(zip(unique, counts)))\n",
    "\n",
    "    if counts[1] < 3000:\n",
    "        return flask_1_present, flask_2_present\n",
    "    if counts[1] < 5000:\n",
    "        return flask_present, trash_present\n",
    "    else:\n",
    "        print(\"Flask present. Please remove flask from flask holder.\")\n",
    "        flask_present = True\n",
    "        return flask_present, trash_present"
   ]
  },
  {
   "cell_type": "code",
   "execution_count": 4,
   "metadata": {},
   "outputs": [
    {
     "data": {
      "text/plain": [
       "[-1.2547271887408655,\n",
       " -1.1486415725997468,\n",
       " -0.9266389608383179,\n",
       " 3.469817801112793,\n",
       " -2.3618019262896937,\n",
       " -2.868333164845602]"
      ]
     },
     "execution_count": 4,
     "metadata": {},
     "output_type": "execute_result"
    }
   ],
   "source": [
    "init_q = rtde_r.getActualQ()\n",
    "init_q"
   ]
  },
  {
   "cell_type": "code",
   "execution_count": 4,
   "metadata": {},
   "outputs": [
    {
     "data": {
      "text/plain": [
       "True"
      ]
     },
     "execution_count": 4,
     "metadata": {},
     "output_type": "execute_result"
    }
   ],
   "source": [
    "rtde_c.moveJ(j_start, 0.2, 0.2)"
   ]
  },
  {
   "cell_type": "code",
   "execution_count": 6,
   "metadata": {},
   "outputs": [
    {
     "data": {
      "text/plain": [
       "True"
      ]
     },
     "execution_count": 6,
     "metadata": {},
     "output_type": "execute_result"
    }
   ],
   "source": [
    "rtde_c.moveJ(j_up, 0.2, 0.2)"
   ]
  },
  {
   "cell_type": "code",
   "execution_count": 7,
   "metadata": {},
   "outputs": [
    {
     "data": {
      "text/plain": [
       "True"
      ]
     },
     "execution_count": 7,
     "metadata": {},
     "output_type": "execute_result"
    }
   ],
   "source": [
    "rtde_c.moveJ(j_bottles_pic, 0.2, 0.2)"
   ]
  },
  {
   "cell_type": "code",
   "execution_count": 8,
   "metadata": {},
   "outputs": [
    {
     "data": {
      "text/plain": [
       "True"
      ]
     },
     "execution_count": 8,
     "metadata": {},
     "output_type": "execute_result"
    }
   ],
   "source": [
    "rtde_c.moveJ(j_up, 0.2, 0.2)"
   ]
  },
  {
   "cell_type": "code",
   "execution_count": null,
   "metadata": {},
   "outputs": [],
   "source": [
    "rtde_c.moveJ(j_start, 0.2, 0.2)"
   ]
  },
  {
   "cell_type": "code",
   "execution_count": 16,
   "metadata": {},
   "outputs": [
    {
     "data": {
      "text/plain": [
       "True"
      ]
     },
     "execution_count": 16,
     "metadata": {},
     "output_type": "execute_result"
    }
   ],
   "source": [
    "rtde_c.moveJ(j_miscroscope, 0.2, 0.2)"
   ]
  },
  {
   "cell_type": "code",
   "execution_count": 21,
   "metadata": {},
   "outputs": [
    {
     "name": "stdout",
     "output_type": "stream",
     "text": [
      "Image saved\n",
      "Path:  captured_images/20230710_161309/image.png\n",
      "Value count of segmentation map:  {0: 203499, 1: 103701}\n",
      "Flask present. Please remove flask from microscope holder.\n"
     ]
    },
    {
     "data": {
      "text/plain": [
       "True"
      ]
     },
     "execution_count": 21,
     "metadata": {},
     "output_type": "execute_result"
    }
   ],
   "source": [
    "check_microscope()"
   ]
  },
  {
   "cell_type": "code",
   "execution_count": 23,
   "metadata": {},
   "outputs": [
    {
     "data": {
      "text/plain": [
       "True"
      ]
     },
     "execution_count": 23,
     "metadata": {},
     "output_type": "execute_result"
    }
   ],
   "source": [
    "rtde_c.moveJ(j_flasks_1, 0.2, 0.2)"
   ]
  },
  {
   "cell_type": "code",
   "execution_count": 30,
   "metadata": {},
   "outputs": [
    {
     "name": "stdout",
     "output_type": "stream",
     "text": [
      "Image saved\n",
      "Path:  captured_images/20230710_161810/image.png\n",
      "Value count of segmentation map:  {0: 258952, 1: 48248}\n",
      "Flask present. Please remove flask from flask holder.\n"
     ]
    },
    {
     "data": {
      "text/plain": [
       "True"
      ]
     },
     "execution_count": 30,
     "metadata": {},
     "output_type": "execute_result"
    }
   ],
   "source": [
    "check_flasks_1()"
   ]
  },
  {
   "cell_type": "code",
   "execution_count": 6,
   "metadata": {},
   "outputs": [
    {
     "data": {
      "text/plain": [
       "True"
      ]
     },
     "execution_count": 6,
     "metadata": {},
     "output_type": "execute_result"
    }
   ],
   "source": [
    "rtde_c.moveJ(j_bottle_holder, 0.2, 0.2)"
   ]
  },
  {
   "cell_type": "code",
   "execution_count": 9,
   "metadata": {},
   "outputs": [
    {
     "name": "stdout",
     "output_type": "stream",
     "text": [
      "Image saved\n",
      "Path:  captured_images/20230710_162131/image.png\n",
      "Value count of segmentation map:  {0: 208699, 1: 98501}\n",
      "Bottle present. Please remove bottle from bottle holder.\n"
     ]
    },
    {
     "data": {
      "text/plain": [
       "True"
      ]
     },
     "execution_count": 9,
     "metadata": {},
     "output_type": "execute_result"
    }
   ],
   "source": [
    "check_bottle_holder()"
   ]
  },
  {
   "cell_type": "code",
   "execution_count": 10,
   "metadata": {},
   "outputs": [
    {
     "data": {
      "text/plain": [
       "True"
      ]
     },
     "execution_count": 10,
     "metadata": {},
     "output_type": "execute_result"
    }
   ],
   "source": [
    "rtde_c.moveJ(j_flask_holders_trash, 0.2, 0.2)"
   ]
  },
  {
   "cell_type": "code",
   "execution_count": 17,
   "metadata": {},
   "outputs": [
    {
     "name": "stdout",
     "output_type": "stream",
     "text": [
      "Image saved\n",
      "Path:  captured_images/20230710_162905/image.png\n",
      "Value count of segmentation map:  {0: 260436, 1: 46764}\n",
      "Flask present. Please remove flask from flask holder.\n"
     ]
    },
    {
     "data": {
      "text/plain": [
       "(True, True)"
      ]
     },
     "execution_count": 17,
     "metadata": {},
     "output_type": "execute_result"
    }
   ],
   "source": [
    "check_flask_holder_and_trash()"
   ]
  },
  {
   "cell_type": "code",
   "execution_count": 18,
   "metadata": {},
   "outputs": [
    {
     "data": {
      "text/plain": [
       "True"
      ]
     },
     "execution_count": 18,
     "metadata": {},
     "output_type": "execute_result"
    }
   ],
   "source": [
    "rtde_c.moveJ(j_flask_storage_1, 0.2, 0.2)"
   ]
  },
  {
   "cell_type": "code",
   "execution_count": 10,
   "metadata": {},
   "outputs": [
    {
     "data": {
      "text/plain": [
       "True"
      ]
     },
     "execution_count": 10,
     "metadata": {},
     "output_type": "execute_result"
    }
   ],
   "source": [
    "rtde_c.moveJ(j_flask_storage_2, 0.2, 0.2)"
   ]
  },
  {
   "cell_type": "code",
   "execution_count": 11,
   "metadata": {},
   "outputs": [
    {
     "data": {
      "text/plain": [
       "True"
      ]
     },
     "execution_count": 11,
     "metadata": {},
     "output_type": "execute_result"
    }
   ],
   "source": [
    "rtde_c.moveJ(j_flask_storage_3, 0.2, 0.2)"
   ]
  },
  {
   "cell_type": "code",
   "execution_count": 12,
   "metadata": {},
   "outputs": [
    {
     "data": {
      "text/plain": [
       "True"
      ]
     },
     "execution_count": 12,
     "metadata": {},
     "output_type": "execute_result"
    }
   ],
   "source": [
    "rtde_c.moveJ(j_start, 0.2, 0.2)"
   ]
  },
  {
   "cell_type": "code",
   "execution_count": 14,
   "metadata": {},
   "outputs": [],
   "source": []
  },
  {
   "cell_type": "code",
   "execution_count": 22,
   "metadata": {},
   "outputs": [],
   "source": [
    "def check_setup(rtde_c):\n",
    "    rtde_c.moveJ(j_start, 0.7, 0.7)\n",
    "    rtde_c.moveJ(j_miscroscope, 0.7, 0.7)\n",
    "    path_microscope = capture_image()\n",
    "\n",
    "    rtde_c.moveJ(j_flasks_1, 0.7, 0.7)\n",
    "    path_flasks_1 = capture_image()\n",
    "\n",
    "    rtde_c.moveJ(j_bottle_holder, 0.7, 0.7)\n",
    "    path_bottle_holder = capture_image()\n",
    "\n",
    "    rtde_c.moveJ(j_flask_holders_trash, 0.7, 0.7)\n",
    "    path_flask_holders_trash = capture_image()\n",
    "\n",
    "    rtde_c.moveJ(j_flask_storage_1,0.7, 0.7)\n",
    "    path_flask_storage_1 = capture_image()\n",
    "\n",
    "    rtde_c.moveJ(j_flask_storage_2, 0.7, 0.7)\n",
    "    path_flask_storage_2 = capture_image()\n",
    "\n",
    "    rtde_c.moveJ(j_flask_storage_3, 0.7, 0.7)\n",
    "    path_flask_storage_3 = capture_image()\n",
    "\n",
    "    rtde_c.moveJ(j_start, 0.7, 0.7)\n",
    "\n",
    "    return path_microscope, path_flasks_1, path_bottle_holder, path_flask_holders_trash, path_flask_storage_1, path_flask_storage_2, path_flask_storage_3\n",
    "\n"
   ]
  },
  {
   "cell_type": "code",
   "execution_count": 23,
   "metadata": {},
   "outputs": [
    {
     "name": "stdout",
     "output_type": "stream",
     "text": [
      "Image saved\n",
      "Image saved\n",
      "Image saved\n",
      "Image saved\n",
      "Image saved\n",
      "Image saved\n",
      "Image saved\n"
     ]
    }
   ],
   "source": [
    "path_microscope, path_flasks_1, path_bottle_holder, path_flask_holders_trash, path_flask_storage_1, path_flask_storage_2, path_flask_storage_3 = check_setup(rtde_c)"
   ]
  },
  {
   "cell_type": "code",
   "execution_count": null,
   "metadata": {},
   "outputs": [],
   "source": []
  }
 ],
 "metadata": {
  "kernelspec": {
   "display_name": "Python 3",
   "language": "python",
   "name": "python3"
  },
  "language_info": {
   "codemirror_mode": {
    "name": "ipython",
    "version": 3
   },
   "file_extension": ".py",
   "mimetype": "text/x-python",
   "name": "python",
   "nbconvert_exporter": "python",
   "pygments_lexer": "ipython3",
   "version": "3.9.13"
  },
  "orig_nbformat": 4
 },
 "nbformat": 4,
 "nbformat_minor": 2
}
