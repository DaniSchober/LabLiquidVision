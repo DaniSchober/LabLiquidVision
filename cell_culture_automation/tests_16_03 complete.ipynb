{
 "cells": [
  {
   "cell_type": "code",
   "execution_count": 1,
   "metadata": {},
   "outputs": [],
   "source": [
    "import rtde_control\n",
    "import rtde_receive\n",
    "from rtde_control import Path, PathEntry\n",
    "import rtde_io\n",
    "from robotiq_gripper_control import RobotiqGripper\n",
    "import time\n",
    "\n",
    "def connect_robot(ip = \"192.168.2.1\"):\n",
    "    rtde_c = rtde_control.RTDEControlInterface(ip) #IP address found on robot\n",
    "    rtde_r = rtde_receive.RTDEReceiveInterface(ip)\n",
    "    rtde_io_set = rtde_io.RTDEIOInterface(ip)\n",
    "    return rtde_c, rtde_r, rtde_io_set"
   ]
  },
  {
   "cell_type": "code",
   "execution_count": 2,
   "metadata": {},
   "outputs": [],
   "source": [
    "rtde_c, rtde_r, rtde_io_set = connect_robot()"
   ]
  },
  {
   "cell_type": "code",
   "execution_count": 3,
   "metadata": {},
   "outputs": [
    {
     "name": "stdout",
     "output_type": "stream",
     "text": [
      "Activating Gripper\n",
      "Gripper activated\n"
     ]
    }
   ],
   "source": [
    "print(\"Activating Gripper\")\n",
    "gripper = RobotiqGripper(rtde_c)\n",
    "gripper.activate()  # returns to previous position after activation\n",
    "gripper.set_force(0)  # from 0 to 100 %\n",
    "gripper.set_speed(10)  # from 0 to 100 %\n",
    "print(\"Gripper activated\")"
   ]
  },
  {
   "cell_type": "code",
   "execution_count": 4,
   "metadata": {},
   "outputs": [],
   "source": [
    "home_pos = [-0.19171785391383447,\n",
    " 0.13627313847997366,\n",
    " 0.22530939672205824,\n",
    " -2.216400117559973,\n",
    " -2.214550992098179,\n",
    " -0.011655385945140848]\n",
    "\n",
    "home_joints = [3.1417369842529297,\n",
    " -0.7853723925403138,\n",
    " -2.3560631275177,\n",
    " -1.570796628991598,\n",
    " 1.5707793235778809,\n",
    " 0.0006903879693709314]\n",
    "\n",
    "front_of_incubator_pos = [-0.18132849937991355,\n",
    " -0.3679708228594073,\n",
    " 0.720661961195772,\n",
    " 1.2204624721671815,\n",
    " -1.2040970374232316,\n",
    " 1.2241694975948347]## new\n",
    "\n",
    "\n",
    "front_of_incubator_joints = [4.383610725402832,\n",
    " -1.281290666466095,\n",
    " -1.1723852157592773,\n",
    " -3.8264199695982875,\n",
    " 4.360137939453125,\n",
    " 1.583448886871338]\n",
    "\n",
    "over_changer_joints = [3.339607000350952,\n",
    " -2.292309423486227,\n",
    " -1.422972559928894,\n",
    " -2.5316902599730433,\n",
    " 0.2237834930419922,\n",
    " 4.67471981048584]\n",
    "\n",
    "front_of_new_flasks_pos = [0.2950583758025984,\n",
    " 0.3867662704396315,\n",
    " 0.045458652971989186,\n",
    " -1.2186923157725582,\n",
    " -1.1848882312252083,\n",
    " -1.218559178432022]\n",
    "\n",
    "turned_to_flask_pos = [0.12732424856627178,\n",
    " 0.19778719494662886,\n",
    " 0.22530185297353472,\n",
    " -3.139800345487405,\n",
    " -0.07107586690583619,\n",
    " -0.01769962787541179]\n",
    "\n",
    "turned_to_flask_joints = [0.891446590423584,\n",
    " -2.110570570031637,\n",
    " -2.4078848361968994,\n",
    " -1.7478038273253382,\n",
    " 4.060787200927734,\n",
    " 1.5948678255081177]\n",
    "\n",
    "incubator_closing_joints = [2.482529401779175,\n",
    " -1.2133799952319642,\n",
    " -1.1805007457733154,\n",
    " -3.884266277352804,\n",
    " 4.1642889976501465,\n",
    " 1.5839492082595825]\n",
    "\n",
    "front_of_miscroscope_pos = [-0.41388050689659883,\n",
    " 0.1750650772622419,\n",
    " 0.08218153855092553,\n",
    " 0.0406564345763103,\n",
    " -1.570776637193879,\n",
    " 0.019654881719202173]\n",
    "\n",
    "microscope_pos_1 = [-0.6023525432650326,\n",
    " 0.1980722952723789,\n",
    " 0.08215312741288205,\n",
    " 0.04068837916844658,\n",
    " -1.5708440058334778,\n",
    " 0.019607396781294046]\n",
    "\n",
    "front_of_decapper_pos = [-0.41390485457494364,\n",
    " 0.39929584431254445,\n",
    " 0.16074269025000604,\n",
    " 0.040680734747890156,\n",
    " -1.5707670056970375,\n",
    " 0.01974281965873683]\n",
    "\n",
    "above_flask_box = [-0.5808590668495738,\n",
    " 0.46350849977019337,\n",
    " 0.22695919785317129,\n",
    " 1.225880090768996,\n",
    " -1.2353631461828702,\n",
    " -1.1937109628573248]\n",
    "\n",
    "at_cap = [-0.6202925767109608,\n",
    " 0.4493540106520409,\n",
    " 0.2207983835751558,\n",
    " 0.010282978008100973,\n",
    " -3.107402683234777,\n",
    " -0.4411787994503421]\n",
    "\n",
    "above_cap = [-0.6203323667337821,\n",
    " 0.44931542104142785,\n",
    " 0.45085035480129525,\n",
    " -2.6840097665737828,\n",
    " 1.033303485109148,\n",
    " 0.15225961997584497]\n",
    "\n",
    "above_cap_joints = [2.772878885269165,\n",
    " -2.24400057415151,\n",
    " -0.43866968154907227,\n",
    " -1.9212991199889125,\n",
    " 1.3188759088516235,\n",
    " -4.364126507435934]\n",
    "\n"
   ]
  },
  {
   "cell_type": "code",
   "execution_count": 5,
   "metadata": {},
   "outputs": [],
   "source": [
    "def pick_up_flask(position): #lowest: position 5, highest: position 0\n",
    "    gripper.open()\n",
    "    #rtde_c.moveL(home_pos, 0.1, 0.1)\n",
    "    rtde_c.moveJ(home_joints, 1.5, 0.8)\n",
    "    rtde_c.moveJ(front_of_incubator_joints, 0.4, 0.2) ##highest position, better than moveL\n",
    "\n",
    "    #move down for different positions\n",
    "    pick_up_pos = front_of_incubator_pos.copy()\n",
    "    pick_up_pos[2] -= position*0.09\n",
    "    rtde_c.moveL(pick_up_pos, 0.1, 0.1)\n",
    "    \n",
    "    pick_up_pos[1] -= 0.244593\n",
    "    rtde_c.moveL(pick_up_pos, 0.05, 0.1)\n",
    "    gripper.set_force(10)  # from 0 to 100 %\n",
    "    gripper.close()"
   ]
  },
  {
   "cell_type": "code",
   "execution_count": 6,
   "metadata": {},
   "outputs": [],
   "source": [
    "def remove_from_incubator():\n",
    "    current_pos = rtde_r.getActualTCPPose()\n",
    "    current_pos[2] += 0.0084224\n",
    "    rtde_c.moveL(current_pos, 0.05, 0.1)\n",
    "    current_pos[1] += 0.32\n",
    "    rtde_c.moveL(current_pos, 0.3, 0.2)"
   ]
  },
  {
   "cell_type": "code",
   "execution_count": 7,
   "metadata": {},
   "outputs": [],
   "source": [
    "def bring_to_incubator_closing_pos():\n",
    "    rtde_c.moveJ(incubator_closing_joints, 1.5, 0.8)\n",
    "    # wait 5 seconds for the incubator to close\n",
    "    time.sleep(5)"
   ]
  },
  {
   "cell_type": "code",
   "execution_count": 8,
   "metadata": {},
   "outputs": [],
   "source": [
    "def bring_to_microscope():\n",
    "    rtde_c.moveL(front_of_miscroscope_pos, 0.2, 0.2)\n",
    "    rtde_c.moveL(microscope_pos_1, 0.1, 0.1)\n",
    "    # wait 2 seconds for the microscope to analyze\n",
    "    time.sleep(2)\n",
    "    current_pos = rtde_r.getActualTCPPose()\n",
    "    current_pos[0] -= 0.01\n",
    "    rtde_c.moveL(current_pos, 0.05, 0.1)\n",
    "    # wait 2 seconds for the microscope to analyze\n",
    "    time.sleep(2)\n",
    "    current_pos[0] += 0.02\n",
    "    rtde_c.moveL(current_pos, 0.05, 0.1)\n",
    "    # wait 2 seconds for the microscope to analyze\n",
    "    time.sleep(2)\n",
    "    rtde_c.moveL(front_of_miscroscope_pos, 0.1, 0.1)"
   ]
  },
  {
   "cell_type": "code",
   "execution_count": 9,
   "metadata": {},
   "outputs": [],
   "source": [
    "def place_in_decapper_pos():\n",
    "    rtde_c.moveL(front_of_decapper_pos, 0.2, 0.2)\n",
    "    rtde_c.moveL(above_flask_box, 0.2, 0.2)\n",
    "    current_pos = rtde_r.getActualTCPPose()\n",
    "    current_pos[2] -= 0.14126\n",
    "    rtde_c.moveL(current_pos, 0.02, 0.1)\n",
    "    gripper.open()\n",
    "    current_pos[2] += 0.25\n",
    "    rtde_c.moveL(current_pos, 0.05, 0.1)\n",
    "    #rtde_c.moveL(front_of_decapper_pos, 0.1, 0.1)\n"
   ]
  },
  {
   "cell_type": "code",
   "execution_count": 10,
   "metadata": {},
   "outputs": [],
   "source": [
    "def decap_flask():\n",
    "    rtde_c.moveJ(above_cap_joints, 0.3, 0.3)\n",
    "    gripper.open()\n",
    "    rtde_c.moveL(at_cap, 0.1, 0.1)\n",
    "    gripper.set_force(25)\n",
    "    gripper.close()\n",
    "    current_pos = rtde_r.getActualTCPPose()\n",
    "    current_pos[2] += 0.015\n",
    "    rtde_c.moveL(current_pos, 0.1, 0.1)\n",
    "\n",
    "    current_joints = rtde_r.getActualQ()\n",
    "    current_joints[5] -= 1.2\n",
    "    rtde_c.moveJ(current_joints, 0.1, 0.1)\n",
    "\n",
    "    current_pos = rtde_r.getActualTCPPose()\n",
    "    current_pos[2] += 0.01\n",
    "    rtde_c.moveL(current_pos, 0.1, 0.1)\n",
    "\n",
    "    current_joints = rtde_r.getActualQ()\n",
    "    current_joints[5] -= 1.2\n",
    "    rtde_c.moveJ(current_joints, 0.1, 0.1)\n",
    "\n",
    "    current_pos = rtde_r.getActualTCPPose()\n",
    "    current_pos[2] += 0.05\n",
    "    rtde_c.moveL(current_pos, 0.1, 0.1)\n",
    "\n",
    "    rtde_c.moveJ(home_joints, 0.5, 0.5)"
   ]
  },
  {
   "cell_type": "code",
   "execution_count": 11,
   "metadata": {},
   "outputs": [
    {
     "name": "stderr",
     "output_type": "stream",
     "text": [
      "RTDEControlInterface: RTDE control script is not running!\n",
      "RTDEControlInterface: RTDE control script is not running!\n",
      "RTDEControlInterface: RTDE control script is not running!\n",
      "RTDEControlInterface: RTDE control script is not running!\n",
      "RTDEControlInterface: RTDE control script is not running!\n",
      "RTDEControlInterface: RTDE control script is not running!\n",
      "RTDEControlInterface: RTDE control script is not running!\n",
      "RTDEControlInterface: RTDE control script is not running!\n"
     ]
    },
    {
     "ename": "KeyboardInterrupt",
     "evalue": "",
     "output_type": "error",
     "traceback": [
      "\u001b[0;31m---------------------------------------------------------------------------\u001b[0m",
      "\u001b[0;31mKeyboardInterrupt\u001b[0m                         Traceback (most recent call last)",
      "Cell \u001b[0;32mIn[11], line 5\u001b[0m\n\u001b[1;32m      3\u001b[0m bring_to_incubator_closing_pos()\n\u001b[1;32m      4\u001b[0m bring_to_microscope()\n\u001b[0;32m----> 5\u001b[0m place_in_decapper_pos()\n\u001b[1;32m      6\u001b[0m decap_flask()\n",
      "Cell \u001b[0;32mIn[9], line 7\u001b[0m, in \u001b[0;36mplace_in_decapper_pos\u001b[0;34m()\u001b[0m\n\u001b[1;32m      5\u001b[0m current_pos[\u001b[39m2\u001b[39m] \u001b[39m-\u001b[39m\u001b[39m=\u001b[39m \u001b[39m0.14126\u001b[39m\n\u001b[1;32m      6\u001b[0m rtde_c\u001b[39m.\u001b[39mmoveL(current_pos, \u001b[39m0.02\u001b[39m, \u001b[39m0.1\u001b[39m)\n\u001b[0;32m----> 7\u001b[0m gripper\u001b[39m.\u001b[39;49mopen()\n\u001b[1;32m      8\u001b[0m current_pos[\u001b[39m2\u001b[39m] \u001b[39m+\u001b[39m\u001b[39m=\u001b[39m \u001b[39m0.25\u001b[39m\n\u001b[1;32m      9\u001b[0m rtde_c\u001b[39m.\u001b[39mmoveL(current_pos, \u001b[39m0.05\u001b[39m, \u001b[39m0.1\u001b[39m)\n",
      "File \u001b[0;32m~/Documents/GitHub/CellCultureAutomation/robotiq_gripper_control.py:83\u001b[0m, in \u001b[0;36mRobotiqGripper.open\u001b[0;34m(self)\u001b[0m\n\u001b[1;32m     76\u001b[0m \u001b[39mdef\u001b[39;00m \u001b[39mopen\u001b[39m(\u001b[39mself\u001b[39m):\n\u001b[1;32m     77\u001b[0m     \u001b[39m\"\"\" \u001b[39;00m\n\u001b[1;32m     78\u001b[0m \u001b[39m    Open the gripper.\u001b[39;00m\n\u001b[1;32m     79\u001b[0m \u001b[39m       \u001b[39;00m\n\u001b[1;32m     80\u001b[0m \u001b[39m    Returns: \u001b[39;00m\n\u001b[1;32m     81\u001b[0m \u001b[39m        True if the command succeeded, otherwise it returns False\u001b[39;00m\n\u001b[1;32m     82\u001b[0m \u001b[39m    \"\"\"\u001b[39;00m\n\u001b[0;32m---> 83\u001b[0m     \u001b[39mreturn\u001b[39;00m \u001b[39mself\u001b[39;49m\u001b[39m.\u001b[39;49mcall(\u001b[39m\"\u001b[39;49m\u001b[39mOPEN\u001b[39;49m\u001b[39m\"\u001b[39;49m, \u001b[39m\"\u001b[39;49m\u001b[39mrq_open_and_wait()\u001b[39;49m\u001b[39m\"\u001b[39;49m)\n",
      "File \u001b[0;32m~/Documents/GitHub/CellCultureAutomation/robotiq_gripper_control.py:24\u001b[0m, in \u001b[0;36mRobotiqGripper.call\u001b[0;34m(self, script_name, script_function)\u001b[0m\n\u001b[1;32m     23\u001b[0m \u001b[39mdef\u001b[39;00m \u001b[39mcall\u001b[39m(\u001b[39mself\u001b[39m, script_name, script_function):\n\u001b[0;32m---> 24\u001b[0m     \u001b[39mreturn\u001b[39;00m \u001b[39mself\u001b[39;49m\u001b[39m.\u001b[39;49mrtde_c\u001b[39m.\u001b[39;49msendCustomScriptFunction(\n\u001b[1;32m     25\u001b[0m         \u001b[39m\"\u001b[39;49m\u001b[39mROBOTIQ_\u001b[39;49m\u001b[39m\"\u001b[39;49m \u001b[39m+\u001b[39;49m script_name,\n\u001b[1;32m     26\u001b[0m         ROBOTIQ_PREAMBLE \u001b[39m+\u001b[39;49m script_function\n\u001b[1;32m     27\u001b[0m     )\n",
      "\u001b[0;31mKeyboardInterrupt\u001b[0m: "
     ]
    },
    {
     "ename": "",
     "evalue": "",
     "output_type": "error",
     "traceback": [
      "\u001b[1;31mThe Kernel crashed while executing code in the the current cell or a previous cell. Please review the code in the cell(s) to identify a possible cause of the failure. Click <a href='https://aka.ms/vscodeJupyterKernelCrash'>here</a> for more info. View Jupyter <a href='command:jupyter.viewOutput'>log</a> for further details."
     ]
    }
   ],
   "source": [
    "pick_up_flask(0)\n",
    "remove_from_incubator()\n",
    "bring_to_incubator_closing_pos()\n",
    "bring_to_microscope()\n",
    "place_in_decapper_pos()\n",
    "decap_flask()"
   ]
  },
  {
   "cell_type": "code",
   "execution_count": 26,
   "metadata": {},
   "outputs": [
    {
     "data": {
      "text/plain": [
       "[-0.6203323667337821,\n",
       " 0.44931542104142785,\n",
       " 0.25085035480129525,\n",
       " -2.6840097665737828,\n",
       " 1.033303485109148,\n",
       " 0.15225961997584497]"
      ]
     },
     "execution_count": 26,
     "metadata": {},
     "output_type": "execute_result"
    }
   ],
   "source": [
    "current_pos = rtde_r.getActualTCPPose()\n",
    "current_pos"
   ]
  },
  {
   "cell_type": "code",
   "execution_count": 7,
   "metadata": {},
   "outputs": [
    {
     "data": {
      "text/plain": [
       "[2.772878885269165,\n",
       " -2.24400057415151,\n",
       " -0.43866968154907227,\n",
       " -1.9212991199889125,\n",
       " 1.3188759088516235,\n",
       " -4.364126507435934]"
      ]
     },
     "execution_count": 7,
     "metadata": {},
     "output_type": "execute_result"
    }
   ],
   "source": [
    "init_q = rtde_r.getActualQ()\n",
    "init_q"
   ]
  }
 ],
 "metadata": {
  "kernelspec": {
   "display_name": "cellculture",
   "language": "python",
   "name": "python3"
  },
  "language_info": {
   "codemirror_mode": {
    "name": "ipython",
    "version": 3
   },
   "file_extension": ".py",
   "mimetype": "text/x-python",
   "name": "python",
   "nbconvert_exporter": "python",
   "pygments_lexer": "ipython3",
   "version": "3.10.9"
  },
  "orig_nbformat": 4,
  "vscode": {
   "interpreter": {
    "hash": "445ed6cf482fbb061cdb0a2a7334000b4c125502b5b00eed934b742d6e6fd3af"
   }
  }
 },
 "nbformat": 4,
 "nbformat_minor": 2
}
