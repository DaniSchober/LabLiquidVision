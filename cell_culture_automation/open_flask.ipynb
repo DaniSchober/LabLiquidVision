{
 "cells": [
  {
   "cell_type": "code",
   "execution_count": 1,
   "metadata": {},
   "outputs": [],
   "source": [
    "import rtde_control\n",
    "import rtde_receive\n",
    "from rtde_control import Path, PathEntry\n",
    "import rtde_io\n",
    "from robotiq_gripper_control import RobotiqGripper\n",
    "import time\n",
    "\n",
    "def connect_robot(ip = \"192.168.2.1\"):\n",
    "    rtde_c = rtde_control.RTDEControlInterface(ip) #IP address found on robot\n",
    "    rtde_r = rtde_receive.RTDEReceiveInterface(ip)\n",
    "    rtde_io_set = rtde_io.RTDEIOInterface(ip)\n",
    "    return rtde_c, rtde_r, rtde_io_set"
   ]
  },
  {
   "cell_type": "code",
   "execution_count": 2,
   "metadata": {},
   "outputs": [],
   "source": [
    "rtde_c, rtde_r, rtde_io_set = connect_robot()"
   ]
  },
  {
   "cell_type": "code",
   "execution_count": 3,
   "metadata": {},
   "outputs": [
    {
     "name": "stdout",
     "output_type": "stream",
     "text": [
      "Activating Gripper\n",
      "Gripper activated\n"
     ]
    }
   ],
   "source": [
    "print(\"Activating Gripper\")\n",
    "gripper = RobotiqGripper(rtde_c)\n",
    "gripper.activate()  # returns to previous position after activation\n",
    "gripper.set_force(0)  # from 0 to 100 %\n",
    "gripper.set_speed(10)  # from 0 to 100 %\n",
    "print(\"Gripper activated\")"
   ]
  },
  {
   "cell_type": "code",
   "execution_count": 4,
   "metadata": {},
   "outputs": [],
   "source": [
    "home_pos = [-0.19171785391383447,\n",
    " 0.13627313847997366,\n",
    " 0.22530939672205824,\n",
    " -2.216400117559973,\n",
    " -2.214550992098179,\n",
    " -0.011655385945140848]\n",
    "\n",
    "home_joints = [3.1417369842529297,\n",
    " -0.7853723925403138,\n",
    " -2.3560631275177,\n",
    " -1.570796628991598,\n",
    " 1.5707793235778809,\n",
    " 0.0006903879693709314]\n",
    "\n",
    "above_flaks_pos = [-0.0014550927425469506,\n",
    " 0.5495539859270201,\n",
    " 0.3075134900296509,\n",
    " -2.2237287246111506,\n",
    " -2.2189365854187884,\n",
    " -0.01716392813000771]\n",
    "\n",
    "above_flaks_joints = [1.8225376605987549,\n",
    " -1.6671668491759242,\n",
    " -1.5784317255020142,\n",
    " -1.4617657226375123,\n",
    " 1.5721940994262695,\n",
    " -1.3161585966693323]\n",
    "\n",
    "at_lid_pos = [-0.001446171798074467,\n",
    " 0.549566354386338,\n",
    " 0.21471655101890227,\n",
    " -2.2238043510519945,\n",
    " -2.2188754688178394,\n",
    " -0.017177965732996656]\n",
    "\n",
    "decapped_pos = [-0.0014491186078766014,\n",
    " 0.5495811374971974,\n",
    " 0.2392029487960487,\n",
    " -0.9188941428334715,\n",
    " 2.9941351874110236,\n",
    " 0.00821077185514356]\n",
    "\n",
    "above_decapped_joints = [1.822528600692749,\n",
    " -1.667183061639303,\n",
    " -1.578402042388916,\n",
    " -1.461780623798706,\n",
    " 1.5721616744995117,\n",
    " -2.9070518652545374]\n",
    "\n",
    "above_cap_holder_joints = [1.775813102722168,\n",
    " -2.0362497768797816,\n",
    " -1.134800910949707,\n",
    " -1.5359318529120465,\n",
    " 1.5720970630645752,\n",
    " -2.954510513936178]\n",
    "\n",
    "above_cap_holder_pos = [-0.006758441427256745,\n",
    " 0.6977009729653187,\n",
    " 0.2934318496660291,\n",
    " -0.028025328734710305,\n",
    " 3.133784433146261,\n",
    " 0.01193365884114042]\n",
    "\n",
    "at_cap_holder_pos = [-0.00678196167957454,\n",
    " 0.6977163163675723,\n",
    " 0.21383049591711994,\n",
    " -0.02816833848464366,\n",
    " 3.1337895948739867,\n",
    " 0.0119783788561078]\n",
    "\n",
    "\n"
   ]
  },
  {
   "cell_type": "code",
   "execution_count": 18,
   "metadata": {},
   "outputs": [
    {
     "data": {
      "text/plain": [
       "[-0.00678196167957454,\n",
       " 0.6977163163675723,\n",
       " 0.21383049591711994,\n",
       " -0.02816833848464366,\n",
       " 3.1337895948739867,\n",
       " 0.0119783788561078]"
      ]
     },
     "execution_count": 18,
     "metadata": {},
     "output_type": "execute_result"
    }
   ],
   "source": [
    "current_pos = rtde_r.getActualTCPPose()\n",
    "current_pos"
   ]
  },
  {
   "cell_type": "code",
   "execution_count": 15,
   "metadata": {},
   "outputs": [
    {
     "data": {
      "text/plain": [
       "[1.775813102722168,\n",
       " -2.0362497768797816,\n",
       " -1.134800910949707,\n",
       " -1.5359318529120465,\n",
       " 1.5720970630645752,\n",
       " -2.954510513936178]"
      ]
     },
     "execution_count": 15,
     "metadata": {},
     "output_type": "execute_result"
    }
   ],
   "source": [
    "init_q = rtde_r.getActualQ()\n",
    "init_q"
   ]
  },
  {
   "cell_type": "code",
   "execution_count": 8,
   "metadata": {},
   "outputs": [
    {
     "data": {
      "text/plain": [
       "True"
      ]
     },
     "execution_count": 8,
     "metadata": {},
     "output_type": "execute_result"
    }
   ],
   "source": [
    "#rtde_c.moveJ(home_joints, 0.2, 0.2)\n",
    "rtde_c.moveJ(above_flaks_joints, 0.2, 0.2)\n",
    "gripper.open()\n",
    "rtde_c.moveL(at_lid_pos, 0.1, 0.1)\n",
    "gripper.set_force(15)\n",
    "gripper.move(20)\n",
    "time.sleep(2)\n",
    "rtde_c.moveL(decapped_pos, 0.1, 0.1)\n",
    "rtde_c.moveJ(above_decapped_joints, 0.2, 0.2)\n",
    "rtde_c.moveJ(above_cap_holder_joints, 0.2, 0.2)\n",
    "rtde_c.moveL(at_cap_holder_pos, 0.1, 0.1)\n",
    "gripper.move(30)\n",
    "rtde_c.moveJ(above_cap_holder_joints, 0.2, 0.2)\n",
    "\n",
    "\n"
   ]
  },
  {
   "cell_type": "code",
   "execution_count": 9,
   "metadata": {},
   "outputs": [
    {
     "data": {
      "text/plain": [
       "True"
      ]
     },
     "execution_count": 9,
     "metadata": {},
     "output_type": "execute_result"
    }
   ],
   "source": [
    "rtde_c.moveL(at_cap_holder_pos, 0.1, 0.1)\n"
   ]
  },
  {
   "cell_type": "code",
   "execution_count": 11,
   "metadata": {},
   "outputs": [
    {
     "data": {
      "text/plain": [
       "True"
      ]
     },
     "execution_count": 11,
     "metadata": {},
     "output_type": "execute_result"
    }
   ],
   "source": [
    "gripper.set_force(0)\n",
    "gripper.move(21)"
   ]
  },
  {
   "cell_type": "code",
   "execution_count": null,
   "metadata": {},
   "outputs": [],
   "source": [
    "\n",
    "\n"
   ]
  }
 ],
 "metadata": {
  "kernelspec": {
   "display_name": "cellculture",
   "language": "python",
   "name": "python3"
  },
  "language_info": {
   "codemirror_mode": {
    "name": "ipython",
    "version": 3
   },
   "file_extension": ".py",
   "mimetype": "text/x-python",
   "name": "python",
   "nbconvert_exporter": "python",
   "pygments_lexer": "ipython3",
   "version": "3.10.9"
  },
  "orig_nbformat": 4
 },
 "nbformat": 4,
 "nbformat_minor": 2
}
