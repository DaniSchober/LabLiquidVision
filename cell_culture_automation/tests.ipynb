{
 "cells": [
  {
   "cell_type": "code",
   "execution_count": 1,
   "metadata": {},
   "outputs": [],
   "source": [
    "import rtde_control\n",
    "import rtde_receive\n",
    "from rtde_control import Path, PathEntry\n",
    "import rtde_io\n",
    "from robotiq_gripper_control import RobotiqGripper"
   ]
  },
  {
   "cell_type": "code",
   "execution_count": 2,
   "metadata": {},
   "outputs": [],
   "source": [
    "def connect_robot(ip = \"192.168.2.1\"):\n",
    "    rtde_c = rtde_control.RTDEControlInterface(ip) #IP address found on robot\n",
    "    rtde_r = rtde_receive.RTDEReceiveInterface(ip)\n",
    "    rtde_io_set = rtde_io.RTDEIOInterface(ip)\n",
    "    return rtde_c, rtde_r, rtde_io_set"
   ]
  },
  {
   "cell_type": "code",
   "execution_count": 3,
   "metadata": {},
   "outputs": [],
   "source": [
    "rtde_c, rtde_r, rtde_io_set = connect_robot()"
   ]
  },
  {
   "cell_type": "code",
   "execution_count": 4,
   "metadata": {},
   "outputs": [
    {
     "name": "stdout",
     "output_type": "stream",
     "text": [
      "Activating Gripper\n",
      "Gripper activated\n"
     ]
    }
   ],
   "source": [
    "print(\"Activating Gripper\")\n",
    "gripper = RobotiqGripper(rtde_c)\n",
    "gripper.activate()  # returns to previous position after activation\n",
    "gripper.set_force(0)  # from 0 to 100 %\n",
    "gripper.set_speed(10)  # from 0 to 100 %\n",
    "print(\"Gripper activated\")"
   ]
  },
  {
   "cell_type": "code",
   "execution_count": null,
   "metadata": {},
   "outputs": [],
   "source": [
    "home_pos = [-0.19171785391383447,\n",
    " 0.13627313847997366,\n",
    " 0.22530939672205824,\n",
    " -2.216400117559973,\n",
    " -2.214550992098179,\n",
    " -0.011655385945140848]\n",
    "\n",
    "home_joints = [3.1417369842529297,\n",
    " -0.7853723925403138,\n",
    " -2.3560631275177,\n",
    " -1.570796628991598,\n",
    " 1.5707793235778809,\n",
    " 0.0006903879693709314]\n",
    "\n",
    "front_of_incubator_pos = [-0.2575299918689881,\n",
    " -0.38994239164646616,\n",
    " 0.2686278220828754,\n",
    " 1.2310086742792963,\n",
    " 1.2081550154719025,\n",
    " -1.2260046982952144]\n",
    "\n",
    "over_changer_joints = [3.339607000350952,\n",
    " -2.292309423486227,\n",
    " -1.422972559928894,\n",
    " -2.5316902599730433,\n",
    " 0.2237834930419922,\n",
    " 4.67471981048584]\n",
    "\n",
    "over_changer_pos = [-0.6245981296220946,\n",
    " 0.25022570529422855,\n",
    " 0.17051066042334836,\n",
    " -1.1941623511254233,\n",
    " 1.2179730067587529,\n",
    " 1.1945186973192252]\n",
    "\n",
    "grip_changer_pos_1 = [-0.6245909538157457,\n",
    " 0.15019930329970343,\n",
    " 0.15855855829617369,\n",
    " -1.1941419600862402,\n",
    " 1.2180070063542214,\n",
    " 1.1946325938941815]\n",
    "\n",
    "grip_changer_pos_2 = [-0.4502769662532311,\n",
    " 0.3186703033075754,\n",
    " 0.158938840389224,\n",
    " -2.208420103257883,\n",
    " 0.01358139607373129,\n",
    " 2.215571343116052]\n",
    "\n",
    "grip_changer_pos_3 = [-0.5737113140491134,\n",
    " 0.31870229740778727,\n",
    " 0.15896776979406496,\n",
    " -2.208358553771937,\n",
    " 0.013671655388727626,\n",
    " 2.215592076004586]\n",
    "\n",
    "front_of_new_flasks_pos = [0.2950583758025984,\n",
    " 0.3867662704396315,\n",
    " 0.045458652971989186,\n",
    " -1.2186923157725582,\n",
    " -1.1848882312252083,\n",
    " -1.218559178432022]\n",
    "\n",
    "turned_to_flask_pos = [0.12732424856627178,\n",
    " 0.19778719494662886,\n",
    " 0.22530185297353472,\n",
    " -3.139800345487405,\n",
    " -0.07107586690583619,\n",
    " -0.01769962787541179]\n",
    "\n",
    "turned_to_flask_joints = [0.891446590423584,\n",
    " -2.110570570031637,\n",
    " -2.4078848361968994,\n",
    " -1.7478038273253382,\n",
    " 4.060787200927734,\n",
    " 1.5948678255081177]"
   ]
  },
  {
   "cell_type": "code",
   "execution_count": 77,
   "metadata": {},
   "outputs": [],
   "source": [
    "def pick_up_flask(position): #lowest: position 0, highest: position 5\n",
    "    gripper.open()\n",
    "    rtde_c.moveL(home_pos, 0.1, 0.1)\n",
    "    rtde_c.moveJ(home_joints, 1.5, 0.8)\n",
    "    rtde_c.moveL(front_of_incubator_pos, 0.5, 0.3)\n",
    "    pick_up_pos = front_of_incubator_pos.copy()\n",
    "    pick_up_pos[2] += position*0.09\n",
    "    rtde_c.moveL(pick_up_pos, 0.5, 0.3)\n",
    "    pick_up_pos[1] -= 0.16\n",
    "    rtde_c.moveL(pick_up_pos, 0.05, 0.1)\n",
    "    gripper.move(36)"
   ]
  },
  {
   "cell_type": "code",
   "execution_count": 78,
   "metadata": {},
   "outputs": [],
   "source": [
    "def remove_from_incubator():\n",
    "    current_pos = rtde_r.getActualTCPPose()\n",
    "    current_pos[2] += 0.02\n",
    "    rtde_c.moveL(current_pos, 0.05, 0.1)\n",
    "    current_pos[1] += 0.32\n",
    "    rtde_c.moveL(current_pos, 0.3, 0.2)"
   ]
  },
  {
   "cell_type": "code",
   "execution_count": 79,
   "metadata": {},
   "outputs": [],
   "source": [
    "def bring_to_changer():\n",
    "    #rtde_c.moveJ(over_changer_joints, 0.05, 0.05)\n",
    "    rtde_c.moveL(over_changer_pos, 0.2, 0.2)\n",
    "    changer_pos = over_changer_pos.copy()\n",
    "    changer_pos[2] -= 0.012\n",
    "    rtde_c.moveL(changer_pos, 0.1, 0.1)\n",
    "    gripper.open()\n",
    "    rtde_c.moveL(grip_changer_pos_1, 0.2, 0.1)\n"
   ]
  },
  {
   "cell_type": "code",
   "execution_count": 80,
   "metadata": {},
   "outputs": [],
   "source": [
    "def change_grip():\n",
    "    rtde_c.moveL(home_pos, 0.5, 0.3)\n",
    "    rtde_c.moveJ(home_joints, 3.0, 1.5)\n",
    "    rtde_c.moveL(grip_changer_pos_2, 0.5, 0.3)\n",
    "    rtde_c.moveL(grip_changer_pos_3, 0.1, 0.3)\n",
    "    gripper.move(36)\n",
    "    grip_new_1 = grip_changer_pos_3.copy()\n",
    "    grip_new_1[2] += 0.02\n",
    "    rtde_c.moveL(grip_new_1, 0.05, 0.1)\n",
    "    grip_new_2 = grip_changer_pos_2.copy()\n",
    "    grip_new_2[2] += 0.02\n",
    "    rtde_c.moveL(grip_new_2, 0.2, 0.2)"
   ]
  },
  {
   "cell_type": "code",
   "execution_count": 83,
   "metadata": {},
   "outputs": [],
   "source": [
    "pick_up_flask(3)\n",
    "remove_from_incubator()\n",
    "bring_to_changer()\n",
    "change_grip()"
   ]
  },
  {
   "cell_type": "code",
   "execution_count": 62,
   "metadata": {},
   "outputs": [],
   "source": [
    "remove_from_incubator()"
   ]
  },
  {
   "cell_type": "code",
   "execution_count": 63,
   "metadata": {},
   "outputs": [],
   "source": [
    "bring_to_changer()"
   ]
  },
  {
   "cell_type": "code",
   "execution_count": 72,
   "metadata": {},
   "outputs": [],
   "source": [
    "change_grip()"
   ]
  },
  {
   "cell_type": "code",
   "execution_count": 7,
   "metadata": {},
   "outputs": [
    {
     "data": {
      "text/plain": [
       "False"
      ]
     },
     "execution_count": 7,
     "metadata": {},
     "output_type": "execute_result"
    }
   ],
   "source": [
    "gripper.open()\n",
    "rtde_c.moveL(home_pos, 0.1, 0.3)\n"
   ]
  },
  {
   "cell_type": "code",
   "execution_count": 9,
   "metadata": {},
   "outputs": [
    {
     "data": {
      "text/plain": [
       "True"
      ]
     },
     "execution_count": 9,
     "metadata": {},
     "output_type": "execute_result"
    }
   ],
   "source": [
    "rtde_c.moveJ(home_joints, 0.2, 0.2)"
   ]
  },
  {
   "cell_type": "code",
   "execution_count": 8,
   "metadata": {},
   "outputs": [
    {
     "data": {
      "text/plain": [
       "True"
      ]
     },
     "execution_count": 8,
     "metadata": {},
     "output_type": "execute_result"
    }
   ],
   "source": [
    "rtde_c.moveL(turned_to_flask_pos, 0.1, 0.3)"
   ]
  },
  {
   "cell_type": "code",
   "execution_count": 6,
   "metadata": {},
   "outputs": [
    {
     "data": {
      "text/plain": [
       "True"
      ]
     },
     "execution_count": 6,
     "metadata": {},
     "output_type": "execute_result"
    }
   ],
   "source": [
    "rtde_c.moveL(front_of_new_flasks_pos, 0.1, 0.3)"
   ]
  },
  {
   "cell_type": "code",
   "execution_count": 8,
   "metadata": {},
   "outputs": [
    {
     "data": {
      "text/plain": [
       "[0.12732424856627178,\n",
       " 0.19778719494662886,\n",
       " 0.22530185297353472,\n",
       " -3.139800345487405,\n",
       " -0.07107586690583619,\n",
       " -0.01769962787541179]"
      ]
     },
     "execution_count": 8,
     "metadata": {},
     "output_type": "execute_result"
    }
   ],
   "source": [
    "current_pos = rtde_r.getActualTCPPose()\n",
    "\n",
    "current_pos\n"
   ]
  },
  {
   "cell_type": "code",
   "execution_count": 7,
   "metadata": {},
   "outputs": [],
   "source": [
    "init_q = rtde_r.getActualQ()\n"
   ]
  },
  {
   "cell_type": "code",
   "execution_count": 8,
   "metadata": {},
   "outputs": [
    {
     "data": {
      "text/plain": [
       "[0.891446590423584,\n",
       " -2.110570570031637,\n",
       " -2.4078848361968994,\n",
       " -1.7478038273253382,\n",
       " 4.060787200927734,\n",
       " 1.5948678255081177]"
      ]
     },
     "execution_count": 8,
     "metadata": {},
     "output_type": "execute_result"
    }
   ],
   "source": [
    "init_q"
   ]
  },
  {
   "cell_type": "code",
   "execution_count": 10,
   "metadata": {},
   "outputs": [
    {
     "data": {
      "text/plain": [
       "False"
      ]
     },
     "execution_count": 10,
     "metadata": {},
     "output_type": "execute_result"
    }
   ],
   "source": [
    "rtde_c.moveJ(init_q, 0.1, 0.2)"
   ]
  },
  {
   "cell_type": "code",
   "execution_count": null,
   "metadata": {},
   "outputs": [],
   "source": []
  }
 ],
 "metadata": {
  "kernelspec": {
   "display_name": "cellculture",
   "language": "python",
   "name": "python3"
  },
  "language_info": {
   "codemirror_mode": {
    "name": "ipython",
    "version": 3
   },
   "file_extension": ".py",
   "mimetype": "text/x-python",
   "name": "python",
   "nbconvert_exporter": "python",
   "pygments_lexer": "ipython3",
   "version": "3.10.9"
  },
  "orig_nbformat": 4,
  "vscode": {
   "interpreter": {
    "hash": "445ed6cf482fbb061cdb0a2a7334000b4c125502b5b00eed934b742d6e6fd3af"
   }
  }
 },
 "nbformat": 4,
 "nbformat_minor": 2
}
