{
 "cells": [
  {
   "cell_type": "code",
   "execution_count": 1,
   "metadata": {},
   "outputs": [
    {
     "ename": "ModuleNotFoundError",
     "evalue": "No module named 'rtde_control'",
     "output_type": "error",
     "traceback": [
      "\u001b[1;31m---------------------------------------------------------------------------\u001b[0m",
      "\u001b[1;31mModuleNotFoundError\u001b[0m                       Traceback (most recent call last)",
      "Cell \u001b[1;32mIn[1], line 1\u001b[0m\n\u001b[1;32m----> 1\u001b[0m \u001b[39mimport\u001b[39;00m \u001b[39mrtde_control\u001b[39;00m\n\u001b[0;32m      2\u001b[0m \u001b[39mimport\u001b[39;00m \u001b[39mrtde_receive\u001b[39;00m\n\u001b[0;32m      3\u001b[0m \u001b[39mfrom\u001b[39;00m \u001b[39mrtde_control\u001b[39;00m \u001b[39mimport\u001b[39;00m Path, PathEntry\n",
      "\u001b[1;31mModuleNotFoundError\u001b[0m: No module named 'rtde_control'"
     ]
    }
   ],
   "source": [
    "import rtde_control\n",
    "import rtde_receive\n",
    "from rtde_control import Path, PathEntry\n",
    "import rtde_io\n",
    "from robotiq_gripper_control import RobotiqGripper\n",
    "import rotation_matrix as rm\n",
    "import time\n",
    "import numpy as np\n",
    "import rotation_matrix as rm\n",
    "import pandas as pd"
   ]
  },
  {
   "cell_type": "code",
   "execution_count": 3,
   "metadata": {},
   "outputs": [],
   "source": [
    "def connect_robot(ip = \"192.168.2.1\"):\n",
    "    rtde_c = rtde_control.RTDEControlInterface(ip) #IP address found on robot\n",
    "    rtde_r = rtde_receive.RTDEReceiveInterface(ip)\n",
    "    rtde_io_set = rtde_io.RTDEIOInterface(ip)\n",
    "    return rtde_c, rtde_r, rtde_io_set\n",
    "\n",
    "rtde_c, rtde_r, rtde_io_set = connect_robot()"
   ]
  },
  {
   "cell_type": "code",
   "execution_count": 5,
   "metadata": {},
   "outputs": [
    {
     "name": "stdout",
     "output_type": "stream",
     "text": [
      "Activating Gripper\n",
      "Gripper activated\n"
     ]
    },
    {
     "data": {
      "text/plain": [
       "True"
      ]
     },
     "execution_count": 5,
     "metadata": {},
     "output_type": "execute_result"
    }
   ],
   "source": [
    "print(\"Activating Gripper\")\n",
    "gripper = RobotiqGripper(rtde_c)\n",
    "gripper.activate()  # returns to previous position after activation\n",
    "gripper.set_force(10)  # from 0 to 100 %\n",
    "gripper.set_speed(10)  # from 0 to 100 %\n",
    "print(\"Gripper activated\")\n",
    "gripper.open()"
   ]
  },
  {
   "cell_type": "code",
   "execution_count": 4,
   "metadata": {},
   "outputs": [],
   "source": [
    "# open csv file\n",
    "test_bottles = pd.read_csv('../pouring_simulation/output/summary_medium_test_50_final.csv')"
   ]
  },
  {
   "cell_type": "code",
   "execution_count": 5,
   "metadata": {},
   "outputs": [
    {
     "data": {
      "text/html": [
       "<div>\n",
       "<style scoped>\n",
       "    .dataframe tbody tr th:only-of-type {\n",
       "        vertical-align: middle;\n",
       "    }\n",
       "\n",
       "    .dataframe tbody tr th {\n",
       "        vertical-align: top;\n",
       "    }\n",
       "\n",
       "    .dataframe thead th {\n",
       "        text-align: right;\n",
       "    }\n",
       "</style>\n",
       "<table border=\"1\" class=\"dataframe\">\n",
       "  <thead>\n",
       "    <tr style=\"text-align: right;\">\n",
       "      <th></th>\n",
       "      <th>scene_number</th>\n",
       "      <th>path</th>\n",
       "      <th>rotationSpeed</th>\n",
       "      <th>stop_angle</th>\n",
       "      <th>pause_time</th>\n",
       "      <th>volume_start</th>\n",
       "      <th>volume_poured</th>\n",
       "      <th>volume_received</th>\n",
       "      <th>spilled_volume</th>\n",
       "      <th>real_poured_volume</th>\n",
       "      <th>real_received_volume</th>\n",
       "      <th>real_spilled_volume</th>\n",
       "    </tr>\n",
       "  </thead>\n",
       "  <tbody>\n",
       "    <tr>\n",
       "      <th>0</th>\n",
       "      <td>258</td>\n",
       "      <td>../../output/MediumBottle/Medium_180_600_34</td>\n",
       "      <td>0.03</td>\n",
       "      <td>34.0</td>\n",
       "      <td>0.6</td>\n",
       "      <td>179.9350</td>\n",
       "      <td>0.0050</td>\n",
       "      <td>0.0025</td>\n",
       "      <td>0.0025</td>\n",
       "      <td>0.0</td>\n",
       "      <td>0.0</td>\n",
       "      <td>0.0</td>\n",
       "    </tr>\n",
       "    <tr>\n",
       "      <th>1</th>\n",
       "      <td>121</td>\n",
       "      <td>../../output/MediumBottle/Medium_50_1399_44</td>\n",
       "      <td>0.03</td>\n",
       "      <td>44.0</td>\n",
       "      <td>1.4</td>\n",
       "      <td>49.9950</td>\n",
       "      <td>0.0025</td>\n",
       "      <td>0.0000</td>\n",
       "      <td>0.0025</td>\n",
       "      <td>0.0</td>\n",
       "      <td>0.0</td>\n",
       "      <td>0.0</td>\n",
       "    </tr>\n",
       "    <tr>\n",
       "      <th>2</th>\n",
       "      <td>822</td>\n",
       "      <td>../../output/MediumBottle/Medium_90_1000_78</td>\n",
       "      <td>0.03</td>\n",
       "      <td>78.0</td>\n",
       "      <td>1.0</td>\n",
       "      <td>89.9825</td>\n",
       "      <td>13.0200</td>\n",
       "      <td>12.9850</td>\n",
       "      <td>0.0350</td>\n",
       "      <td>0.0</td>\n",
       "      <td>0.0</td>\n",
       "      <td>0.0</td>\n",
       "    </tr>\n",
       "    <tr>\n",
       "      <th>3</th>\n",
       "      <td>295</td>\n",
       "      <td>../../output/MediumBottle/Medium_60_1399_32</td>\n",
       "      <td>0.03</td>\n",
       "      <td>32.0</td>\n",
       "      <td>1.4</td>\n",
       "      <td>59.9900</td>\n",
       "      <td>0.0025</td>\n",
       "      <td>0.0000</td>\n",
       "      <td>0.0025</td>\n",
       "      <td>0.0</td>\n",
       "      <td>0.0</td>\n",
       "      <td>0.0</td>\n",
       "    </tr>\n",
       "    <tr>\n",
       "      <th>4</th>\n",
       "      <td>417</td>\n",
       "      <td>../../output/MediumBottle/Medium_70_600_60</td>\n",
       "      <td>0.03</td>\n",
       "      <td>60.0</td>\n",
       "      <td>0.6</td>\n",
       "      <td>69.9900</td>\n",
       "      <td>0.0600</td>\n",
       "      <td>0.0150</td>\n",
       "      <td>0.0450</td>\n",
       "      <td>0.0</td>\n",
       "      <td>0.0</td>\n",
       "      <td>0.0</td>\n",
       "    </tr>\n",
       "  </tbody>\n",
       "</table>\n",
       "</div>"
      ],
      "text/plain": [
       "   scene_number                                         path  rotationSpeed  \\\n",
       "0           258  ../../output/MediumBottle/Medium_180_600_34           0.03   \n",
       "1           121  ../../output/MediumBottle/Medium_50_1399_44           0.03   \n",
       "2           822  ../../output/MediumBottle/Medium_90_1000_78           0.03   \n",
       "3           295  ../../output/MediumBottle/Medium_60_1399_32           0.03   \n",
       "4           417   ../../output/MediumBottle/Medium_70_600_60           0.03   \n",
       "\n",
       "   stop_angle  pause_time  volume_start  volume_poured  volume_received  \\\n",
       "0        34.0         0.6      179.9350         0.0050           0.0025   \n",
       "1        44.0         1.4       49.9950         0.0025           0.0000   \n",
       "2        78.0         1.0       89.9825        13.0200          12.9850   \n",
       "3        32.0         1.4       59.9900         0.0025           0.0000   \n",
       "4        60.0         0.6       69.9900         0.0600           0.0150   \n",
       "\n",
       "   spilled_volume  real_poured_volume  real_received_volume  \\\n",
       "0          0.0025                 0.0                   0.0   \n",
       "1          0.0025                 0.0                   0.0   \n",
       "2          0.0350                 0.0                   0.0   \n",
       "3          0.0025                 0.0                   0.0   \n",
       "4          0.0450                 0.0                   0.0   \n",
       "\n",
       "   real_spilled_volume  \n",
       "0                  0.0  \n",
       "1                  0.0  \n",
       "2                  0.0  \n",
       "3                  0.0  \n",
       "4                  0.0  "
      ]
     },
     "execution_count": 5,
     "metadata": {},
     "output_type": "execute_result"
    }
   ],
   "source": [
    "#print first 5 rows\n",
    "test_bottles.head()"
   ]
  },
  {
   "attachments": {},
   "cell_type": "markdown",
   "metadata": {},
   "source": [
    "## Manually move robot to start position and read the position"
   ]
  },
  {
   "cell_type": "code",
   "execution_count": 6,
   "metadata": {},
   "outputs": [
    {
     "ename": "NameError",
     "evalue": "name 'rtde_r' is not defined",
     "output_type": "error",
     "traceback": [
      "\u001b[1;31m---------------------------------------------------------------------------\u001b[0m",
      "\u001b[1;31mNameError\u001b[0m                                 Traceback (most recent call last)",
      "Cell \u001b[1;32mIn[6], line 1\u001b[0m\n\u001b[1;32m----> 1\u001b[0m start_pos \u001b[39m=\u001b[39m rtde_r\u001b[39m.\u001b[39mgetActualTCPPose()\n",
      "\u001b[1;31mNameError\u001b[0m: name 'rtde_r' is not defined"
     ]
    }
   ],
   "source": [
    "start_pos = rtde_r.getActualTCPPose()"
   ]
  },
  {
   "cell_type": "code",
   "execution_count": 240,
   "metadata": {},
   "outputs": [
    {
     "name": "stdout",
     "output_type": "stream",
     "text": [
      "[-0.14070488205315163, 0.5349988662699389, 0.22005337355210908, -1.2018970116816083, 1.2090769088786155, 1.2133552150498628]\n"
     ]
    }
   ],
   "source": [
    "print(start_pos)"
   ]
  },
  {
   "cell_type": "code",
   "execution_count": 241,
   "metadata": {},
   "outputs": [],
   "source": [
    "# start_pos = [-0.14070488205315163, 0.5349988662699389, 0.22005337355210908, -1.2018970116816083, 1.2090769088786155, 1.2133552150498628]\n"
   ]
  },
  {
   "attachments": {},
   "cell_type": "markdown",
   "metadata": {},
   "source": [
    "# Start here:"
   ]
  },
  {
   "attachments": {},
   "cell_type": "markdown",
   "metadata": {},
   "source": [
    "## Input sample number:"
   ]
  },
  {
   "cell_type": "code",
   "execution_count": 322,
   "metadata": {},
   "outputs": [],
   "source": [
    "sample_number = 41"
   ]
  },
  {
   "attachments": {},
   "cell_type": "markdown",
   "metadata": {},
   "source": [
    "### Loading TCP file for movement"
   ]
  },
  {
   "cell_type": "code",
   "execution_count": 323,
   "metadata": {},
   "outputs": [],
   "source": [
    "scene_path = test_bottles.iloc[sample_number]['path']\n",
    "# delete first five characters of the path\n",
    "scene_path = scene_path[5:]\n",
    "scene_path = \"../pouring_simulation/\" + scene_path + \"/TCP.txt\"\n",
    "#data_points = np.loadtxt(scene_path, delimiter=',', skiprows=1) # skiprows 1 and 1614\n",
    "\n",
    "# Count the total number of rows in the file\n",
    "with open(scene_path, 'r') as file:\n",
    "    num_rows = sum(1 for _ in file)\n",
    "# load datapoints and skip first and last 5\n",
    "data_points = np.loadtxt(scene_path, delimiter=',', skiprows=1, max_rows=num_rows-2)\n",
    "\n",
    "# convert from inches to meters\n",
    "data_points[:, 0] = data_points[:, 0] * 0.0254\n",
    "data_points[:, 1] = data_points[:, 1] * 0.0254\n",
    "\n",
    "# create list of positions\n",
    "positions = []\n",
    "for i in range(data_points.shape[0]):\n",
    "    positions.append([-data_points[i,1], -data_points[i,0], 0.0, 0.0, 0.0, data_points[i,2]]) # will move around x, y of tool and rotate around z of tool --> to be updated for different setups\n",
    "\n",
    "positions_converted = []\n",
    "for i in range(data_points.shape[0]):\n",
    "    # if none of the data entries is 0\n",
    "    if not (positions[i][0] == 0 or positions[i][1] == 0 or positions[i][5] == 0):\n",
    "        positions_converted.append(rm.PoseTrans(start_pos, positions[i])) # transform from tool coordinate system to base coordinate system\n",
    "        "
   ]
  },
  {
   "attachments": {},
   "cell_type": "markdown",
   "metadata": {},
   "source": [
    "### Calculate speed\n"
   ]
  },
  {
   "cell_type": "code",
   "execution_count": 324,
   "metadata": {},
   "outputs": [
    {
     "name": "stdout",
     "output_type": "stream",
     "text": [
      "[8.299219137335454e-05, 8.299260179694493e-05, 8.301578659634759e-05, 8.299338726928412e-05, 8.299387527322225e-05, 8.299412961579379e-05, 8.301751832109817e-05, 8.299521847824823e-05, 8.299565608268853e-05, 8.29961089578138e-05, 8.299673871628017e-05, 8.299722866405558e-05, 8.302076524647197e-05, 8.299843534001814e-05]\n",
      "[0.007386305032228553, 0.007386341559928098, 0.007388405007074936, 0.007386411466966287, 0.0073864548993167805, 0.007386477535805647, 0.007388559130577737, 0.007386574444564092, 0.007386613391359279, 0.007386653697245428, 0.007386709745748935, 0.007386753351100946, 0.007388848106936005, 0.007386860745261614]\n",
      "Speed in m/s:  0.007386997722436739\n"
     ]
    }
   ],
   "source": [
    "# get first 5 x and z positions \n",
    "positions = positions_converted[15:30]\n",
    "\n",
    "# only get x, y, z positions\n",
    "positions = [x[0:3] for x in positions]\n",
    "\n",
    "\n",
    "#positions = [x[0:3:2] for x in positions]\n",
    "\n",
    "# calculate distances between positions in meters\n",
    "distances = []\n",
    "for i in range(len(positions)-1):\n",
    "    distances.append(np.linalg.norm(np.subtract(positions[i+1], positions[i])))\n",
    "\n",
    "print(distances)\n",
    "\n",
    "speed = []\n",
    "\n",
    "# calculate speed for a frequency of 60 Hz in m/s\n",
    "for i in range(len(distances)):\n",
    "    speed.append(distances[i]*89)\n",
    "    #speed.append(distances[i]*60)\n",
    "\n",
    "print(speed)\n",
    "\n",
    "# calculate average speed\n",
    "avg_speed = np.mean(speed)\n",
    "print(\"Speed in m/s: \", avg_speed)"
   ]
  },
  {
   "attachments": {},
   "cell_type": "markdown",
   "metadata": {},
   "source": [
    "### Calculate pause time and find pause point"
   ]
  },
  {
   "cell_type": "code",
   "execution_count": 325,
   "metadata": {},
   "outputs": [
    {
     "name": "stdout",
     "output_type": "stream",
     "text": [
      "282\n",
      "57\n"
     ]
    }
   ],
   "source": [
    "# get position of the first duplicate converted_position that is not position 0\n",
    "for i in range(len(positions_converted)):\n",
    "    if positions_converted[i] == positions_converted[0]:\n",
    "        continue\n",
    "    elif positions_converted[i] == positions_converted[i-1] == positions_converted[i-2] == positions_converted[i-3] == positions_converted[i-4]:\n",
    "        print(i)\n",
    "        break\n",
    "\n",
    "# count the values that are the same as i\n",
    "count = 0\n",
    "for j in range(i, len(positions_converted)):\n",
    "    if positions_converted[j] == positions_converted[i]:\n",
    "        count += 1\n",
    "    else:\n",
    "        break\n",
    "print(count)\n",
    "\n",
    "# split positions_converted into two lists\n",
    "positions_converted1 = positions_converted[0:i]\n",
    "positions_converted2 = positions_converted[i:]"
   ]
  },
  {
   "attachments": {},
   "cell_type": "markdown",
   "metadata": {},
   "source": [
    "### Show pouring settings from simulation"
   ]
  },
  {
   "cell_type": "code",
   "execution_count": 326,
   "metadata": {},
   "outputs": [
    {
     "name": "stdout",
     "output_type": "stream",
     "text": [
      "Start Volume:  106.2375 mL\n",
      "Predicted Poured Volume:  8.045 mL\n",
      "Predicted Remaining Volume:  98.1925 mL\n",
      "Predicted Received Volume:  7.9375 mL\n",
      "Predicted Spilled Volume:  0.1075 mL\n",
      "\n",
      "\n",
      "Stop Angle:  8.0 degrees\n",
      "Stop Time:  1.0 seconds\n"
     ]
    }
   ],
   "source": [
    "print(\"Start Volume: \", test_bottles.iloc[sample_number]['volume_start'], \"mL\")\n",
    "print(\"Predicted Poured Volume: \", test_bottles.iloc[sample_number]['volume_poured'], \"mL\")\n",
    "print(\"Predicted Remaining Volume: \", float(test_bottles.iloc[sample_number]['volume_start'])-float(test_flasks.iloc[sample_number]['volume_poured']), \"mL\")\n",
    "print(\"Predicted Received Volume: \", test_bottles.iloc[sample_number]['volume_received'], \"mL\")\n",
    "print(\"Predicted Spilled Volume: \", test_bottles.iloc[sample_number]['spilled_volume'], \"mL\")\n",
    "print(\"\\n\")\n",
    "print(\"Stop Angle: \", test_bottles.iloc[sample_number]['stop_angle'], \"degrees\")\n",
    "print(\"Stop Time: \", test_bottles.iloc[sample_number]['pause_time'], \"seconds\")"
   ]
  },
  {
   "attachments": {},
   "cell_type": "markdown",
   "metadata": {},
   "source": [
    "### Fill Flask"
   ]
  },
  {
   "cell_type": "code",
   "execution_count": 327,
   "metadata": {},
   "outputs": [
    {
     "data": {
      "text/plain": [
       "True"
      ]
     },
     "execution_count": 327,
     "metadata": {},
     "output_type": "execute_result"
    }
   ],
   "source": [
    "rtde_c.moveL(start_pos, 0.5, 0.5)\n",
    "gripper.open()"
   ]
  },
  {
   "attachments": {},
   "cell_type": "markdown",
   "metadata": {},
   "source": [
    "### Place Flask in gripper"
   ]
  },
  {
   "cell_type": "code",
   "execution_count": 328,
   "metadata": {},
   "outputs": [
    {
     "data": {
      "text/plain": [
       "True"
      ]
     },
     "execution_count": 328,
     "metadata": {},
     "output_type": "execute_result"
    }
   ],
   "source": [
    "gripper.close()"
   ]
  },
  {
   "attachments": {},
   "cell_type": "markdown",
   "metadata": {},
   "source": [
    "### Do pouring"
   ]
  },
  {
   "cell_type": "code",
   "execution_count": 329,
   "metadata": {},
   "outputs": [],
   "source": [
    "velocity = avg_speed #0.5\n",
    "acceleration = 1.5\n",
    "blend_1 = 0.0\n",
    "blend_i = 0.001\n",
    "blend_3 = 0.0\n",
    "#path_pose1 = [start_pos_flask2[0], start_pos_flask2[1], start_pos_flask2[2], start_pos_flask2[3], start_pos_flask2[4], start_pos_flask2[5], velocity, acceleration, blend_1]\n",
    "path = []\n",
    "#path.append(path_pose1)\n",
    "for i in range(len(positions_converted1)-1):\n",
    "    path.append([positions_converted1[i][0], positions_converted1[i][1], positions_converted1[i][2], positions_converted1[i][3], positions_converted1[i][4], positions_converted1[i][5], velocity, acceleration, blend_i])\n",
    "\n",
    "path.append([positions_converted1[-1][0], positions_converted1[-1][1], positions_converted1[-1][2], positions_converted1[-1][3], positions_converted1[-1][4], positions_converted1[-1][5], velocity, acceleration, 0])\n",
    "rtde_c.moveL(path)\n",
    "\n",
    "time.sleep(count/89)\n",
    "#time.sleep(count/60)\n",
    "\n",
    "path_2 = []\n",
    "for i in range(len(positions_converted2)-1):\n",
    "    path_2.append([positions_converted2[i][0], positions_converted2[i][1], positions_converted2[i][2], positions_converted2[i][3], positions_converted2[i][4], positions_converted2[i][5], velocity, acceleration, blend_i])\n",
    "\n",
    "path_2.append([positions_converted2[-1][0], positions_converted2[-1][1], positions_converted2[-1][2], positions_converted2[-1][3], positions_converted2[-1][4], positions_converted2[-1][5], velocity, acceleration, blend_3])\n",
    "\n",
    "rtde_c.moveL(path_2)\n",
    "\n",
    "rtde_c.stopScript()"
   ]
  },
  {
   "cell_type": "code",
   "execution_count": 330,
   "metadata": {},
   "outputs": [
    {
     "data": {
      "text/plain": [
       "True"
      ]
     },
     "execution_count": 330,
     "metadata": {},
     "output_type": "execute_result"
    }
   ],
   "source": [
    "gripper.open()"
   ]
  },
  {
   "cell_type": "code",
   "execution_count": 196,
   "metadata": {},
   "outputs": [
    {
     "data": {
      "text/plain": [
       "True"
      ]
     },
     "execution_count": 196,
     "metadata": {},
     "output_type": "execute_result"
    }
   ],
   "source": [
    "rtde_c.moveL(start_pos, 0.5, 0.5)\n"
   ]
  },
  {
   "attachments": {},
   "cell_type": "markdown",
   "metadata": {},
   "source": [
    "### Measure results, write to excel file and restart"
   ]
  }
 ],
 "metadata": {
  "kernelspec": {
   "display_name": "cellculture",
   "language": "python",
   "name": "python3"
  },
  "language_info": {
   "codemirror_mode": {
    "name": "ipython",
    "version": 3
   },
   "file_extension": ".py",
   "mimetype": "text/x-python",
   "name": "python",
   "nbconvert_exporter": "python",
   "pygments_lexer": "ipython3",
   "version": "3.9.16"
  },
  "orig_nbformat": 4,
  "vscode": {
   "interpreter": {
    "hash": "445ed6cf482fbb061cdb0a2a7334000b4c125502b5b00eed934b742d6e6fd3af"
   }
  }
 },
 "nbformat": 4,
 "nbformat_minor": 2
}
