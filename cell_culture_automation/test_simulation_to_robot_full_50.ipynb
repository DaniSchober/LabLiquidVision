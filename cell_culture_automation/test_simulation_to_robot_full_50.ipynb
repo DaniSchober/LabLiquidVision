{
 "cells": [
  {
   "cell_type": "code",
   "execution_count": 2,
   "metadata": {},
   "outputs": [
    {
     "ename": "ModuleNotFoundError",
     "evalue": "No module named 'rtde_control'",
     "output_type": "error",
     "traceback": [
      "\u001b[1;31m---------------------------------------------------------------------------\u001b[0m",
      "\u001b[1;31mModuleNotFoundError\u001b[0m                       Traceback (most recent call last)",
      "Cell \u001b[1;32mIn[2], line 1\u001b[0m\n\u001b[1;32m----> 1\u001b[0m \u001b[39mimport\u001b[39;00m \u001b[39mrtde_control\u001b[39;00m\n\u001b[0;32m      2\u001b[0m \u001b[39mimport\u001b[39;00m \u001b[39mrtde_receive\u001b[39;00m\n\u001b[0;32m      3\u001b[0m \u001b[39mfrom\u001b[39;00m \u001b[39mrtde_control\u001b[39;00m \u001b[39mimport\u001b[39;00m Path, PathEntry\n",
      "\u001b[1;31mModuleNotFoundError\u001b[0m: No module named 'rtde_control'"
     ]
    }
   ],
   "source": [
    "import rtde_control\n",
    "import rtde_receive\n",
    "from rtde_control import Path, PathEntry\n",
    "import rtde_io\n",
    "from robotiq_gripper_control import RobotiqGripper\n",
    "import rotation_matrix as rm\n",
    "import time\n",
    "import numpy as np\n",
    "import rotation_matrix as rm"
   ]
  },
  {
   "cell_type": "code",
   "execution_count": 13,
   "metadata": {},
   "outputs": [],
   "source": [
    "def connect_robot(ip = \"192.168.2.1\"):\n",
    "    rtde_c = rtde_control.RTDEControlInterface(ip) #IP address found on robot\n",
    "    rtde_r = rtde_receive.RTDEReceiveInterface(ip)\n",
    "    rtde_io_set = rtde_io.RTDEIOInterface(ip)\n",
    "    return rtde_c, rtde_r, rtde_io_set\n",
    "\n",
    "rtde_c, rtde_r, rtde_io_set = connect_robot()"
   ]
  },
  {
   "cell_type": "code",
   "execution_count": 3,
   "metadata": {},
   "outputs": [],
   "source": [
    "import numpy as np\n"
   ]
  },
  {
   "cell_type": "code",
   "execution_count": 6,
   "metadata": {},
   "outputs": [],
   "source": [
    "#samples = np.loadtxt((\"../pouring_simulation/output/flask_test_samples.txt\"))  # load the samples from the simulation\n",
    "\n",
    "samples = np.loadtxt(\"../pouring_simulation/output/flask_test_samples.txt\", dtype=str)\n",
    "\n",
    "# load text file with the samples\n"
   ]
  },
  {
   "cell_type": "code",
   "execution_count": 8,
   "metadata": {},
   "outputs": [
    {
     "name": "stdout",
     "output_type": "stream",
     "text": [
      "['Sample' 'folder:' '../../output/CellFlask/Flask_65_1399_24,' 'Starting'\n",
      " 'volume:' '62.72,' 'Poured' 'volume:' '56.285998799999994,' 'Stop'\n",
      " 'angle:' '24.0,' 'Stop' 'time:' '1.4']\n"
     ]
    }
   ],
   "source": [
    "print(samples[1])"
   ]
  },
  {
   "cell_type": "code",
   "execution_count": 15,
   "metadata": {},
   "outputs": [],
   "source": [
    "\n",
    "\n",
    "data = np.loadtxt('../pouring_simulation/output/CellFlask/Flask_50_1799_28/TCP.txt', delimiter=',', skiprows=1)"
   ]
  },
  {
   "cell_type": "code",
   "execution_count": 16,
   "metadata": {},
   "outputs": [
    {
     "data": {
      "text/plain": [
       "2123"
      ]
     },
     "execution_count": 16,
     "metadata": {},
     "output_type": "execute_result"
    }
   ],
   "source": [
    "data.shape[0]"
   ]
  },
  {
   "cell_type": "code",
   "execution_count": 17,
   "metadata": {},
   "outputs": [],
   "source": [
    "#start_pos = [-0.32840330749723673,\n",
    "# 0.6906975268273259,\n",
    "# 0.25610656751907307,\n",
    "# -1.2222948307378443,\n",
    "# -1.1666822479428505,\n",
    "# -1.218172452957232]\n",
    "\n",
    "#rtde_c.moveL(start_pos, 0.5, 0.5)"
   ]
  },
  {
   "cell_type": "code",
   "execution_count": 18,
   "metadata": {},
   "outputs": [],
   "source": [
    "\n",
    "# convert from inches to meters\n",
    "data[:, 0] = data[:, 0] * 0.0254\n",
    "data[:, 1] = data[:, 1] * 0.0254"
   ]
  },
  {
   "cell_type": "code",
   "execution_count": 19,
   "metadata": {},
   "outputs": [
    {
     "data": {
      "text/plain": [
       "array([[ 2.42233196e-08,  8.29891660e-05,  5.00000000e-04],\n",
       "       [ 8.47816440e-08,  1.66002462e-04,  1.00000000e-03],\n",
       "       [ 1.93786506e-07,  2.48991628e-04,  1.50000000e-03],\n",
       "       ...,\n",
       "       [ 2.42233196e-08, -8.29891660e-05,  0.00000000e+00],\n",
       "       [ 2.42233196e-08, -8.29891660e-05,  0.00000000e+00],\n",
       "       [ 2.42233196e-08, -8.29891660e-05,  0.00000000e+00]])"
      ]
     },
     "execution_count": 19,
     "metadata": {},
     "output_type": "execute_result"
    }
   ],
   "source": [
    "data"
   ]
  },
  {
   "cell_type": "code",
   "execution_count": 20,
   "metadata": {},
   "outputs": [],
   "source": [
    "start_pos = rtde_r.getActualTCPPose()"
   ]
  },
  {
   "cell_type": "code",
   "execution_count": 21,
   "metadata": {},
   "outputs": [
    {
     "data": {
      "text/plain": [
       "[-0.4058390226168195,\n",
       " 0.13062551121065363,\n",
       " 0.21988165930384806,\n",
       " -2.184084280634187,\n",
       " 0.03481368238601551,\n",
       " 2.2543938904225596]"
      ]
     },
     "execution_count": 21,
     "metadata": {},
     "output_type": "execute_result"
    }
   ],
   "source": [
    "start_pos"
   ]
  },
  {
   "cell_type": "code",
   "execution_count": 22,
   "metadata": {},
   "outputs": [],
   "source": [
    "start_pos = [-0.4057309121445867,\n",
    " 0.12930964966911077,\n",
    " 0.22103104593020784,\n",
    " 2.1799156334772527,\n",
    " -0.02785233113705692,\n",
    " -2.261495615466219]\n",
    "\n",
    "# start_pos for flask holder 1"
   ]
  },
  {
   "cell_type": "code",
   "execution_count": 23,
   "metadata": {},
   "outputs": [],
   "source": [
    "filling_pos = [-0.4057147781327205,\n",
    " 0.1261790155942795,\n",
    " 0.22288981299466953,\n",
    " -1.6454642598425688,\n",
    " -0.7887050197628324,\n",
    " 1.696551210550644]"
   ]
  },
  {
   "cell_type": "code",
   "execution_count": 24,
   "metadata": {},
   "outputs": [],
   "source": [
    "# create list of positions\n",
    "positions = []\n",
    "for i in range(data.shape[0]):\n",
    "    positions.append([-data[i,1], -data[i,0], 0.0, 0.0, 0.0, data[i,2]]) # will move around x, y of tool and rotate around z of tool --> to be updated for different setups"
   ]
  },
  {
   "cell_type": "code",
   "execution_count": 32,
   "metadata": {},
   "outputs": [],
   "source": [
    "positions_converted = []\n",
    "for i in range(data.shape[0]):\n",
    "    # if none of the data entries is 0\n",
    "    if not (positions[i][0] == 0 or positions[i][1] == 0 or positions[i][5] == 0):\n",
    "        positions_converted.append(rm.PoseTrans(start_pos, positions[i])) # transform from base to tool coordinates(positions[i]))"
   ]
  },
  {
   "cell_type": "code",
   "execution_count": 34,
   "metadata": {},
   "outputs": [
    {
     "name": "stdout",
     "output_type": "stream",
     "text": [
      "[8.29921913733594e-05, 8.299260179693285e-05, 8.301578659637857e-05, 8.299338726925845e-05, 8.299387527323725e-05, 8.29941296158007e-05, 8.301751832107392e-05, 8.299521847825028e-05, 8.299565608266637e-05, 8.299610895782249e-05, 8.299673871629918e-05, 8.299722866405155e-05, 8.302076524648826e-05, 8.299843534002479e-05]\n",
      "[0.007386305032228987, 0.007386341559927023, 0.007388405007077693, 0.007386411466964002, 0.007386454899318115, 0.007386477535806263, 0.007388559130575579, 0.007386574444564274, 0.007386613391357307, 0.007386653697246202, 0.007386709745750627, 0.007386753351100588, 0.007388848106937455, 0.007386860745262206]\n",
      "Speed in m/s:  0.0073869977224368805\n"
     ]
    }
   ],
   "source": [
    "# get first 5 x and z positions \n",
    "positions = positions_converted[15:30]\n",
    "\n",
    "# only get x, y, z positions\n",
    "positions = [x[0:3] for x in positions]\n",
    "\n",
    "\n",
    "#positions = [x[0:3:2] for x in positions]\n",
    "\n",
    "# calculate distances between positions in meters\n",
    "distances = []\n",
    "for i in range(len(positions)-1):\n",
    "    distances.append(np.linalg.norm(np.subtract(positions[i+1], positions[i])))\n",
    "\n",
    "print(distances)\n",
    "\n",
    "speed = []\n",
    "\n",
    "# calculate speed for a frequency of 60 Hz in m/s\n",
    "for i in range(len(distances)):\n",
    "    speed.append(distances[i]*89)\n",
    "\n",
    "print(speed)\n",
    "\n",
    "# calculate average speed\n",
    "avg_speed = np.mean(speed)\n",
    "print(\"Speed in m/s: \", avg_speed)"
   ]
  },
  {
   "cell_type": "code",
   "execution_count": 35,
   "metadata": {},
   "outputs": [
    {
     "name": "stdout",
     "output_type": "stream",
     "text": [
      "980\n",
      "105\n"
     ]
    }
   ],
   "source": [
    "# get position of the first duplicate converted_position that is not position 0\n",
    "for i in range(len(positions_converted)):\n",
    "    if positions_converted[i] == positions_converted[0]:\n",
    "        continue\n",
    "    elif positions_converted[i] == positions_converted[i-1] == positions_converted[i-2] == positions_converted[i-3] == positions_converted[i-4]:\n",
    "        print(i)\n",
    "        break\n",
    "\n",
    "# count the values that are the same as i\n",
    "count = 0\n",
    "for j in range(i, len(positions_converted)):\n",
    "    if positions_converted[j] == positions_converted[i]:\n",
    "        count += 1\n",
    "    else:\n",
    "        break\n",
    "print(count)"
   ]
  },
  {
   "cell_type": "code",
   "execution_count": 36,
   "metadata": {},
   "outputs": [],
   "source": [
    "# split positions_converted into two lists\n",
    "positions_converted1 = positions_converted[0:i]\n",
    "positions_converted2 = positions_converted[i:]"
   ]
  },
  {
   "cell_type": "code",
   "execution_count": 37,
   "metadata": {},
   "outputs": [
    {
     "name": "stdout",
     "output_type": "stream",
     "text": [
      "980\n",
      "1081\n"
     ]
    }
   ],
   "source": [
    "# print length of both lists\n",
    "print(len(positions_converted1))\n",
    "print(len(positions_converted2))"
   ]
  },
  {
   "cell_type": "code",
   "execution_count": 38,
   "metadata": {},
   "outputs": [
    {
     "data": {
      "text/plain": [
       "[[-0.40568197878797624, 0.12933167940080242, 0.22235796770119048],\n",
       " [-0.40567891667233624, 0.12933340199099866, 0.22244088549156008],\n",
       " [-0.4056758539734901, 0.12933517306216696, 0.22252380264983096],\n",
       " [-0.405672789996846, 0.12933698071193062, 0.22260674217764292],\n",
       " [-0.4056697262785348, 0.12933883652956502, 0.2226896582309827],\n",
       " [-0.405666661977323, 0.12934074080277547, 0.22277257365255487],\n",
       " [-0.4056635973849664, 0.12934266927837793, 0.22285548875857436],\n",
       " [-0.4056605313687811, 0.12934464647186575, 0.2229384260758619],\n",
       " [-0.4056574656109288, 0.12934667183322432, 0.22302133991867726],\n",
       " [-0.405654399415901, 0.12934873353626494, 0.22310425328766692],\n",
       " [-0.40565133278430876, 0.1293508315301956, 0.2231871661834931],\n",
       " [-0.4056482655695104, 0.12935297800509832, 0.22327007844722058],\n",
       " [-0.40564519791814757, 0.12935516077089107, 0.22335299023778454],\n",
       " [-0.4056421288426506, 0.12935739227996515, 0.2234359242392855],\n",
       " [-0.40563906017121176, 0.12935965984301598, 0.22351883492425614]]"
      ]
     },
     "execution_count": 38,
     "metadata": {},
     "output_type": "execute_result"
    }
   ],
   "source": [
    "positions"
   ]
  },
  {
   "cell_type": "code",
   "execution_count": 29,
   "metadata": {},
   "outputs": [
    {
     "data": {
      "text/plain": [
       "True"
      ]
     },
     "execution_count": 29,
     "metadata": {},
     "output_type": "execute_result"
    }
   ],
   "source": [
    "rtde_c.moveL(filling_pos, 0.5, 0.5)"
   ]
  },
  {
   "cell_type": "code",
   "execution_count": 30,
   "metadata": {},
   "outputs": [
    {
     "data": {
      "text/plain": [
       "True"
      ]
     },
     "execution_count": 30,
     "metadata": {},
     "output_type": "execute_result"
    }
   ],
   "source": [
    "rtde_c.moveL(start_pos, 0.02, 0.1)"
   ]
  },
  {
   "cell_type": "code",
   "execution_count": 31,
   "metadata": {},
   "outputs": [],
   "source": [
    "# 11,../../output/CellFlask/Flask_35_200_22,0.030000,22.000000,0.200000,34.032500,16.002501,15.885000,0.117500"
   ]
  },
  {
   "cell_type": "code",
   "execution_count": 39,
   "metadata": {},
   "outputs": [
    {
     "data": {
      "text/plain": [
       "True"
      ]
     },
     "execution_count": 39,
     "metadata": {},
     "output_type": "execute_result"
    }
   ],
   "source": [
    "velocity = avg_speed #0.5\n",
    "acceleration = 1.5\n",
    "blend_1 = 0.0\n",
    "blend_i = 0.001\n",
    "blend_3 = 0.0\n",
    "#path_pose1 = [start_pos_flask2[0], start_pos_flask2[1], start_pos_flask2[2], start_pos_flask2[3], start_pos_flask2[4], start_pos_flask2[5], velocity, acceleration, blend_1]\n",
    "path = []\n",
    "#path.append(path_pose1)\n",
    "for i in range(len(positions_converted1)-1):\n",
    "    path.append([positions_converted1[i][0], positions_converted1[i][1], positions_converted1[i][2], positions_converted1[i][3], positions_converted1[i][4], positions_converted1[i][5], velocity, acceleration, blend_i])\n",
    "\n",
    "path.append([positions_converted1[-1][0], positions_converted1[-1][1], positions_converted1[-1][2], positions_converted1[-1][3], positions_converted1[-1][4], positions_converted1[-1][5], velocity, acceleration, 0])\n",
    "rtde_c.moveL(path)\n",
    "\n",
    "time.sleep(count/89)\n",
    "\n",
    "path_2 = []\n",
    "for i in range(len(positions_converted2)-1):\n",
    "    path_2.append([positions_converted2[i][0], positions_converted2[i][1], positions_converted2[i][2], positions_converted2[i][3], positions_converted2[i][4], positions_converted2[i][5], velocity, acceleration, blend_i])\n",
    "\n",
    "path_2.append([positions_converted2[-1][0], positions_converted2[-1][1], positions_converted2[-1][2], positions_converted2[-1][3], positions_converted2[-1][4], positions_converted2[-1][5], velocity, acceleration, blend_3])\n",
    "\n",
    "rtde_c.moveL(path_2)\n",
    "\n",
    "#rtde_c.stopScript()"
   ]
  },
  {
   "cell_type": "code",
   "execution_count": 208,
   "metadata": {},
   "outputs": [],
   "source": [
    "# Send a linear path with blending in between - (currently uses separate script)\n",
    "rtde_c.moveL(path)\n",
    "rtde_c.stopScript()"
   ]
  },
  {
   "cell_type": "code",
   "execution_count": null,
   "metadata": {},
   "outputs": [],
   "source": []
  }
 ],
 "metadata": {
  "kernelspec": {
   "display_name": "cellculture",
   "language": "python",
   "name": "python3"
  },
  "language_info": {
   "codemirror_mode": {
    "name": "ipython",
    "version": 3
   },
   "file_extension": ".py",
   "mimetype": "text/x-python",
   "name": "python",
   "nbconvert_exporter": "python",
   "pygments_lexer": "ipython3",
   "version": "3.9.16"
  },
  "orig_nbformat": 4,
  "vscode": {
   "interpreter": {
    "hash": "445ed6cf482fbb061cdb0a2a7334000b4c125502b5b00eed934b742d6e6fd3af"
   }
  }
 },
 "nbformat": 4,
 "nbformat_minor": 2
}
