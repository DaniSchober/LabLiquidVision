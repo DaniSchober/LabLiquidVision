{
 "cells": [
  {
   "attachments": {},
   "cell_type": "markdown",
   "metadata": {},
   "source": [
    "## Choosing 50 random samples from the summary files for flask and bottle for testing"
   ]
  },
  {
   "cell_type": "code",
   "execution_count": 1,
   "metadata": {},
   "outputs": [],
   "source": [
    "import pandas as pd"
   ]
  },
  {
   "cell_type": "code",
   "execution_count": 2,
   "metadata": {},
   "outputs": [],
   "source": [
    "# load the data from summary_flask.csv and skip rows 0 and 1 using pandas library\n",
    "summary_flask = pd.read_csv('../output/summary_flask.csv', skiprows=[0,1])\n",
    "\n",
    "# select randomly 50 rows from the summary_flask dataframe\n",
    "summary_flask = summary_flask.sample(n=50)\n",
    "\n",
    "summary_flask.to_csv('summary_flask_test.csv', header=['scene_number','path','rotationSpeed','stop_angle','pause_time','volume_start','volume_poured','volume_received','spilled_volume'], index=False)\n",
    "\n",
    "# add the real_poured_volume, real_received_volume, real_spilled_volume columns\n",
    "summary_flask = pd.read_csv('summary_flask_test.csv')\n",
    "summary_flask['real_poured_volume'] = summary_flask['volume_poured']*0.0\n",
    "summary_flask['real_received_volume'] = summary_flask['volume_poured']*0.0\n",
    "summary_flask['real_spilled_volume'] = summary_flask['volume_poured']*0.0\n",
    "\n",
    "# write to new csv file\n",
    "summary_flask.to_csv('summary_flask_test.csv', index=False)"
   ]
  },
  {
   "cell_type": "code",
   "execution_count": 3,
   "metadata": {},
   "outputs": [],
   "source": [
    "# load the data from summary_flask.csv and skip rows 0 and 1 using pandas library\n",
    "summary_medium = pd.read_csv('../output/summary_medium.csv', skiprows=[0,1])\n",
    "\n",
    "# select randomly 50 rows from the summary_flask dataframe\n",
    "summary_medium = summary_medium.sample(n=50)\n",
    "\n",
    "summary_medium.to_csv('summary_medium_test.csv', header=['scene_number','path','rotationSpeed','stop_angle','pause_time','volume_start','volume_poured','volume_received','spilled_volume'], index=False)\n",
    "\n",
    "# add the real_poured_volume, real_received_volume, real_spilled_volume columns\n",
    "summary_medium = pd.read_csv('summary_medium_test.csv')\n",
    "summary_medium['real_poured_volume'] = summary_medium['volume_poured']*0.0\n",
    "summary_medium['real_received_volume'] = summary_medium['volume_poured']*0.0\n",
    "summary_medium['real_spilled_volume'] = summary_medium['volume_poured']*0.0\n",
    "\n",
    "# write to new csv file\n",
    "summary_medium.to_csv('summary_medium_test.csv', index=False)"
   ]
  }
 ],
 "metadata": {
  "kernelspec": {
   "display_name": "thesis",
   "language": "python",
   "name": "python3"
  },
  "language_info": {
   "codemirror_mode": {
    "name": "ipython",
    "version": 3
   },
   "file_extension": ".py",
   "mimetype": "text/x-python",
   "name": "python",
   "nbconvert_exporter": "python",
   "pygments_lexer": "ipython3",
   "version": "3.9.16"
  },
  "orig_nbformat": 4
 },
 "nbformat": 4,
 "nbformat_minor": 2
}
