{
 "cells": [
  {
   "cell_type": "code",
   "execution_count": 2,
   "metadata": {},
   "outputs": [],
   "source": [
    "import numpy as np\n",
    "import os"
   ]
  },
  {
   "cell_type": "code",
   "execution_count": 24,
   "metadata": {},
   "outputs": [],
   "source": [
    "# load every folder in input folder\n",
    "\n",
    "folder_path = \"MediumBottle\"\n",
    "\n",
    "# create csv file\n",
    "csv_path = \"MediumBottle_New_summary.csv\"\n",
    "\n",
    "\n",
    "# write header\n",
    "with open(csv_path, \"w\") as f:\n",
    "    f.write(\n",
    "        \"scene_number,path,rotationSpeed,stop_angle,pause_time,volume_start,volume_poured,volume_received,spilled_volume\\n\"\n",
    "    )\n",
    "\n",
    "scene_number_low = 1\n",
    "scene_number_high = 901\n",
    "\n",
    "# iterate through all folders\n",
    "for folder in os.listdir(folder_path):\n",
    "    # open params.txt if it exists\n",
    "    params_path = os.path.join(folder_path, folder, \"params.txt\")\n",
    "    if not os.path.exists(params_path):\n",
    "        continue\n",
    "    params = open(params_path, \"r\").read().strip().split(\"\\n\")\n",
    "\n",
    "    path = \"../../output/MediumBottle/\" + folder\n",
    "    rot_speed = float(params[0].split(\" \")[1])\n",
    "    stop_angle = float(params[1].split(\" \")[1])\n",
    "    pause_time = float(params[2].split(\" \")[1])\n",
    "    start_volume = float(params[11].split(\" \")[1])\n",
    "    poured_volume = float(params[12].split(\" \")[1])\n",
    "    received_volume = float(params[13].split(\" \")[1])\n",
    "    spilled_volume = float(params[14].split(\" \")[1])\n",
    "\n",
    "    if start_volume < 95:\n",
    "        if start_volume < 0:\n",
    "            continue\n",
    "        # write to csv file\n",
    "        with open(csv_path, \"a\") as f:\n",
    "            f.write(\n",
    "                \"{},{},{},{},{},{},{},{},{}\\n\".format(\n",
    "                    scene_number_low,\n",
    "                    path,\n",
    "                    rot_speed,\n",
    "                    stop_angle,\n",
    "                    pause_time,\n",
    "                    start_volume,\n",
    "                    poured_volume,\n",
    "                    received_volume,\n",
    "                    spilled_volume,\n",
    "                )\n",
    "            )\n",
    "            scene_number_low += 1\n",
    "    else:\n",
    "        # write to csv file\n",
    "        with open(csv_path, \"a\") as f:\n",
    "            f.write(\n",
    "                \"{},{},{},{},{},{},{},{},{}\\n\".format(\n",
    "                    scene_number_high,\n",
    "                    path,\n",
    "                    rot_speed,\n",
    "                    stop_angle,\n",
    "                    pause_time,\n",
    "                    start_volume,\n",
    "                    poured_volume,\n",
    "                    received_volume,\n",
    "                    spilled_volume,\n",
    "                )\n",
    "            )\n",
    "        scene_number_high += 1"
   ]
  },
  {
   "cell_type": "code",
   "execution_count": 4,
   "metadata": {},
   "outputs": [
    {
     "data": {
      "text/plain": [
       "['rotation_speed 0.03',\n",
       " 'stop_angle 66',\n",
       " 'pause_time 0.6',\n",
       " 'num_particles 108000',\n",
       " 'start_particles 107964',\n",
       " 'poured_particles 37407',\n",
       " 'received_particles 33504',\n",
       " 'spilled_particles 3903',\n",
       " 'not_poured_particles 70557',\n",
       " '',\n",
       " '',\n",
       " 'start_volume 269.91 mL',\n",
       " 'poured_volume 93.5175 mL',\n",
       " 'received_volume 83.76 mL',\n",
       " 'spilled_volume 9.7575 mL',\n",
       " 'not_poured_volume 176.393 mL']"
      ]
     },
     "execution_count": 4,
     "metadata": {},
     "output_type": "execute_result"
    }
   ],
   "source": [
    "params"
   ]
  },
  {
   "cell_type": "code",
   "execution_count": 7,
   "metadata": {},
   "outputs": [],
   "source": [
    "rot_speed = float(params[0].split(\" \")[1])"
   ]
  },
  {
   "cell_type": "code",
   "execution_count": 8,
   "metadata": {},
   "outputs": [
    {
     "data": {
      "text/plain": [
       "0.03"
      ]
     },
     "execution_count": 8,
     "metadata": {},
     "output_type": "execute_result"
    }
   ],
   "source": [
    "rot_speed"
   ]
  },
  {
   "cell_type": "code",
   "execution_count": 12,
   "metadata": {},
   "outputs": [
    {
     "data": {
      "text/plain": [
       "['rotation_speed 0.03',\n",
       " 'stop_angle 90',\n",
       " 'pause_time 0.6',\n",
       " 'num_particles 36000',\n",
       " 'start_particles 35993',\n",
       " 'poured_particles 24356',\n",
       " 'received_particles 22978',\n",
       " 'spilled_particles 1378',\n",
       " 'not_poured_particles 11637',\n",
       " '',\n",
       " '',\n",
       " 'start_volume 89.9825 mL',\n",
       " 'poured_volume 60.89 mL',\n",
       " 'received_volume 57.445 mL',\n",
       " 'spilled_volume 3.445 mL',\n",
       " 'not_poured_volume 29.0925 mL']"
      ]
     },
     "execution_count": 12,
     "metadata": {},
     "output_type": "execute_result"
    }
   ],
   "source": [
    "params"
   ]
  },
  {
   "cell_type": "code",
   "execution_count": 13,
   "metadata": {},
   "outputs": [
    {
     "name": "stdout",
     "output_type": "stream",
     "text": [
      "Rotational speed: 0.03 rpm\n",
      "Stop angle: 90.0 degrees\n",
      "Pause time: 0.6 seconds\n",
      "Start volume: 89.9825 ml\n",
      "Poured volume: 60.89 ml\n",
      "Received volume: 57.445 ml\n",
      "Spilled volume: 3.445 ml\n"
     ]
    }
   ],
   "source": [
    "print(\"Rotational speed: {} rpm\".format(rot_speed))\n",
    "print(\"Stop angle: {} degrees\".format(stop_angle))\n",
    "print(\"Pause time: {} seconds\".format(pause_time))\n",
    "print(\"Start volume: {} ml\".format(start_volume))\n",
    "print(\"Poured volume: {} ml\".format(poured_volume))\n",
    "print(\"Received volume: {} ml\".format(received_volume))\n",
    "print(\"Spilled volume: {} ml\".format(spilled_volume))"
   ]
  },
  {
   "cell_type": "code",
   "execution_count": null,
   "metadata": {},
   "outputs": [],
   "source": []
  }
 ],
 "metadata": {
  "kernelspec": {
   "display_name": "thesis",
   "language": "python",
   "name": "python3"
  },
  "language_info": {
   "codemirror_mode": {
    "name": "ipython",
    "version": 3
   },
   "file_extension": ".py",
   "mimetype": "text/x-python",
   "name": "python",
   "nbconvert_exporter": "python",
   "pygments_lexer": "ipython3",
   "version": "3.9.16"
  },
  "orig_nbformat": 4
 },
 "nbformat": 4,
 "nbformat_minor": 2
}
