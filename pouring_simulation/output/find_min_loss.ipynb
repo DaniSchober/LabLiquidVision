{
 "cells": [
  {
   "cell_type": "code",
   "execution_count": 2,
   "metadata": {},
   "outputs": [],
   "source": [
    "import numpy as np\n",
    "import pandas as pd"
   ]
  },
  {
   "cell_type": "code",
   "execution_count": 19,
   "metadata": {},
   "outputs": [],
   "source": [
    "input_start_vol = 50\n",
    "input_target_vol = 30\n",
    "\n",
    "# load the data from summary_flask.csv and skip rows 0 and 1 using pandas library\n",
    "summary_flask = pd.read_csv('summary_medium_final.csv', skiprows=[0,1])\n",
    "min_loss = 100000\n",
    "\n",
    "# iterate thorugh all rows of summary_flask\n",
    "for j in range(len(summary_flask)):\n",
    "    loss = abs(summary_flask.iloc[j,5] - input_start_vol) + abs(summary_flask.iloc[j,7] - input_target_vol) #+ summary_flask.iloc[j,8]*0.3\n",
    "    if loss < min_loss:\n",
    "        min_loss = loss\n",
    "        min_loss_row = j\n",
    "        min_loss_start_vol = (summary_flask.iloc[j,5])\n",
    "        min_loss_target_vol = (summary_flask.iloc[j,7])\n",
    "        stop_angle = (summary_flask.iloc[j,3])\n",
    "        stop_time = (summary_flask.iloc[j,4])\n"
   ]
  },
  {
   "cell_type": "code",
   "execution_count": 20,
   "metadata": {},
   "outputs": [
    {
     "name": "stdout",
     "output_type": "stream",
     "text": [
      "Minimum loss:  2.080000000000002\n",
      "Minimum loss row:  105\n",
      "Minimum loss start volume:  49.995\n",
      "Minimum loss target volume:  27.925\n",
      "Minimum loss stop angle:  90.0\n",
      "Minimum loss stop time:  1.8\n"
     ]
    }
   ],
   "source": [
    "print(\"Minimum loss: \", min_loss)\n",
    "print(\"Minimum loss row: \", min_loss_row)\n",
    "print(\"Minimum loss start volume: \", min_loss_start_vol)\n",
    "print(\"Minimum loss target volume: \", min_loss_target_vol)\n",
    "print(\"Minimum loss stop angle: \", stop_angle)\n",
    "print(\"Minimum loss stop time: \", stop_time)\n"
   ]
  },
  {
   "cell_type": "code",
   "execution_count": 34,
   "metadata": {},
   "outputs": [],
   "source": [
    "def find_best_parameters(input_start_vol, input_target_vol):\n",
    "    input_target_vol -= 20 # correction factor\n",
    "    summary_flask = pd.read_csv('summary_medium_final.csv', skiprows=[0,1])\n",
    "    min_loss = 100000\n",
    "\n",
    "    for j in range(len(summary_flask)):\n",
    "        loss = abs(summary_flask.iloc[j,5] - input_start_vol) + abs(summary_flask.iloc[j,7] - input_target_vol) #+ summary_flask.iloc[j,8]*0.3\n",
    "        if loss < min_loss:\n",
    "            min_loss = loss\n",
    "            stop_angle = (summary_flask.iloc[j,3])\n",
    "            stop_time = (summary_flask.iloc[j,4])\n",
    "\n",
    "    return stop_angle, stop_time"
   ]
  },
  {
   "cell_type": "code",
   "execution_count": 35,
   "metadata": {},
   "outputs": [
    {
     "name": "stdout",
     "output_type": "stream",
     "text": [
      "Minimum loss stop angle:  72.0\n",
      "Minimum loss stop time:  0.2\n"
     ]
    }
   ],
   "source": [
    "stop_angle, stop_time = find_best_parameters(99, 22)\n",
    "\n",
    "print(\"Minimum loss stop angle: \", stop_angle)\n",
    "print(\"Minimum loss stop time: \", stop_time)\n"
   ]
  },
  {
   "cell_type": "code",
   "execution_count": null,
   "metadata": {},
   "outputs": [],
   "source": []
  }
 ],
 "metadata": {
  "kernelspec": {
   "display_name": "my_environment",
   "language": "python",
   "name": "python3"
  },
  "language_info": {
   "codemirror_mode": {
    "name": "ipython",
    "version": 3
   },
   "file_extension": ".py",
   "mimetype": "text/x-python",
   "name": "python",
   "nbconvert_exporter": "python",
   "pygments_lexer": "ipython3",
   "version": "3.10.4"
  },
  "orig_nbformat": 4
 },
 "nbformat": 4,
 "nbformat_minor": 2
}
