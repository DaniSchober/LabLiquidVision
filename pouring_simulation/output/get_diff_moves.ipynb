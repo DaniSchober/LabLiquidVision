{
 "cells": [
  {
   "cell_type": "code",
   "execution_count": 11,
   "metadata": {},
   "outputs": [],
   "source": [
    "import numpy as np\n",
    "import os\n",
    "import warnings"
   ]
  },
  {
   "cell_type": "code",
   "execution_count": 59,
   "metadata": {},
   "outputs": [],
   "source": [
    "# create array of 2d arrays\n",
    "\n",
    "possible_angles = np.arange(2, 51, 2)\n",
    "\n",
    "\n",
    "possible_pauses = np.array([200, 600, 1000, 1400, 1800])\n",
    "\n",
    "# create array of 2d arrays\n",
    "possible_angles_pauses = np.array(np.meshgrid(possible_angles, possible_pauses)).T.reshape(-1, 2)\n",
    "\n",
    "\n",
    "# convert to float array\n",
    "possible_angles_pauses = possible_angles_pauses.astype(np.float32)\n"
   ]
  },
  {
   "cell_type": "code",
   "execution_count": 60,
   "metadata": {},
   "outputs": [
    {
     "name": "stderr",
     "output_type": "stream",
     "text": [
      "C:\\Users\\apo_n\\AppData\\Local\\Temp\\ipykernel_17724\\2601397519.py:10: UserWarning: Could not find file at ../output/CellFlask\\Flask_18_600_18\\params.txt\n",
      "  warnings.warn(f\"Could not find file at {file_path}\")\n"
     ]
    }
   ],
   "source": [
    "# iterate through all folders in folder_path\n",
    "folder_path = r\"../output/CellFlask\"\n",
    "\n",
    "# iterate through all folders in folder_path\n",
    "for folder in os.listdir(folder_path):\n",
    "    # open file in folder\n",
    "    file_path = os.path.join(folder_path, folder, \"params.txt\")\n",
    "\n",
    "    if not os.path.exists(file_path):\n",
    "        warnings.warn(f\"Could not find file at {file_path}\")\n",
    "        continue\n",
    "\n",
    "    # read file\n",
    "    file = open(file_path, \"r\")\n",
    "    file_contents = file.read()\n",
    "    file.close()\n",
    "    # get second line\n",
    "    second_line = file_contents.split(\"\\n\")[1]\n",
    "    # delete first 11 characters\n",
    "    stop_angle = second_line[11:]\n",
    "\n",
    "    # get third line\n",
    "    third_line = file_contents.split(\"\\n\")[2]\n",
    "    # delete first 11 characters\n",
    "    pause_time = third_line[11:]\n",
    "    #print(pause_time)\n",
    "\n",
    "    # combine stop_angle and pause_time\n",
    "    stop_angle_pause_time = np.array([float(stop_angle), float(pause_time)*1000])\n",
    "\n",
    "    #print(stop_angle_pause_time)\n",
    "\n",
    "    # check if stop_angle_pause_time is in possible_angles_pauses\n",
    "    if stop_angle_pause_time in possible_angles_pauses:\n",
    "        #print(\"FOUND\")\n",
    "        TCP_path = os.path.join(folder_path, folder, \"TCP.txt\")\n",
    "        if not os.path.exists(TCP_path):\n",
    "            warnings.warn(f\"Could not find file at {TCP_path}\")\n",
    "            continue\n",
    "\n",
    "        # delete stop_angle_pause_time from possible_angles_pauses if both values are in possible_angles_pauses\n",
    "        #possible_angles_pauses = np.delete(possible_angles_pauses, np.where(possible_angles_pauses == stop_angle_pause_time), axis=0)\n",
    "        indices = np.where(possible_angles_pauses[:, 0] == possible_angles_pauses[:, 1])[0]\n",
    "        possible_angles_pauses = np.delete(possible_angles_pauses, indices, axis=0)\n",
    "\n",
    "        #print(\"to delete:\", stop_angle_pause_time)\n",
    "        #print(possible_angles_pauses.shape)\n",
    "        #print(possible_angles_pauses)\n",
    "\n",
    "        pause_time = float(pause_time)\n",
    "        stop_angle = float(stop_angle)\n",
    "        # new name for file\n",
    "        new_name = \"TCP_\" + str(int(stop_angle)) + \"_\" + str(int(pause_time*1000)) + \".txt\"\n",
    "\n",
    "        # load TCP file\n",
    "        TCP_file = open(TCP_path, \"r\")\n",
    "        # save TCP file in CellFlask_diff folder\n",
    "        new_path = r\"../output/CellFlask_diff\"\n",
    "\n",
    "        # save TCP_file at new path\n",
    "        new_TCP_file = open(os.path.join(new_path, new_name), \"w\")\n",
    "\n",
    "        # create new file at new path\n",
    "        # save TCP file at new path\n",
    "        new_TCP_file.write(TCP_file.read())\n",
    "        new_TCP_file.close()\n",
    "        TCP_file.close()\n",
    "        "
   ]
  },
  {
   "cell_type": "code",
   "execution_count": null,
   "metadata": {},
   "outputs": [],
   "source": []
  }
 ],
 "metadata": {
  "kernelspec": {
   "display_name": "thesis",
   "language": "python",
   "name": "python3"
  },
  "language_info": {
   "codemirror_mode": {
    "name": "ipython",
    "version": 3
   },
   "file_extension": ".py",
   "mimetype": "text/x-python",
   "name": "python",
   "nbconvert_exporter": "python",
   "pygments_lexer": "ipython3",
   "version": "3.9.16"
  },
  "orig_nbformat": 4
 },
 "nbformat": 4,
 "nbformat_minor": 2
}
