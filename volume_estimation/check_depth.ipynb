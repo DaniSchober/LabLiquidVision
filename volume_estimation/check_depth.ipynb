{
 "cells": [
  {
   "cell_type": "code",
   "execution_count": 3,
   "metadata": {},
   "outputs": [
    {
     "name": "stdout",
     "output_type": "stream",
     "text": [
      "[[0 0 0 ... 0 0 0]\n",
      " [0 0 0 ... 0 0 0]\n",
      " [0 0 0 ... 0 0 0]\n",
      " ...\n",
      " [0 0 0 ... 0 0 0]\n",
      " [0 0 0 ... 0 0 0]\n",
      " [0 0 0 ... 0 0 0]]\n",
      "Average depth:  273.4457096354167\n"
     ]
    }
   ],
   "source": [
    "import numpy as np\n",
    "\n",
    "# Load .npy file\n",
    "my_array = np.load('data\\processed\\Cell_Flask_160mL_31ml_2404_5016\\Input_DepthMap.npy')\n",
    "\n",
    "# Print loaded array\n",
    "print(my_array)\n",
    "\n",
    "# print average depth\n",
    "print(\"Average depth: \", np.average(my_array))"
   ]
  },
  {
   "cell_type": "code",
   "execution_count": 7,
   "metadata": {},
   "outputs": [
    {
     "name": "stdout",
     "output_type": "stream",
     "text": [
      "[[0. 0. 0. ... 0. 0. 0.]\n",
      " [0. 0. 0. ... 0. 0. 0.]\n",
      " [0. 0. 0. ... 0. 0. 0.]\n",
      " ...\n",
      " [0. 0. 0. ... 0. 0. 0.]\n",
      " [0. 0. 0. ... 0. 0. 0.]\n",
      " [0. 0. 0. ... 0. 0. 0.]]\n",
      "Average depth:  0.10535\n"
     ]
    }
   ],
   "source": [
    "# Load .npy file\n",
    "my_array = np.load('data\\processed\\Cell_Flask_160mL_32ml_0905_1325\\Input_ContentDepth_segmented.npy')\n",
    "\n",
    "# Print loaded array\n",
    "print(my_array)\n",
    "\n",
    "# print average depth\n",
    "print(\"Average depth: \", np.average(my_array))"
   ]
  },
  {
   "cell_type": "code",
   "execution_count": 10,
   "metadata": {},
   "outputs": [
    {
     "name": "stdout",
     "output_type": "stream",
     "text": [
      "[[0. 0. 0. ... 0. 0. 0.]\n",
      " [0. 0. 0. ... 0. 0. 0.]\n",
      " [0. 0. 0. ... 0. 0. 0.]\n",
      " ...\n",
      " [0. 0. 0. ... 0. 0. 0.]\n",
      " [0. 0. 0. ... 0. 0. 0.]\n",
      " [0. 0. 0. ... 0. 0. 0.]]\n",
      "Average depth:  0.0353\n"
     ]
    }
   ],
   "source": [
    "# Load .npy file\n",
    "my_array = np.load('data\\processed\\Pyrex_100mL_18ml_0905_1643\\Input_ContentDepth_segmented.npy')\n",
    "\n",
    "# Print loaded array\n",
    "print(my_array)\n",
    "\n",
    "# print average depth\n",
    "print(\"Average depth: \", np.average(my_array))"
   ]
  },
  {
   "cell_type": "code",
   "execution_count": null,
   "metadata": {},
   "outputs": [],
   "source": [
    "C:\\Users\\apo_n\\Documents\\GitHub\\thesis\\volume_estimation\\"
   ]
  },
  {
   "cell_type": "code",
   "execution_count": 11,
   "metadata": {},
   "outputs": [
    {
     "name": "stdout",
     "output_type": "stream",
     "text": [
      "[[[0 0 0 ... 0 0 0]\n",
      "  [0 0 0 ... 0 0 0]\n",
      "  [0 0 0 ... 0 0 0]\n",
      "  ...\n",
      "  [0 0 0 ... 0 0 0]\n",
      "  [0 0 0 ... 0 0 0]\n",
      "  [0 0 0 ... 0 0 0]]]\n",
      "Average depth:  0.05373372395833333\n"
     ]
    }
   ],
   "source": [
    "# Load .npy file\n",
    "my_array = np.load('data\\processed\\Gibco_500mL_352ml_0905_4411\\Input_ContentMaskClean.npy')\n",
    "\n",
    "# Print loaded array\n",
    "print(my_array)\n",
    "\n",
    "# print average depth\n",
    "print(\"Average depth: \", np.average(my_array))"
   ]
  },
  {
   "cell_type": "code",
   "execution_count": 12,
   "metadata": {},
   "outputs": [
    {
     "name": "stdout",
     "output_type": "stream",
     "text": [
      "[[[0 0 0 ... 0 0 0]\n",
      "  [0 0 0 ... 0 0 0]\n",
      "  [0 0 0 ... 0 0 0]\n",
      "  ...\n",
      "  [0 0 0 ... 0 0 0]\n",
      "  [0 0 0 ... 0 0 0]\n",
      "  [0 0 0 ... 0 0 0]]]\n",
      "Average depth:  0.08233072916666667\n"
     ]
    }
   ],
   "source": [
    "# Load .npy file\n",
    "my_array = np.load('data\\processed\\Tube_50mL_48ml_2404_5728\\Input_ContentMaskClean.npy')\n",
    "\n",
    "# Print loaded array\n",
    "print(my_array)\n",
    "\n",
    "# print average depth\n",
    "print(\"Average depth: \", np.average(my_array))"
   ]
  },
  {
   "cell_type": "code",
   "execution_count": 13,
   "metadata": {},
   "outputs": [
    {
     "name": "stdout",
     "output_type": "stream",
     "text": [
      "[[[0 0 0 ... 0 0 0]\n",
      "  [0 0 0 ... 0 0 0]\n",
      "  [0 0 0 ... 0 0 0]\n",
      "  ...\n",
      "  [0 0 0 ... 0 0 0]\n",
      "  [0 0 0 ... 0 0 0]\n",
      "  [0 0 0 ... 0 0 0]]]\n",
      "Average depth:  0.038125\n"
     ]
    }
   ],
   "source": [
    "# Load .npy file\n",
    "my_array = np.load('data\\processed\\Tube_50mL_48ml_2404_5725\\Input_ContentMaskClean.npy')\n",
    "\n",
    "# Print loaded array\n",
    "print(my_array)\n",
    "\n",
    "# print average depth\n",
    "print(\"Average depth: \", np.average(my_array))"
   ]
  },
  {
   "cell_type": "code",
   "execution_count": null,
   "metadata": {},
   "outputs": [],
   "source": []
  }
 ],
 "metadata": {
  "kernelspec": {
   "display_name": "test",
   "language": "python",
   "name": "python3"
  },
  "language_info": {
   "codemirror_mode": {
    "name": "ipython",
    "version": 3
   },
   "file_extension": ".py",
   "mimetype": "text/x-python",
   "name": "python",
   "nbconvert_exporter": "python",
   "pygments_lexer": "ipython3",
   "version": "3.9.16"
  },
  "orig_nbformat": 4
 },
 "nbformat": 4,
 "nbformat_minor": 2
}
