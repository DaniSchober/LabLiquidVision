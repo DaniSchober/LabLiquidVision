{
 "cells": [
  {
   "cell_type": "code",
   "execution_count": 9,
   "metadata": {},
   "outputs": [],
   "source": [
    "import pyrealsense2 as rs\n",
    "import numpy as np"
   ]
  },
  {
   "cell_type": "code",
   "execution_count": 10,
   "metadata": {},
   "outputs": [],
   "source": [
    "pipeline = rs.pipeline()"
   ]
  },
  {
   "cell_type": "code",
   "execution_count": 11,
   "metadata": {},
   "outputs": [
    {
     "data": {
      "text/plain": [
       "<pyrealsense2.pyrealsense2.pipeline_profile at 0x1bbc8b49830>"
      ]
     },
     "execution_count": 11,
     "metadata": {},
     "output_type": "execute_result"
    }
   ],
   "source": [
    "config = rs.config()\n",
    "config.enable_stream(rs.stream.color, 0, 0, rs.format.rgb8, 30)\n",
    "pipeline.start(config)"
   ]
  },
  {
   "cell_type": "code",
   "execution_count": 12,
   "metadata": {},
   "outputs": [],
   "source": [
    "profile = pipeline.get_active_profile()\n",
    "intrinsics = (\n",
    "    profile.get_stream(rs.stream.color).as_video_stream_profile().get_intrinsics()\n",
    ")"
   ]
  },
  {
   "cell_type": "code",
   "execution_count": 13,
   "metadata": {},
   "outputs": [],
   "source": [
    "fx = intrinsics.fx  # Focal length in x-direction\n",
    "fy = intrinsics.fy  # Focal length in y-direction\n",
    "cx = intrinsics.ppx  # Principal point x-coordinate\n",
    "cy = intrinsics.ppy  # Principal point y-coordinate"
   ]
  },
  {
   "cell_type": "code",
   "execution_count": 14,
   "metadata": {},
   "outputs": [],
   "source": [
    "pipeline.stop()"
   ]
  },
  {
   "cell_type": "code",
   "execution_count": 15,
   "metadata": {},
   "outputs": [
    {
     "name": "stdout",
     "output_type": "stream",
     "text": [
      "fx:  912.3776245117188\n",
      "fy:  911.2467651367188\n",
      "cx:  637.6239013671875\n",
      "cy:  359.3946533203125\n"
     ]
    }
   ],
   "source": [
    "print(\"fx: \", fx)\n",
    "print(\"fy: \", fy)\n",
    "print(\"cx: \", cx)\n",
    "print(\"cy: \", cy)"
   ]
  },
  {
   "cell_type": "code",
   "execution_count": null,
   "metadata": {},
   "outputs": [],
   "source": [
    "fx = 912.3776245117188\n",
    "fy = 911.2467651367188\n",
    "cx = 637.6239013671875\n",
    "cy = 359.3946533203125"
   ]
  },
  {
   "cell_type": "code",
   "execution_count": 47,
   "metadata": {},
   "outputs": [],
   "source": [
    "# get transformation matrix for depth map to xyz coordinates\n",
    "\n",
    "transformation_matrix = np.array(\n",
    "    [\n",
    "        [fx, 0, cx],\n",
    "        [0, fy, cy],\n",
    "        [0, 0, 1],\n",
    "    ]\n",
    ")"
   ]
  },
  {
   "cell_type": "code",
   "execution_count": 32,
   "metadata": {},
   "outputs": [
    {
     "name": "stdout",
     "output_type": "stream",
     "text": [
      "Transformed camera intrinsics:  {'fx': 820.0, 'fy': 740.0, 'cx': 820.0, 'cy': 740.0}\n",
      "Rectified camera intrinsics:  {'fx': 820.0, 'fy': 740.0, 'cx': 820.0, 'cy': 740.0}\n",
      "Rectified image shape:  (480, 640, 3)\n"
     ]
    }
   ],
   "source": [
    "import cv2\n",
    "import numpy as np\n",
    "\n",
    "\n",
    "def rectify_image(\n",
    "    source_image, source_intrinsics, target_intrinsics, transformation_matrix\n",
    "):\n",
    "    # Load the source image\n",
    "    img = cv2.imread(source_image)\n",
    "\n",
    "    # Retrieve the source image's camera intrinsics\n",
    "    fx, fy = source_intrinsics[\"fx\"], source_intrinsics[\"fy\"]\n",
    "    cx, cy = source_intrinsics[\"cx\"], source_intrinsics[\"cy\"]\n",
    "    # distortion_coeffs = source_intrinsics['distortion_coeffs']\n",
    "\n",
    "    # Compute the transformed camera intrinsics\n",
    "    transformed_fx = transformation_matrix[0, 0] * fx + transformation_matrix[0, 2] * cx\n",
    "    transformed_fy = transformation_matrix[1, 1] * fy + transformation_matrix[1, 2] * cy\n",
    "    transformed_cx = transformation_matrix[0, 2] * fx + transformation_matrix[0, 2] * cx\n",
    "    transformed_cy = transformation_matrix[1, 2] * fy + transformation_matrix[1, 2] * cy\n",
    "\n",
    "    transformed_intrinsics = {\n",
    "        \"fx\": transformed_fx,\n",
    "        \"fy\": transformed_fy,\n",
    "        \"cx\": transformed_cx,\n",
    "        \"cy\": transformed_cy,\n",
    "        #'distortion_coeffs': distortion_coeffs\n",
    "    }\n",
    "\n",
    "    print(\"Transformed camera intrinsics: \", transformed_intrinsics)\n",
    "\n",
    "    # Rectify the source image\n",
    "    mapx, mapy = cv2.initUndistortRectifyMap(\n",
    "        cameraMatrix=np.array([[fx, 0, cx], [0, fy, cy], [0, 0, 1]]),\n",
    "        distCoeffs=None,\n",
    "        R=transformation_matrix[:, :3],\n",
    "        newCameraMatrix=np.array(\n",
    "            [\n",
    "                [transformed_fx, 0, transformed_cx],\n",
    "                [0, transformed_fy, transformed_cy],\n",
    "                [0, 0, 1],\n",
    "            ]\n",
    "        ),\n",
    "        size=(img.shape[1], img.shape[0]),\n",
    "        m1type=cv2.CV_32FC1,\n",
    "    )\n",
    "\n",
    "    rectified_img = cv2.remap(img, mapx, mapy, cv2.INTER_LINEAR)\n",
    "\n",
    "    return rectified_img, transformed_intrinsics\n",
    "\n",
    "\n",
    "# Example usage\n",
    "\n",
    "# Source image path\n",
    "source_image = \"../data/processed/\" + sample + \"/Input_RGBImage.png\"\n",
    "\n",
    "# Source image camera intrinsics\n",
    "source_intrinsics = {\n",
    "    \"fx\": 500.0,\n",
    "    \"fy\": 500.0,\n",
    "    \"cx\": 320.0,\n",
    "    \"cy\": 240.0,\n",
    "    #'distortion_coeffs': [1.0, 0.0, 0.0, 0.0, 0.0]\n",
    "}\n",
    "\n",
    "# Target image camera intrinsics\n",
    "target_intrinsics = {\n",
    "    \"fx\": 500.0,\n",
    "    \"fy\": 500.0,\n",
    "    \"cx\": 320.0,\n",
    "    \"cy\": 240.0,\n",
    "    #'distortion_coeffs': [1.0, 0.0, 0.0, 0.0, 0.0]\n",
    "}\n",
    "\n",
    "# Transformation matrix representing the mapping between source and target intrinsics\n",
    "transformation_matrix = np.array(\n",
    "    [\n",
    "        [target_intrinsics[\"fx\"] / source_intrinsics[\"fx\"], 0, 0],\n",
    "        [0, target_intrinsics[\"fy\"] / source_intrinsics[\"fy\"], 0],\n",
    "        [0, 0, 1],\n",
    "    ]\n",
    ")\n",
    "\n",
    "# Rectify the image using camera intrinsics\n",
    "rectified_image, rectified_intrinsics = rectify_image(\n",
    "    source_image, source_intrinsics, target_intrinsics, transformation_matrix\n",
    ")\n",
    "\n",
    "# print rectified camera intrinsics\n",
    "print(\"Rectified camera intrinsics: \", rectified_intrinsics)\n",
    "\n",
    "# print shape of rectified image\n",
    "print(\"Rectified image shape: \", rectified_image.shape)\n",
    "# save rectified image\n",
    "cv2.imwrite(\"../output/Input_RGBImage_rectified.png\", rectified_image)\n",
    "\n",
    "# Display the rectified image\n",
    "cv2.imshow(\"Rectified Image\", rectified_image)\n",
    "cv2.waitKey(0)\n",
    "cv2.destroyAllWindows()"
   ]
  },
  {
   "cell_type": "code",
   "execution_count": 36,
   "metadata": {},
   "outputs": [],
   "source": [
    "import cv2\n",
    "import numpy as np\n",
    "\n",
    "\n",
    "def align_intrinsics(input_image, input_intrinsics, desired_intrinsics):\n",
    "    # Load the input image\n",
    "    image = cv2.imread(input_image)\n",
    "\n",
    "    # Extract the input intrinsics\n",
    "    fx, fy = input_intrinsics[\"fx\"], input_intrinsics[\"fy\"]\n",
    "    cx, cy = input_intrinsics[\"cx\"], input_intrinsics[\"cy\"]\n",
    "\n",
    "    # Extract the desired intrinsics\n",
    "    desired_fx, desired_fy = desired_intrinsics[\"fx\"], desired_intrinsics[\"fy\"]\n",
    "    desired_cx, desired_cy = desired_intrinsics[\"cx\"], desired_intrinsics[\"cy\"]\n",
    "\n",
    "    # Compute the scale factors\n",
    "    scale_x = desired_fx / fx\n",
    "    scale_y = desired_fy / fy\n",
    "\n",
    "    # Compute the translation offsets\n",
    "    tx = (desired_cx - cx) * scale_x\n",
    "    ty = (desired_cy - cy) * scale_y\n",
    "\n",
    "    # Generate the transformation matrix\n",
    "    transformation_matrix = np.array([[scale_x, 0, tx], [0, scale_y, ty], [0, 0, 1]])\n",
    "\n",
    "    # Apply the transformation to the image\n",
    "    aligned_image = cv2.warpPerspective(\n",
    "        image, transformation_matrix, (image.shape[1], image.shape[0])\n",
    "    )\n",
    "\n",
    "    return aligned_image\n",
    "\n",
    "\n",
    "# Example usage\n",
    "input_image_path = \"../data/processed/\" + sample + \"/Input_RGBImage.png\"\n",
    "input_intrinsics = {\"fx\": 912.37, \"fy\": 911, \"cx\": 637, \"cy\": 359}\n",
    "desired_intrinsics = {\"fx\": 914, \"fy\": 1000, \"cx\": 640, \"cy\": 361}\n",
    "\n",
    "aligned_image = align_intrinsics(input_image_path, input_intrinsics, desired_intrinsics)\n",
    "\n",
    "# Display the aligned image\n",
    "cv2.imshow(\"Aligned Image\", aligned_image)\n",
    "cv2.waitKey(0)\n",
    "cv2.destroyAllWindows()"
   ]
  }
 ],
 "metadata": {
  "kernelspec": {
   "display_name": "thesis",
   "language": "python",
   "name": "python3"
  },
  "language_info": {
   "codemirror_mode": {
    "name": "ipython",
    "version": 3
   },
   "file_extension": ".py",
   "mimetype": "text/x-python",
   "name": "python",
   "nbconvert_exporter": "python",
   "pygments_lexer": "ipython3",
   "version": "3.9.16"
  },
  "orig_nbformat": 4
 },
 "nbformat": 4,
 "nbformat_minor": 2
}
