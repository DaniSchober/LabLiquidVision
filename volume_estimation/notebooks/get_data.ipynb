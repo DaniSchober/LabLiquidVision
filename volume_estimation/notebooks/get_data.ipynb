{
 "cells": [
  {
   "cell_type": "code",
   "execution_count": 60,
   "metadata": {},
   "outputs": [],
   "source": [
    "from src.data.dataloader import VesselCaptureDataset\n",
    "from tqdm import tqdm\n",
    "from torch.utils.data import DataLoader"
   ]
  },
  {
   "cell_type": "code",
   "execution_count": 61,
   "metadata": {},
   "outputs": [],
   "source": [
    "data_dir = \"Captured_images/\"\n",
    "dataset = VesselCaptureDataset(data_dir)"
   ]
  },
  {
   "cell_type": "code",
   "execution_count": 62,
   "metadata": {},
   "outputs": [],
   "source": [
    "batch_size = 2\n",
    "dataloader = DataLoader(dataset, batch_size=batch_size, shuffle=True)"
   ]
  },
  {
   "cell_type": "code",
   "execution_count": 63,
   "metadata": {},
   "outputs": [
    {
     "name": "stdout",
     "output_type": "stream",
     "text": [
      "['seace', 'seace']\n",
      "tensor([768, 123])\n",
      "['seace', 'seace']\n",
      "tensor([443, 345])\n",
      "['trz1', 'seace']\n",
      "tensor([100,  53])\n",
      "['seace', 'seace']\n",
      "tensor([234,  12])\n"
     ]
    }
   ],
   "source": [
    "for batch in dataloader:\n",
    "    color_images = batch[\"color_image\"]\n",
    "    depth_images = batch[\"depth_image\"]\n",
    "    vol_liquids = batch[\"vol_liquid\"]\n",
    "    vessel_names = batch[\"vessel_name\"]\n",
    "    vol_vessels = batch[\"vol_vessel\"]\n",
    "\n",
    "    # Do something with the data\n",
    "    print(vessel_names)\n",
    "    print(vol_liquids)"
   ]
  },
  {
   "cell_type": "code",
   "execution_count": 64,
   "metadata": {},
   "outputs": [],
   "source": [
    "import torch\n",
    "import torch.nn as nn\n",
    "from torch.utils.data import DataLoader\n",
    "import torch.nn.functional as F\n",
    "\n",
    "\n",
    "# Define the neural network architecture\n",
    "class VesselNet(nn.Module):\n",
    "    def __init__(self):\n",
    "        super(VesselNet, self).__init__()\n",
    "\n",
    "        self.conv1 = nn.Conv2d(in_channels=1, out_channels=32, kernel_size=5, padding=2)\n",
    "        self.conv2 = nn.Conv2d(\n",
    "            in_channels=32, out_channels=64, kernel_size=5, padding=2\n",
    "        )\n",
    "        self.conv3 = nn.Conv2d(\n",
    "            in_channels=64, out_channels=128, kernel_size=5, padding=2\n",
    "        )\n",
    "\n",
    "        self.fc1 = nn.Linear(in_features=128 * 4800, out_features=1024)\n",
    "        self.fc2 = nn.Linear(in_features=1024, out_features=512)\n",
    "        self.fc3 = nn.Linear(in_features=512, out_features=2)\n",
    "\n",
    "    def forward(self, depth_image):\n",
    "        x = depth_image.unsqueeze(1)  # add channel dimension\n",
    "        x = F.relu(self.conv1(x))\n",
    "        x = F.max_pool2d(x, kernel_size=2)\n",
    "        x = F.relu(self.conv2(x))\n",
    "        x = F.max_pool2d(x, kernel_size=2)\n",
    "        x = F.relu(self.conv3(x))\n",
    "        x = F.max_pool2d(x, kernel_size=2)\n",
    "        # print(x.shape)\n",
    "        x = x.view(-1, 128 * 4800)\n",
    "        # print(x.shape)\n",
    "        x = F.relu(self.fc1(x))\n",
    "        x = F.relu(self.fc2(x))\n",
    "        x = self.fc3(x)\n",
    "        # print(x.shape)\n",
    "\n",
    "        return x"
   ]
  },
  {
   "cell_type": "code",
   "execution_count": 65,
   "metadata": {},
   "outputs": [],
   "source": [
    "# Define the training loop\n",
    "def train(model, criterion, optimizer, train_loader):\n",
    "    model.train()\n",
    "\n",
    "    # Wrap train_loader with tqdm for a progress bar\n",
    "    progress_bar = tqdm(train_loader, desc=\"Training\")\n",
    "\n",
    "    for i, data in enumerate(progress_bar):\n",
    "        inputs = data[\"depth_image\"]\n",
    "        targets = torch.stack([data[\"vol_liquid\"], data[\"vol_vessel\"]], dim=1)\n",
    "        targets = targets.float()\n",
    "\n",
    "        optimizer.zero_grad()\n",
    "        outputs = model(inputs)\n",
    "\n",
    "        loss = criterion(outputs, targets)\n",
    "        loss.backward()\n",
    "        optimizer.step()\n",
    "\n",
    "        # Update progress bar\n",
    "        progress_bar.set_postfix({\"loss\": loss.item()})"
   ]
  },
  {
   "cell_type": "code",
   "execution_count": 66,
   "metadata": {},
   "outputs": [],
   "source": [
    "from sklearn.model_selection import train_test_split\n",
    "\n",
    "# Load the dataset\n",
    "dataset = VesselCaptureDataset(data_dir)\n",
    "\n",
    "# Split the dataset into training and test data\n",
    "train_data, test_data = train_test_split(dataset, test_size=0.2, random_state=42)\n",
    "\n",
    "# Set up the data loader and training parameters for the training data\n",
    "train_loader = DataLoader(train_data, batch_size=batch_size, shuffle=True)\n",
    "train_size = len(train_data)\n",
    "\n",
    "# Set up the data loader and training parameters for the test data\n",
    "test_loader = DataLoader(test_data, batch_size=batch_size, shuffle=True)\n",
    "test_size = len(test_data)"
   ]
  },
  {
   "cell_type": "code",
   "execution_count": 67,
   "metadata": {},
   "outputs": [
    {
     "name": "stderr",
     "output_type": "stream",
     "text": [
      "Training: 100%|██████████| 3/3 [00:13<00:00,  4.38s/it, loss=8.03e+6]\n",
      "Training: 100%|██████████| 3/3 [00:11<00:00,  3.85s/it, loss=3.28e+4]\n",
      "Training: 100%|██████████| 3/3 [00:11<00:00,  3.86s/it, loss=1.42e+4]\n",
      "Training: 100%|██████████| 3/3 [00:11<00:00,  3.95s/it, loss=8.03e+3]\n",
      "Training: 100%|██████████| 3/3 [00:12<00:00,  4.05s/it, loss=5.16e+3]\n",
      "Training: 100%|██████████| 3/3 [00:11<00:00,  3.91s/it, loss=2.19e+3]\n",
      "Training: 100%|██████████| 3/3 [00:12<00:00,  4.10s/it, loss=2.05e+4]\n",
      "Training: 100%|██████████| 3/3 [00:12<00:00,  4.09s/it, loss=678]    \n",
      "Training: 100%|██████████| 3/3 [00:12<00:00,  4.17s/it, loss=3.42e+3]\n",
      "Training: 100%|██████████| 3/3 [00:12<00:00,  4.30s/it, loss=1.05e+4]\n"
     ]
    }
   ],
   "source": [
    "model = VesselNet()\n",
    "criterion = nn.MSELoss()\n",
    "optimizer = torch.optim.Adam(model.parameters(), lr=learning_rate)\n",
    "\n",
    "# Train the model\n",
    "for epoch in range(num_epochs):\n",
    "    # print(f'Epoch {epoch + 1}/{num_epochs}')\n",
    "    train(model, criterion, optimizer, train_loader)\n",
    "\n",
    "# Save the trained model\n",
    "torch.save(model.state_dict(), \"vessel_net.pth\")"
   ]
  }
 ],
 "metadata": {
  "kernelspec": {
   "display_name": "Python 3",
   "language": "python",
   "name": "python3"
  },
  "language_info": {
   "codemirror_mode": {
    "name": "ipython",
    "version": 3
   },
   "file_extension": ".py",
   "mimetype": "text/x-python",
   "name": "python",
   "nbconvert_exporter": "python",
   "pygments_lexer": "ipython3",
   "version": "3.10.0"
  },
  "orig_nbformat": 4
 },
 "nbformat": 4,
 "nbformat_minor": 2
}
