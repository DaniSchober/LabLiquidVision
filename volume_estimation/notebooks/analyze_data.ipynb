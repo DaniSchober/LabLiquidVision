{
 "cells": [
  {
   "attachments": {},
   "cell_type": "markdown",
   "metadata": {},
   "source": [
    "### File to analyze the self created dataset"
   ]
  },
  {
   "cell_type": "code",
   "execution_count": null,
   "metadata": {},
   "outputs": [],
   "source": [
    "from src.data.dataloader import VesselCaptureDataset\n",
    "from torch.utils.data import DataLoader\n",
    "import matplotlib.pyplot as plt\n",
    "import numpy as np\n",
    "import matplotlib\n",
    "\n",
    "# Set font and fontsize globally\n",
    "matplotlib.rcParams[\"font.family\"] = \"Arial\"\n",
    "matplotlib.rcParams[\"font.size\"] = 11"
   ]
  },
  {
   "cell_type": "code",
   "execution_count": null,
   "metadata": {},
   "outputs": [],
   "source": [
    "data_dir = \"data/processed\"\n",
    "dataset = VesselCaptureDataset(data_dir)"
   ]
  },
  {
   "cell_type": "code",
   "execution_count": null,
   "metadata": {},
   "outputs": [],
   "source": [
    "print(\"Number of samples:\", len(dataset))"
   ]
  },
  {
   "cell_type": "code",
   "execution_count": null,
   "metadata": {},
   "outputs": [],
   "source": [
    "data_loader = DataLoader(dataset, batch_size=1, shuffle=True)"
   ]
  },
  {
   "cell_type": "code",
   "execution_count": null,
   "metadata": {},
   "outputs": [],
   "source": [
    "# get average of all vessel volumes\n",
    "vessel_vol_sum = 0\n",
    "liquid_vol_sum = 0\n",
    "vessel_vol_list = []\n",
    "liquid_vol_list = []\n",
    "\n",
    "for i, data in enumerate(data_loader):\n",
    "    vessel_vol = data[\"vol_vessel\"]\n",
    "    # store value for each sample for histogram\n",
    "    vessel_vol_list.append(vessel_vol.item())\n",
    "    vessel_vol_sum += vessel_vol.item()\n",
    "    liquid_vol = data[\"vol_liquid\"]\n",
    "    # store value for each sample for histogram\n",
    "    liquid_vol_list.append(liquid_vol.item())\n",
    "    liquid_vol_sum += liquid_vol.item()\n",
    "\n",
    "vessel_vol_avg = vessel_vol_sum / len(dataset)\n",
    "liquid_vol_avg = liquid_vol_sum / len(dataset)\n",
    "\n",
    "# print results with 2 decimal places\n",
    "print(\"Average vessel volume:\", \"{:.2f}\".format(vessel_vol_avg))\n",
    "print(\"Average liquid volume:\", \"{:.2f}\".format(liquid_vol_avg))\n",
    "\n",
    "# plot histogram of vessel volumes\n",
    "plt.figure(figsize=(6.3, 5))\n",
    "plt.hist(vessel_vol_list, bins=20)\n",
    "plt.title(\"Histogram of vessel volumes\")\n",
    "plt.xlabel(\"Vessel volume (mL)\")\n",
    "plt.ylabel(\"Frequency\")\n",
    "plt.show()\n",
    "\n",
    "# plot histogram of liquid volumes\n",
    "plt.figure(figsize=(6.3, 5))\n",
    "plt.hist(liquid_vol_list, bins=40)\n",
    "plt.title(\"Histogram of Liquid Volumes in the Dataset\")\n",
    "plt.xlabel(\"Liquid volume (mL)\")\n",
    "plt.ylabel(\"Frequency\")\n",
    "plt.tight_layout()\n",
    "plt.savefig(\"output/histogram_liquid_volume.png\", format=\"png\", dpi=600)\n",
    "plt.show()"
   ]
  },
  {
   "cell_type": "code",
   "execution_count": null,
   "metadata": {},
   "outputs": [],
   "source": [
    "from collections import Counter\n",
    "\n",
    "vessel_names = []\n",
    "for i, data in enumerate(data_loader):\n",
    "    vessel_name = data[\"vessel_name\"]\n",
    "    vessel_names.append(str(vessel_name))\n",
    "    # print(vessel_names)\n",
    "\n",
    "# Count the occurrences of each vessel name\n",
    "name_counts = Counter(vessel_names)\n",
    "\n",
    "# Extract unique vessel names and their counts\n",
    "unique_vessel_names = [\n",
    "    name[2:-2] for name in name_counts.keys()\n",
    "]  # Remove brackets and quotes\n",
    "vessel_name_counts = list(name_counts.values())\n",
    "\n",
    "# Plot histogram of vessel names\n",
    "# bar without brackets for names\n",
    "plt.figure(figsize=(6.3, 5))\n",
    "plt.bar(unique_vessel_names, vessel_name_counts)\n",
    "plt.title(\"Histogram of the Number of Images per Vessel in the Dataset\")\n",
    "plt.xlabel(\"Vessel\")\n",
    "plt.ylabel(\"Frequency\")\n",
    "plt.tight_layout()\n",
    "plt.xticks(rotation=90)\n",
    "plt.savefig(\"output/histogram_vessel_names.png\", format=\"png\", dpi=1200)\n",
    "plt.show()"
   ]
  },
  {
   "cell_type": "code",
   "execution_count": null,
   "metadata": {},
   "outputs": [],
   "source": []
  },
  {
   "cell_type": "code",
   "execution_count": null,
   "metadata": {},
   "outputs": [],
   "source": [
    "# visualize vessel depth image\n",
    "plt.imshow(vessel_depth)"
   ]
  },
  {
   "cell_type": "code",
   "execution_count": null,
   "metadata": {},
   "outputs": [],
   "source": [
    "# resize vessel depth image\n",
    "# vessel_depth = vessel_depth[::3, ::3]\n",
    "\n",
    "# visualize resized vessel depth image\n",
    "# plt.imshow(vessel_depth)"
   ]
  },
  {
   "cell_type": "code",
   "execution_count": null,
   "metadata": {},
   "outputs": [],
   "source": [
    "# find mean of all vessel depth images in the dataset\n",
    "vessel_depth_sum = 0\n",
    "\n",
    "for i, data in enumerate(data_loader):\n",
    "    vessel_depth = data[\"vessel_depth\"]\n",
    "    vessel_depth_sum += vessel_depth.sum() / vessel_depth.numel()\n",
    "\n",
    "vessel_depth_avg = vessel_depth_sum / len(dataset)\n",
    "\n",
    "# calculate std of all vessel depth images in the dataset\n",
    "vessel_depth_std_sum = 0\n",
    "for i, data in enumerate(data_loader):\n",
    "    vessel_depth = data[\"vessel_depth\"]\n",
    "    vessel_depth_std_sum += (vessel_depth - vessel_depth_avg) ** 2\n",
    "\n",
    "vessel_depth_std = (vessel_depth_std_sum / len(dataset)) ** 0.5\n",
    "\n",
    "\n",
    "# print results with 2 decimal places\n",
    "print(\"Average vessel depth:\", \"{:.2f}\".format(vessel_depth_avg))\n",
    "print(\"Std of vessel depth:\", \"{:.2f}\".format(vessel_depth_std))"
   ]
  },
  {
   "cell_type": "code",
   "execution_count": null,
   "metadata": {},
   "outputs": [],
   "source": [
    "# same for liquid depth\n",
    "liquid_depth_sum = 0\n",
    "for i, data in enumerate(data_loader):\n",
    "    liquid_depth = data[\"liquid_depth\"]\n",
    "    liquid_depth_sum += liquid_depth.sum() / liquid_depth.numel()\n",
    "\n",
    "liquid_depth_avg = liquid_depth_sum / len(dataset)\n",
    "\n",
    "# print results with 2 decimal places\n",
    "print(\"Average liquid depth:\", \"{:.2f}\".format(liquid_depth_avg))"
   ]
  },
  {
   "cell_type": "code",
   "execution_count": null,
   "metadata": {},
   "outputs": [],
   "source": []
  },
  {
   "cell_type": "code",
   "execution_count": null,
   "metadata": {},
   "outputs": [],
   "source": [
    "# visualize depth map\n",
    "plt.imshow(depth_map)"
   ]
  },
  {
   "attachments": {},
   "cell_type": "markdown",
   "metadata": {},
   "source": [
    "# Load data from processed folder"
   ]
  },
  {
   "cell_type": "code",
   "execution_count": null,
   "metadata": {},
   "outputs": [],
   "source": [
    "# load content depth map\n",
    "content_depth = np.load(\n",
    "    \"data/processed/Cell_Flask_400mL_570ml_2404_1737/Input_ContentDepth_segmented.npy\"\n",
    ").astype(np.float32)\n",
    "\n",
    "# load segmentation mask for content depth map\n",
    "content_mask = np.load(\n",
    "    \"data/processed/Cell_Flask_400mL_570ml_2404_1737/Input_ContentMaskClean.npy\"\n",
    ").astype(np.float32)\n",
    "\n",
    "depth_map = np.load(\n",
    "    \"data/processed/Cell_Flask_400mL_570ml_2404_1737/Input_DepthMap.npy\"\n",
    ").astype(np.float32)\n",
    "\n",
    "vessel_depth_path = \"data/processed/Cell_Flask_400mL_570ml_2404_1737/Input_EmptyVessel_Depth_segmented.npy\"\n",
    "vessel_depth = np.load(vessel_depth_path).astype(np.float32)\n",
    "\n",
    "vessel_mask = np.load(\n",
    "    \"data/processed/Cell_Flask_400mL_570ml_2404_1737/Input_VesselMask.npy\"\n",
    ").astype(np.float32)"
   ]
  },
  {
   "cell_type": "code",
   "execution_count": null,
   "metadata": {},
   "outputs": [],
   "source": [
    "# multiply depth map with content mask\n",
    "content_depth_masked = depth_map * content_mask\n",
    "\n",
    "# multiply depth map with vessel mask\n",
    "vessel_depth_masked = depth_map * vessel_mask"
   ]
  },
  {
   "cell_type": "code",
   "execution_count": null,
   "metadata": {},
   "outputs": [],
   "source": [
    "# copy depth map for visualization\n",
    "tmIm = vessel_depth_masked.copy()\n",
    "# squeeze depth map\n",
    "tmIm = tmIm.squeeze()\n",
    "\n",
    "# normalize tmIm to values between 0-255\n",
    "\n",
    "# if value is above 500, set to 500\n",
    "# tmIm[tmIm > 400] = 400\n",
    "#\n",
    "# find min and max values for non zero values\n",
    "min = tmIm[tmIm != 0].min()\n",
    "max = tmIm[tmIm != 0].max()\n",
    "\n",
    "print(\"Min:\", min)\n",
    "print(\"Max:\", max)\n",
    "\n",
    "# normalize non zero values to 0-255\n",
    "tmIm[tmIm != 0] = (tmIm[tmIm != 0] - min) / (max - min) * 255\n",
    "\n",
    "# visualize depth map\n",
    "plt.figure(figsize=(6.3, 5))\n",
    "plt.tight_layout()\n",
    "plt.imshow(tmIm, cmap=\"CMRmap\")\n",
    "# turn off axis\n",
    "plt.axis(\"off\")\n",
    "# no whitespace around image\n",
    "plt.subplots_adjust(left=0, right=1, top=1, bottom=0)\n",
    "\n",
    "plt.savefig(\n",
    "    \"../segmentation_and_depth/output/411D/depth_map_vessel2.png\", format=\"png\", dpi=600\n",
    ")"
   ]
  },
  {
   "cell_type": "code",
   "execution_count": null,
   "metadata": {},
   "outputs": [],
   "source": [
    "# copy depth map for visualization\n",
    "tmIm = content_depth_masked.copy()\n",
    "# squeeze depth map\n",
    "tmIm = tmIm.squeeze()\n",
    "\n",
    "# normalize tmIm to values between 0-255\n",
    "\n",
    "# if value is above 500, set to 500\n",
    "# tmIm[tmIm > 400] = 400\n",
    "#\n",
    "# find min and max values for non zero values\n",
    "min = tmIm[tmIm != 0].min()\n",
    "max = tmIm[tmIm != 0].max()\n",
    "\n",
    "print(\"Min:\", min)\n",
    "print(\"Max:\", max)\n",
    "\n",
    "# normalize non zero values to 0-255\n",
    "tmIm[tmIm != 0] = (tmIm[tmIm != 0] - min) / (max - min) * 255\n",
    "\n",
    "# visualize depth map\n",
    "plt.figure(figsize=(6.3, 5))\n",
    "plt.tight_layout()\n",
    "plt.imshow(tmIm, cmap=\"CMRmap\")\n",
    "# turn off axis\n",
    "plt.axis(\"off\")\n",
    "# no whitespace around image\n",
    "plt.subplots_adjust(left=0, right=1, top=1, bottom=0)\n",
    "\n",
    "plt.savefig(\n",
    "    \"../segmentation_and_depth/output/411D/depth_map_liquid2.png\", format=\"png\", dpi=600\n",
    ")"
   ]
  },
  {
   "cell_type": "code",
   "execution_count": null,
   "metadata": {},
   "outputs": [],
   "source": [
    "# copy depth map for visualization\n",
    "tmIm = vessel_depth.copy()\n",
    "# squeeze depth map\n",
    "tmIm = tmIm.squeeze()\n",
    "\n",
    "# normalize tmIm to values between 0-255\n",
    "\n",
    "# find min and max values for non zero values\n",
    "min = tmIm[tmIm != 0].min()\n",
    "max = tmIm[tmIm != 0].max()\n",
    "\n",
    "# normalize non zero values to 0-255\n",
    "tmIm[tmIm != 0] = (tmIm[tmIm != 0] - min) / (max - min) * 255\n",
    "\n",
    "# visualize depth map\n",
    "plt.figure(figsize=(6.3, 5))\n",
    "plt.tight_layout()\n",
    "plt.imshow(tmIm, cmap=\"CMRmap\")\n",
    "\n",
    "# turn off axis\n",
    "plt.axis(\"off\")\n",
    "# no whitespace around image\n",
    "plt.subplots_adjust(left=0, right=1, top=1, bottom=0)\n",
    "\n",
    "plt.savefig(\n",
    "    \"../segmentation_and_depth/output/411D/predicted_depth_map_vessel2.png\",\n",
    "    format=\"png\",\n",
    "    dpi=600,\n",
    ")"
   ]
  },
  {
   "cell_type": "code",
   "execution_count": null,
   "metadata": {},
   "outputs": [],
   "source": [
    "# copy depth map for visualization\n",
    "tmIm = content_depth.copy()\n",
    "# squeeze depth map\n",
    "tmIm = tmIm.squeeze()\n",
    "\n",
    "# normalize tmIm to values between 0-255\n",
    "\n",
    "# find min and max values for non zero values\n",
    "min = tmIm[tmIm != 0].min()\n",
    "max = tmIm[tmIm != 0].max()\n",
    "\n",
    "# normalize non zero values to 0-255\n",
    "tmIm[tmIm != 0] = (tmIm[tmIm != 0] - min) / (max - min) * 255\n",
    "\n",
    "# visualize depth map\n",
    "plt.figure(figsize=(6.3, 5))\n",
    "plt.tight_layout()\n",
    "plt.imshow(tmIm, cmap=\"CMRmap\")\n",
    "\n",
    "# turn off axis\n",
    "plt.axis(\"off\")\n",
    "# no whitespace around image\n",
    "plt.subplots_adjust(left=0, right=1, top=1, bottom=0)\n",
    "\n",
    "plt.savefig(\n",
    "    \"../segmentation_and_depth/output/411D/predicted_depth_map_liquid2.png\",\n",
    "    format=\"png\",\n",
    "    dpi=600,\n",
    ")"
   ]
  },
  {
   "cell_type": "code",
   "execution_count": null,
   "metadata": {},
   "outputs": [],
   "source": [
    "# copy depth map for visualization\n",
    "tmIm = content_depth.copy()\n",
    "# squeeze depth map\n",
    "tmIm = tmIm.squeeze()\n",
    "\n",
    "# normalize tmIm to values between 0-255\n",
    "\n",
    "# find min and max values for non zero values\n",
    "min = tmIm[tmIm != 0].min()\n",
    "max = tmIm[tmIm != 0].max()\n",
    "\n",
    "# normalize non zero values to 0-255\n",
    "tmIm[tmIm != 0] = (tmIm[tmIm != 0] - min) / (max - min) * 255\n",
    "\n",
    "# visualize depth map\n",
    "plt.imshow(tmIm, cmap=\"CMRmap\")\n",
    "# turn off axis\n",
    "plt.axis(\"off\")"
   ]
  },
  {
   "cell_type": "code",
   "execution_count": null,
   "metadata": {},
   "outputs": [],
   "source": [
    "depth_map.mean()"
   ]
  },
  {
   "cell_type": "code",
   "execution_count": null,
   "metadata": {},
   "outputs": [],
   "source": [
    "# multiply content depth map with depth map\n",
    "content_depth = content_depth * depth_map"
   ]
  },
  {
   "cell_type": "code",
   "execution_count": null,
   "metadata": {},
   "outputs": [],
   "source": [
    "content_depth.shape"
   ]
  },
  {
   "cell_type": "code",
   "execution_count": null,
   "metadata": {},
   "outputs": [],
   "source": [
    "# visualize content depth map\n",
    "plt.imshow(content_depth)"
   ]
  },
  {
   "cell_type": "code",
   "execution_count": null,
   "metadata": {},
   "outputs": [],
   "source": [
    "# show histogram of values in depth map ignoring 0 values\n",
    "plt.hist(content_depth[content_depth != 0].flatten(), bins=100)\n",
    "plt.title(\"Histogram of content depth values\")"
   ]
  },
  {
   "cell_type": "code",
   "execution_count": null,
   "metadata": {},
   "outputs": [],
   "source": [
    "from collections import Counter\n",
    "import os\n",
    "\n",
    "folder_path = \"data/processed\"\n",
    "\n",
    "percentage_depth_mask_liquid_list = []\n",
    "percentage_depth_mask_vessel_list = []\n",
    "\n",
    "# iterate through all folders\n",
    "for folder in os.listdir(folder_path):\n",
    "    # if mask does not exist, skip folder\n",
    "    if not os.path.exists(\n",
    "        os.path.join(folder_path, folder, \"Input_ContentMaskClean.npy\")\n",
    "    ):\n",
    "        continue\n",
    "    if not os.path.exists(os.path.join(folder_path, folder, \"Input_VesselMask.npy\")):\n",
    "        continue\n",
    "    # load depth map\n",
    "    depth_map = np.load(os.path.join(folder_path, folder, \"Input_DepthMap.npy\")).astype(\n",
    "        np.float32\n",
    "    )\n",
    "\n",
    "    # load segmentation mask for content depth map\n",
    "    content_mask = np.load(\n",
    "        os.path.join(folder_path, folder, \"Input_ContentMaskClean.npy\")\n",
    "    ).astype(np.float32)\n",
    "\n",
    "    # load segmentation mask for vessel depth map\n",
    "    vessel_mask = np.load(\n",
    "        os.path.join(folder_path, folder, \"Input_VesselMask.npy\")\n",
    "    ).astype(np.float32)\n",
    "\n",
    "    # multiply depth map with content mask\n",
    "    content_depth_masked = depth_map * content_mask\n",
    "\n",
    "    # multiply depth map with vessel mask\n",
    "    vessel_depth_masked = depth_map * vessel_mask\n",
    "\n",
    "    # calculate percentage of pixels that are 0\n",
    "    content_depth_masked_zero = content_depth_masked[content_depth_masked == 0].size\n",
    "    content_depth_masked_non_zero = content_depth_masked[content_depth_masked != 0].size\n",
    "    vessel_depth_masked_zero = vessel_depth_masked[vessel_depth_masked == 0].size\n",
    "    vessel_depth_masked_non_zero = vessel_depth_masked[vessel_depth_masked != 0].size\n",
    "    vessel_mask_zero = vessel_mask[vessel_mask == 0].size\n",
    "    vessel_mask_non_zero = vessel_mask[vessel_mask != 0].size\n",
    "    content_mask_zero = content_mask[content_mask == 0].size\n",
    "    content_mask_non_zero = content_mask[content_mask != 0].size\n",
    "\n",
    "    if content_mask_non_zero == 0:\n",
    "        continue\n",
    "    if vessel_mask_non_zero == 0:\n",
    "        continue\n",
    "\n",
    "    # calculate percentage of pixels that are 0\n",
    "    percentage_depth_mask_liquid = (\n",
    "        (content_depth_masked_zero - content_mask_zero) / content_mask_non_zero * 100\n",
    "    )\n",
    "    percentage_depth_mask_vessel = (\n",
    "        (vessel_depth_masked_zero - vessel_mask_zero) / vessel_mask_non_zero * 100\n",
    "    )\n",
    "\n",
    "    # append percentage to list\n",
    "    percentage_depth_mask_liquid_list.append(percentage_depth_mask_liquid)\n",
    "    percentage_depth_mask_vessel_list.append(percentage_depth_mask_vessel)"
   ]
  },
  {
   "cell_type": "code",
   "execution_count": null,
   "metadata": {},
   "outputs": [],
   "source": [
    "# get average of percentages\n",
    "\n",
    "percentage_depth_mask_liquid_list = np.array(percentage_depth_mask_liquid_list)\n",
    "percentage_depth_mask_vessel_list = np.array(percentage_depth_mask_vessel_list)\n",
    "\n",
    "percentage_depth_mask_liquid_avg = percentage_depth_mask_liquid_list.mean()\n",
    "percentage_depth_mask_vessel_avg = percentage_depth_mask_vessel_list.mean()\n",
    "\n",
    "# print results with 2 decimal places\n",
    "print(\n",
    "    \"Average percentage of pixels that are 0 in content depth map:\",\n",
    "    \"{:.2f}\".format(percentage_depth_mask_liquid_avg),\n",
    ")\n",
    "print(\n",
    "    \"Average percentage of pixels that are 0 in vessel depth map:\",\n",
    "    \"{:.2f}\".format(percentage_depth_mask_vessel_avg),\n",
    ")"
   ]
  },
  {
   "cell_type": "code",
   "execution_count": null,
   "metadata": {},
   "outputs": [],
   "source": []
  }
 ],
 "metadata": {
  "kernelspec": {
   "display_name": "thesis",
   "language": "python",
   "name": "python3"
  },
  "language_info": {
   "codemirror_mode": {
    "name": "ipython",
    "version": 3
   },
   "file_extension": ".py",
   "mimetype": "text/x-python",
   "name": "python",
   "nbconvert_exporter": "python",
   "pygments_lexer": "ipython3",
   "version": "3.9.16"
  },
  "orig_nbformat": 4
 },
 "nbformat": 4,
 "nbformat_minor": 2
}
