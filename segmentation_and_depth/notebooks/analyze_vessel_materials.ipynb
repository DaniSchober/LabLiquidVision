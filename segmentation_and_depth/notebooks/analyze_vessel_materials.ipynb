{
 "cells": [
  {
   "cell_type": "code",
   "execution_count": 10,
   "metadata": {},
   "outputs": [],
   "source": [
    "import numpy as np\n",
    "import os\n",
    "import json"
   ]
  },
  {
   "cell_type": "code",
   "execution_count": 16,
   "metadata": {},
   "outputs": [
    {
     "name": "stdout",
     "output_type": "stream",
     "text": [
      "Glass: 11813\n",
      "Else: 0\n"
     ]
    }
   ],
   "source": [
    "# open every folder in data/interim\n",
    "\n",
    "parent_folder1 = \"../data/interim/TranProteus1/Training/LiquidContent\"\n",
    "parent_folder2 = \"../data/interim/TranProteus2/Training/LiquidContent\"\n",
    "parent_folder3 = \"../data/interim/TranProteus3/Training/LiquidContent\"\n",
    "parent_folder4 = \"../data/interim/TranProteus4/Training/LiquidContent\"\n",
    "parent_folder5 = \"../data/interim/TranProteus5/Training/LiquidContent\"\n",
    "parent_folder6 = \"../data/interim/TranProteus6/Training/LiquidContent\"\n",
    "parent_folder7 = \"../data/interim/TranProteus7/Training/LiquidContent\"\n",
    "parent_folder8 = \"../data/interim/TranProteus8/Training/LiquidContent\"\n",
    "\n",
    "\n",
    "count_glass = 0\n",
    "count_else = 0\n",
    "\n",
    "\n",
    "# Iterate over all entries in the parent folder\n",
    "\n",
    "for parent_folder in [\n",
    "    parent_folder1,\n",
    "    parent_folder2,\n",
    "    parent_folder3,\n",
    "    parent_folder4,\n",
    "    parent_folder5,\n",
    "    parent_folder6,\n",
    "    parent_folder7,\n",
    "    parent_folder8,\n",
    "]:\n",
    "    for entry in os.scandir(parent_folder):\n",
    "        if entry.is_dir():\n",
    "            folder_name = entry.name\n",
    "            folder_path = entry.path + \"/\"\n",
    "            # print(folder_path)\n",
    "\n",
    "            # load VesselMaterial.json from folder\n",
    "            vessel_material_path = os.path.join(folder_path, \"VesselMaterial.json\")\n",
    "            if not os.path.exists(vessel_material_path):\n",
    "                continue\n",
    "\n",
    "            # read VesselMaterial.json\n",
    "            with open(vessel_material_path) as f:\n",
    "                data = json.load(f)\n",
    "                material = data[\"Name\"]\n",
    "                if material == \"Glass\":\n",
    "                    count_glass += 1\n",
    "                else:\n",
    "                    count_else += 1\n",
    "\n",
    "print(\"Glass:\", count_glass)\n",
    "print(\"Else:\", count_else)"
   ]
  }
 ],
 "metadata": {
  "kernelspec": {
   "display_name": "thesis",
   "language": "python",
   "name": "python3"
  },
  "language_info": {
   "codemirror_mode": {
    "name": "ipython",
    "version": 3
   },
   "file_extension": ".py",
   "mimetype": "text/x-python",
   "name": "python",
   "nbconvert_exporter": "python",
   "pygments_lexer": "ipython3",
   "version": "3.9.16"
  },
  "orig_nbformat": 4
 },
 "nbformat": 4,
 "nbformat_minor": 2
}
