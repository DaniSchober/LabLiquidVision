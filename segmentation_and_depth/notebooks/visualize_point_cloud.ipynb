{
 "cells": [
  {
   "cell_type": "code",
   "execution_count": 2,
   "metadata": {},
   "outputs": [],
   "source": [
    "import numpy as np\n",
    "from scipy.spatial.transform import Rotation as R\n",
    "import open3d as o3d"
   ]
  },
  {
   "cell_type": "code",
   "execution_count": 3,
   "metadata": {},
   "outputs": [],
   "source": [
    "fx = 912.3776245117188\n",
    "fy = 911.2467651367188\n",
    "cx = 637.6239013671875\n",
    "cy = 359.3946533203125"
   ]
  },
  {
   "cell_type": "code",
   "execution_count": 4,
   "metadata": {},
   "outputs": [],
   "source": [
    "# get transformation matrix for depth map to xyz coordinates\n",
    "\n",
    "transformation_matrix = np.array(\n",
    "    [\n",
    "        [fx, 0, cx],\n",
    "        [0, fy, cy],\n",
    "        [0, 0, 1],\n",
    "    ]\n",
    ")"
   ]
  },
  {
   "cell_type": "code",
   "execution_count": 13,
   "metadata": {},
   "outputs": [],
   "source": [
    "# load depth map\n",
    "sample = \"Duran_250mL_80ml_1105_2559\"\n",
    "sample = \"Cell_Flask_400mL_414ml_0905_3539\"\n",
    "sample = \"Pyrex_100mL_45ml_1105_5713\"\n",
    "sample = \"Pyrex_100mL_95ml_0905_2157\"\n",
    "depth_map_vessel = np.load(\n",
    "    \"../../volume_estimation/data/processed/\"\n",
    "    + sample\n",
    "    + \"/Input_EmptyVessel_Depth_segmented.npy\"\n",
    ")\n",
    "depth_map_liquid = np.load(\n",
    "    \"../../volume_estimation/data/processed/\"\n",
    "    + sample\n",
    "    + \"/Input_ContentDepth_segmented.npy\"\n",
    ")\n",
    "img = np.load(\n",
    "    \"../../volume_estimation/data/processed/\" + sample + \"/Input_RGBImage.npy\"\n",
    ")\n",
    "\n",
    "# convert depth map from log to linear space\n",
    "depth_map_vessel = np.exp(depth_map_vessel)\n",
    "depth_map_liquid = np.exp(depth_map_liquid)\n",
    "\n",
    "# volume_estimation\\data\\processed\\Cell_Flask_400mL_414ml_0905_3539\n",
    "# volume_estimation\\data\\processed\\Pyrex_100mL_45ml_1105_5713\n",
    "# volume_estimation\\data\\processed\\Pyrex_100mL_95ml_0905_2157"
   ]
  },
  {
   "cell_type": "code",
   "execution_count": 14,
   "metadata": {},
   "outputs": [],
   "source": [
    "def depth_map_conversion(depth_map, camera_intrinsics):\n",
    "    # Get the intrinsic parameters\n",
    "    fx = camera_intrinsics[0][0]\n",
    "    fy = camera_intrinsics[1][1]\n",
    "    cx = camera_intrinsics[0][2]\n",
    "    cy = camera_intrinsics[1][2]\n",
    "    print(fx, fy, cx, cy)\n",
    "\n",
    "    # Create the meshgrid\n",
    "    rows, cols = depth_map.shape[:2]\n",
    "    print(rows, cols)\n",
    "    c, r = np.meshgrid(np.arange(cols), np.arange(rows), sparse=True)\n",
    "\n",
    "    # Calculate the 3D coordinates\n",
    "    x = (c - cx) * depth_map / fx\n",
    "    print(x.shape)\n",
    "    # value count in x\n",
    "    unique, counts = np.unique(x, return_counts=True)\n",
    "    print(dict(zip(unique, counts)))\n",
    "    y = (r - cy) * depth_map / fy\n",
    "    z = depth_map\n",
    "\n",
    "    # Stack the coordinates and return them\n",
    "    return x, y, z"
   ]
  },
  {
   "cell_type": "code",
   "execution_count": 15,
   "metadata": {},
   "outputs": [],
   "source": [
    "def Depth2XYZ(Img, DepthMap, transformation_matrix):\n",
    "    # M = K.intrinsic_matrix\n",
    "    M = transformation_matrix\n",
    "    height = DepthMap.shape[0]\n",
    "    width = DepthMap.shape[1]\n",
    "    GridY = np.array(list(range(height))) - height / 2\n",
    "    GridY = np.transpose(np.tile(GridY, (width, 1)))\n",
    "    GridX = np.array(list(range(width))) - width / 2\n",
    "    GridX = np.tile(GridX, (height, 1))\n",
    "    XYZ = np.zeros([height, width, 3], dtype=np.float32)\n",
    "    XYZ[:, :, 2] = DepthMap\n",
    "    XYZ[:, :, 1] = DepthMap * GridY / M[0, 0]\n",
    "    XYZ[:, :, 0] = DepthMap * GridX / M[1, 1]\n",
    "    ROI = (DepthMap > 1).astype(np.float32)\n",
    "    return XYZ, ROI, Img, DepthMap"
   ]
  },
  {
   "cell_type": "code",
   "execution_count": 21,
   "metadata": {},
   "outputs": [],
   "source": [
    "xyzMap, ROI, RGB, depth = Depth2XYZ(img, depth_map_vessel, transformation_matrix)\n",
    "xyzMap_liquid, ROI_liquid, RGB_liquid, depth_liquid = Depth2XYZ(\n",
    "    img, depth_map_liquid, transformation_matrix\n",
    ")"
   ]
  },
  {
   "cell_type": "code",
   "execution_count": 17,
   "metadata": {},
   "outputs": [],
   "source": [
    "def DisplayPointCloud(xyzMap, RGB, ROI, step=1):\n",
    "    NumPoints = int(xyzMap.shape[0] * xyzMap.shape[1] / step**2)\n",
    "    xyz = np.zeros([NumPoints, 3], np.float32)\n",
    "    colors = np.zeros([NumPoints, 3], np.float32)\n",
    "    tt = 0\n",
    "    for x in range(0, xyzMap.shape[1], step):\n",
    "        for y in range(0, xyzMap.shape[0], step):\n",
    "            if (ROI[y, x]) > 0 and tt < NumPoints:\n",
    "                xyz[tt] = xyzMap[y, x]\n",
    "                colors[tt] = RGB[y, x] / 255\n",
    "                tt += 1\n",
    "            # print(tt)\n",
    "    xyz = xyz[:tt, :]\n",
    "    colors = colors[:tt, :]\n",
    "    pcd = o3d.geometry.PointCloud()\n",
    "    pcd.points = o3d.utility.Vector3dVector(xyz)\n",
    "    pcd.colors = o3d.utility.Vector3dVector(colors)\n",
    "    o3d.visualization.draw_geometries([pcd])"
   ]
  },
  {
   "cell_type": "code",
   "execution_count": 19,
   "metadata": {},
   "outputs": [],
   "source": [
    "DisplayPointCloud(xyzMap, RGB, ROI, step=1)\n",
    "DisplayPointCloud(xyzMap_liquid, RGB_liquid, ROI_liquid, step=1)"
   ]
  },
  {
   "cell_type": "code",
   "execution_count": 22,
   "metadata": {},
   "outputs": [],
   "source": [
    "import open3d as o3d\n",
    "import numpy as np\n",
    "\n",
    "\n",
    "def DisplayPointCloud(xyzMap, RGB, ROI, step=1):\n",
    "    NumPoints = int(xyzMap.shape[0] * xyzMap.shape[1] / step**2)\n",
    "    xyz = np.zeros([NumPoints, 3], np.float32)\n",
    "    colors = np.zeros([NumPoints, 3], np.float32)\n",
    "    tt = 0\n",
    "    for x in range(0, xyzMap.shape[1], step):\n",
    "        for y in range(0, xyzMap.shape[0], step):\n",
    "            if ROI[y, x] > 0 and tt < NumPoints:\n",
    "                xyz[tt] = xyzMap[y, x]\n",
    "                colors[tt] = [0.5, 0.5, 0.5]  # Assign gray color\n",
    "                tt += 1\n",
    "    xyz = xyz[:tt, :]\n",
    "    colors = colors[:tt, :]\n",
    "    pcd = o3d.geometry.PointCloud()\n",
    "    pcd.points = o3d.utility.Vector3dVector(xyz)\n",
    "    pcd.colors = o3d.utility.Vector3dVector(colors)\n",
    "    o3d.visualization.draw_geometries([pcd])\n",
    "\n",
    "\n",
    "DisplayPointCloud(xyzMap, RGB, ROI)"
   ]
  },
  {
   "cell_type": "code",
   "execution_count": 23,
   "metadata": {},
   "outputs": [
    {
     "ename": "AttributeError",
     "evalue": "module 'open3d.visualization' has no attribute 'create_colormap'",
     "output_type": "error",
     "traceback": [
      "\u001b[1;31m---------------------------------------------------------------------------\u001b[0m",
      "\u001b[1;31mAttributeError\u001b[0m                            Traceback (most recent call last)",
      "Cell \u001b[1;32mIn[23], line 29\u001b[0m\n\u001b[0;32m     25\u001b[0m     pcd\u001b[39m.\u001b[39mcolors \u001b[39m=\u001b[39m o3d\u001b[39m.\u001b[39mutility\u001b[39m.\u001b[39mVector3dVector(colormap[colors[:, \u001b[39m0\u001b[39m], :])\n\u001b[0;32m     27\u001b[0m     o3d\u001b[39m.\u001b[39mvisualization\u001b[39m.\u001b[39mdraw_geometries([pcd])\n\u001b[1;32m---> 29\u001b[0m DisplayPointCloud(xyzMap, RGB, ROI)\n",
      "Cell \u001b[1;32mIn[23], line 22\u001b[0m, in \u001b[0;36mDisplayPointCloud\u001b[1;34m(xyzMap, RGB, ROI, step)\u001b[0m\n\u001b[0;32m     19\u001b[0m pcd\u001b[39m.\u001b[39mcolors \u001b[39m=\u001b[39m o3d\u001b[39m.\u001b[39mutility\u001b[39m.\u001b[39mVector3dVector(colors)\n\u001b[0;32m     21\u001b[0m \u001b[39m# Create a colormap similar to glass\u001b[39;00m\n\u001b[1;32m---> 22\u001b[0m colormap \u001b[39m=\u001b[39m o3d\u001b[39m.\u001b[39;49mvisualization\u001b[39m.\u001b[39;49mcreate_colormap(\u001b[39m'\u001b[39m\u001b[39mjet\u001b[39m\u001b[39m'\u001b[39m)\n\u001b[0;32m     24\u001b[0m \u001b[39m# Assign the colormap to the point cloud\u001b[39;00m\n\u001b[0;32m     25\u001b[0m pcd\u001b[39m.\u001b[39mcolors \u001b[39m=\u001b[39m o3d\u001b[39m.\u001b[39mutility\u001b[39m.\u001b[39mVector3dVector(colormap[colors[:, \u001b[39m0\u001b[39m], :])\n",
      "\u001b[1;31mAttributeError\u001b[0m: module 'open3d.visualization' has no attribute 'create_colormap'"
     ]
    }
   ],
   "source": [
    "import open3d as o3d\n",
    "import numpy as np\n",
    "\n",
    "\n",
    "def DisplayPointCloud(xyzMap, RGB, ROI, step=1):\n",
    "    NumPoints = int(xyzMap.shape[0] * xyzMap.shape[1] / step**2)\n",
    "    xyz = np.zeros([NumPoints, 3], np.float32)\n",
    "    colors = np.zeros([NumPoints, 3], np.float32)\n",
    "    tt = 0\n",
    "    for x in range(0, xyzMap.shape[1], step):\n",
    "        for y in range(0, xyzMap.shape[0], step):\n",
    "            if ROI[y, x] > 0 and tt < NumPoints:\n",
    "                xyz[tt] = xyzMap[y, x]\n",
    "                colors[tt] = RGB[y, x] / 255\n",
    "                tt += 1\n",
    "    xyz = xyz[:tt, :]\n",
    "    colors = colors[:tt, :]\n",
    "    pcd = o3d.geometry.PointCloud()\n",
    "    pcd.points = o3d.utility.Vector3dVector(xyz)\n",
    "    pcd.colors = o3d.utility.Vector3dVector(colors)\n",
    "\n",
    "    # Create a colormap similar to glass\n",
    "    colormap = o3d.visualization.create_colormap(\"jet\")\n",
    "\n",
    "    # Assign the colormap to the point cloud\n",
    "    pcd.colors = o3d.utility.Vector3dVector(colormap[colors[:, 0], :])\n",
    "\n",
    "    o3d.visualization.draw_geometries([pcd])\n",
    "\n",
    "\n",
    "DisplayPointCloud(xyzMap, RGB, ROI)"
   ]
  },
  {
   "cell_type": "code",
   "execution_count": null,
   "metadata": {},
   "outputs": [],
   "source": []
  }
 ],
 "metadata": {
  "kernelspec": {
   "display_name": "thesis",
   "language": "python",
   "name": "python3"
  },
  "language_info": {
   "codemirror_mode": {
    "name": "ipython",
    "version": 3
   },
   "file_extension": ".py",
   "mimetype": "text/x-python",
   "name": "python",
   "nbconvert_exporter": "python",
   "pygments_lexer": "ipython3",
   "version": "3.9.16"
  },
  "orig_nbformat": 4
 },
 "nbformat": 4,
 "nbformat_minor": 2
}
