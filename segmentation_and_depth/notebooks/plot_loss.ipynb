{
 "cells": [
  {
   "cell_type": "code",
   "execution_count": 1,
   "metadata": {},
   "outputs": [],
   "source": [
    "import matplotlib\n",
    "\n",
    "# Set font and fontsize globally\n",
    "matplotlib.rcParams['font.family'] = 'Arial'\n",
    "matplotlib.rcParams['font.size'] = 11"
   ]
  },
  {
   "cell_type": "code",
   "execution_count": 2,
   "metadata": {},
   "outputs": [
    {
     "ename": "FileNotFoundError",
     "evalue": "[Errno 2] No such file or directory: '../logs/TrainLoss_24032023-1638.txt'",
     "output_type": "error",
     "traceback": [
      "\u001b[0;31m---------------------------------------------------------------------------\u001b[0m",
      "\u001b[0;31mFileNotFoundError\u001b[0m                         Traceback (most recent call last)",
      "Cell \u001b[0;32mIn[2], line 15\u001b[0m\n\u001b[1;32m     12\u001b[0m y_vesselopeningmask \u001b[39m=\u001b[39m []\n\u001b[1;32m     14\u001b[0m \u001b[39m# read data from file\u001b[39;00m\n\u001b[0;32m---> 15\u001b[0m \u001b[39mwith\u001b[39;00m \u001b[39mopen\u001b[39;49m(\u001b[39m\"\u001b[39;49m\u001b[39m../logs/TrainLoss_24032023-1638.txt\u001b[39;49m\u001b[39m\"\u001b[39;49m) \u001b[39mas\u001b[39;00m f:\n\u001b[1;32m     16\u001b[0m     \u001b[39m# delete first line\u001b[39;00m\n\u001b[1;32m     17\u001b[0m     f\u001b[39m.\u001b[39mreadline()\n\u001b[1;32m     19\u001b[0m     \u001b[39mfor\u001b[39;00m line \u001b[39min\u001b[39;00m f:\n",
      "File \u001b[0;32m~/miniconda3/envs/my_environment/lib/python3.10/site-packages/IPython/core/interactiveshell.py:282\u001b[0m, in \u001b[0;36m_modified_open\u001b[0;34m(file, *args, **kwargs)\u001b[0m\n\u001b[1;32m    275\u001b[0m \u001b[39mif\u001b[39;00m file \u001b[39min\u001b[39;00m {\u001b[39m0\u001b[39m, \u001b[39m1\u001b[39m, \u001b[39m2\u001b[39m}:\n\u001b[1;32m    276\u001b[0m     \u001b[39mraise\u001b[39;00m \u001b[39mValueError\u001b[39;00m(\n\u001b[1;32m    277\u001b[0m         \u001b[39mf\u001b[39m\u001b[39m\"\u001b[39m\u001b[39mIPython won\u001b[39m\u001b[39m'\u001b[39m\u001b[39mt let you open fd=\u001b[39m\u001b[39m{\u001b[39;00mfile\u001b[39m}\u001b[39;00m\u001b[39m by default \u001b[39m\u001b[39m\"\u001b[39m\n\u001b[1;32m    278\u001b[0m         \u001b[39m\"\u001b[39m\u001b[39mas it is likely to crash IPython. If you know what you are doing, \u001b[39m\u001b[39m\"\u001b[39m\n\u001b[1;32m    279\u001b[0m         \u001b[39m\"\u001b[39m\u001b[39myou can use builtins\u001b[39m\u001b[39m'\u001b[39m\u001b[39m open.\u001b[39m\u001b[39m\"\u001b[39m\n\u001b[1;32m    280\u001b[0m     )\n\u001b[0;32m--> 282\u001b[0m \u001b[39mreturn\u001b[39;00m io_open(file, \u001b[39m*\u001b[39;49margs, \u001b[39m*\u001b[39;49m\u001b[39m*\u001b[39;49mkwargs)\n",
      "\u001b[0;31mFileNotFoundError\u001b[0m: [Errno 2] No such file or directory: '../logs/TrainLoss_24032023-1638.txt'"
     ]
    }
   ],
   "source": [
    "import matplotlib.pyplot as plt\n",
    "\n",
    "x = []  # epoch\n",
    "y_depth = []\n",
    "y_mask = []\n",
    "y_total = []\n",
    "y_emptyvessel_depth = []\n",
    "y_contentdepth = []\n",
    "y_vesselopening_depth = []\n",
    "y_vesselmask = []\n",
    "y_contentmaskclean = []\n",
    "y_vesselopeningmask = []\n",
    "\n",
    "# read data from file\n",
    "with open(\"../logs/TrainLoss_24032023-1638.txt\") as f:\n",
    "    # delete first line\n",
    "    f.readline()\n",
    "\n",
    "    for line in f:\n",
    "        fields = line.strip().split(\"\\t\")\n",
    "        epoch = int(fields[0])\n",
    "        x.append(epoch/300)\n",
    "        y_depth.append(float(fields[1].split()[4]))\n",
    "        y_mask.append(float(fields[2].split()[4]))\n",
    "        y_total.append(float(fields[3].split()[4]))\n",
    "        y_emptyvessel_depth.append(float(fields[4].split()[4]))\n",
    "        y_contentdepth.append(float(fields[5].split()[4]))\n",
    "        y_vesselopening_depth.append(float(fields[6].split()[4]))\n",
    "        y_vesselmask.append(float(fields[7].split()[4]))\n",
    "        y_contentmaskclean.append(float(fields[8].split()[4]))\n",
    "        y_vesselopeningmask.append(float(fields[9].split()[4]))\n",
    "\n",
    "# plot the data\n",
    "plt.figure(figsize=(6.3, 4))\n",
    "#plt.plot(x, y_depth, label=\"Depth\")\n",
    "#plt.plot(x, y_mask, label=\"Mask\")\n",
    "#plt.plot(x, y_total, label=\"Total\")\n",
    "# only plot 75 % of the data\n",
    "total = len(x)\n",
    "p = 0.44\n",
    "x = x[:int(total*p)]\n",
    "y_depth = y_depth[:int(total*p)]\n",
    "\n",
    "plt.plot(x, y_emptyvessel_depth[:int(total*p)], label=\"Vessel Depth\")\n",
    "plt.plot(x, y_contentdepth[:int(total*p)], label=\"Liquid Depth\")\n",
    "plt.plot(x, y_vesselopening_depth[:int(total*p)], label=\"Vessel Opening Depth\")\n",
    "plt.plot(x, y_vesselmask[:int(total*p)], label=\"Vessel Mask\")\n",
    "plt.plot(x, y_contentmaskclean[:int(total*p)], label=\"Liquid Mask\")\n",
    "plt.plot(x, y_vesselopeningmask[:int(total*p)], label=\"Vessel Opening Mask\")\n",
    "plt.legend()\n",
    "plt.xlabel(\"Epoch\")\n",
    "plt.ylabel(\"Average Category Loss\")\n",
    "plt.title(\"Average Category Losses over Epochs in Training\")\n",
    "plt.tight_layout()\n",
    "plt.savefig(\"../output/losses.png\", format=\"png\", dpi=600)\n",
    "plt.show()"
   ]
  },
  {
   "cell_type": "code",
   "execution_count": null,
   "metadata": {},
   "outputs": [],
   "source": []
  }
 ],
 "metadata": {
  "kernelspec": {
   "display_name": "my_environment",
   "language": "python",
   "name": "python3"
  },
  "language_info": {
   "codemirror_mode": {
    "name": "ipython",
    "version": 3
   },
   "file_extension": ".py",
   "mimetype": "text/x-python",
   "name": "python",
   "nbconvert_exporter": "python",
   "pygments_lexer": "ipython3",
   "version": "3.10.4"
  },
  "orig_nbformat": 4,
  "vscode": {
   "interpreter": {
    "hash": "b958890040a4f38e2cc594b1851064d2854515f7d7aa2fa19cd601d43fa6fc79"
   }
  }
 },
 "nbformat": 4,
 "nbformat_minor": 2
}
