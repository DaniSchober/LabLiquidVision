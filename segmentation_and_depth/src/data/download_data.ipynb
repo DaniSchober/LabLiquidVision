{
 "cells": [
  {
   "cell_type": "code",
   "execution_count": null,
   "metadata": {},
   "outputs": [],
   "source": []
  }
 ],
 "metadata": {
  "kernelspec": {
   "display_name": "my_environment",
   "language": "python",
   "name": "python3"
  },
  "language_info": {
   "name": "python",
   "version": "3.10.4"
  },
  "orig_nbformat": 4,
  "vscode": {
   "interpreter": {
    "hash": "b958890040a4f38e2cc594b1851064d2854515f7d7aa2fa19cd601d43fa6fc79"
   }
  }
 },
 "nbformat": 4,
 "nbformat_minor": 2
}
